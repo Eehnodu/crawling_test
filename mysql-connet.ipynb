{
 "cells": [
  {
   "cell_type": "code",
   "execution_count": 1,
   "id": "85a599ed-2446-42d3-b852-2d9857cee057",
   "metadata": {
    "tags": []
   },
   "outputs": [],
   "source": [
    "from tqdm import tqdm"
   ]
  },
  {
   "cell_type": "code",
   "execution_count": 12,
   "id": "c6da8454-497c-41e6-b002-a9b5410d1a6b",
   "metadata": {
    "tags": []
   },
   "outputs": [],
   "source": [
    "import pymysql\n",
    "conn = pymysql.connect(\n",
    "        host='project-db-cgi.smhrd.com',\n",
    "        port=3307,\n",
    "        user='ehroqkfdbcah',\n",
    "        password='q1w2e3!@#',\n",
    "        db='ehroqkfdbcah',\n",
    "        charset='utf8'\n",
    "    )"
   ]
  },
  {
   "cell_type": "code",
   "execution_count": 12,
   "id": "09fc09bb-38c7-401a-bc57-c1283eda5b13",
   "metadata": {
    "tags": []
   },
   "outputs": [],
   "source": [
    "import json\n",
    "# JSON 파일 로딩\n",
    "with open('merge_curation_data.json', 'r',encoding='utf-8') as file:\n",
    "    data = json.load(file)"
   ]
  },
  {
   "cell_type": "code",
   "execution_count": 13,
   "id": "daa0c806-679f-4471-9ab5-c75f39e4752c",
   "metadata": {
    "collapsed": true,
    "jupyter": {
     "outputs_hidden": true
    },
    "tags": []
   },
   "outputs": [
    {
     "name": "stderr",
     "output_type": "stream",
     "text": [
      " 62%|███████████████████████████████████████████████                             | 45525/73575 [12:12<07:31, 62.13it/s]\n"
     ]
    },
    {
     "ename": "DataError",
     "evalue": "(1366, \"Incorrect string value: '\\\\xF0\\\\x9F\\\\x8D\\\\x90\\\\xE3\\\\x85...' for column 'curHead' at row 1\")",
     "output_type": "error",
     "traceback": [
      "\u001b[1;31m---------------------------------------------------------------------------\u001b[0m",
      "\u001b[1;31mDataError\u001b[0m                                 Traceback (most recent call last)",
      "Cell \u001b[1;32mIn[13], line 22\u001b[0m\n\u001b[0;32m      9\u001b[0m     sql \u001b[38;5;241m=\u001b[39m \u001b[38;5;124m\"\"\"\u001b[39m\n\u001b[0;32m     10\u001b[0m \u001b[38;5;124m    INSERT INTO tb_curation (curColor, curPer, curObject, curHead, curTitle, curExplain, curArtist) \u001b[39m\n\u001b[0;32m     11\u001b[0m \u001b[38;5;124m    VALUES (\u001b[39m\u001b[38;5;132;01m%s\u001b[39;00m\u001b[38;5;124m, \u001b[39m\u001b[38;5;132;01m%s\u001b[39;00m\u001b[38;5;124m, \u001b[39m\u001b[38;5;132;01m%s\u001b[39;00m\u001b[38;5;124m, \u001b[39m\u001b[38;5;132;01m%s\u001b[39;00m\u001b[38;5;124m, \u001b[39m\u001b[38;5;132;01m%s\u001b[39;00m\u001b[38;5;124m, \u001b[39m\u001b[38;5;132;01m%s\u001b[39;00m\u001b[38;5;124m, \u001b[39m\u001b[38;5;132;01m%s\u001b[39;00m\u001b[38;5;124m)\u001b[39m\n\u001b[0;32m     12\u001b[0m \u001b[38;5;124m    \u001b[39m\u001b[38;5;124m\"\"\"\u001b[39m\n\u001b[0;32m     13\u001b[0m     val \u001b[38;5;241m=\u001b[39m (\n\u001b[0;32m     14\u001b[0m         item[\u001b[38;5;124m\"\u001b[39m\u001b[38;5;124mcurColor\u001b[39m\u001b[38;5;124m\"\u001b[39m],  \u001b[38;5;66;03m# color\u001b[39;00m\n\u001b[0;32m     15\u001b[0m         item[\u001b[38;5;124m\"\u001b[39m\u001b[38;5;124mcurPer\u001b[39m\u001b[38;5;124m\"\u001b[39m],  \u001b[38;5;66;03m# percentage\u001b[39;00m\n\u001b[1;32m   (...)\u001b[0m\n\u001b[0;32m     20\u001b[0m         item[\u001b[38;5;124m\"\u001b[39m\u001b[38;5;124mcurArtist\u001b[39m\u001b[38;5;124m\"\u001b[39m]  \u001b[38;5;66;03m# artist\u001b[39;00m\n\u001b[0;32m     21\u001b[0m     )\n\u001b[1;32m---> 22\u001b[0m     cur\u001b[38;5;241m.\u001b[39mexecute(sql, val)\n\u001b[0;32m     24\u001b[0m \u001b[38;5;66;03m# 변경 사항 저장 및 연결 종료\u001b[39;00m\n\u001b[0;32m     25\u001b[0m conn\u001b[38;5;241m.\u001b[39mcommit()\n",
      "File \u001b[1;32m~\\anaconda3\\Lib\\site-packages\\pymysql\\cursors.py:153\u001b[0m, in \u001b[0;36mCursor.execute\u001b[1;34m(self, query, args)\u001b[0m\n\u001b[0;32m    149\u001b[0m     \u001b[38;5;28;01mpass\u001b[39;00m\n\u001b[0;32m    151\u001b[0m query \u001b[38;5;241m=\u001b[39m \u001b[38;5;28mself\u001b[39m\u001b[38;5;241m.\u001b[39mmogrify(query, args)\n\u001b[1;32m--> 153\u001b[0m result \u001b[38;5;241m=\u001b[39m \u001b[38;5;28mself\u001b[39m\u001b[38;5;241m.\u001b[39m_query(query)\n\u001b[0;32m    154\u001b[0m \u001b[38;5;28mself\u001b[39m\u001b[38;5;241m.\u001b[39m_executed \u001b[38;5;241m=\u001b[39m query\n\u001b[0;32m    155\u001b[0m \u001b[38;5;28;01mreturn\u001b[39;00m result\n",
      "File \u001b[1;32m~\\anaconda3\\Lib\\site-packages\\pymysql\\cursors.py:322\u001b[0m, in \u001b[0;36mCursor._query\u001b[1;34m(self, q)\u001b[0m\n\u001b[0;32m    320\u001b[0m conn \u001b[38;5;241m=\u001b[39m \u001b[38;5;28mself\u001b[39m\u001b[38;5;241m.\u001b[39m_get_db()\n\u001b[0;32m    321\u001b[0m \u001b[38;5;28mself\u001b[39m\u001b[38;5;241m.\u001b[39m_clear_result()\n\u001b[1;32m--> 322\u001b[0m conn\u001b[38;5;241m.\u001b[39mquery(q)\n\u001b[0;32m    323\u001b[0m \u001b[38;5;28mself\u001b[39m\u001b[38;5;241m.\u001b[39m_do_get_result()\n\u001b[0;32m    324\u001b[0m \u001b[38;5;28;01mreturn\u001b[39;00m \u001b[38;5;28mself\u001b[39m\u001b[38;5;241m.\u001b[39mrowcount\n",
      "File \u001b[1;32m~\\anaconda3\\Lib\\site-packages\\pymysql\\connections.py:563\u001b[0m, in \u001b[0;36mConnection.query\u001b[1;34m(self, sql, unbuffered)\u001b[0m\n\u001b[0;32m    561\u001b[0m     sql \u001b[38;5;241m=\u001b[39m sql\u001b[38;5;241m.\u001b[39mencode(\u001b[38;5;28mself\u001b[39m\u001b[38;5;241m.\u001b[39mencoding, \u001b[38;5;124m\"\u001b[39m\u001b[38;5;124msurrogateescape\u001b[39m\u001b[38;5;124m\"\u001b[39m)\n\u001b[0;32m    562\u001b[0m \u001b[38;5;28mself\u001b[39m\u001b[38;5;241m.\u001b[39m_execute_command(COMMAND\u001b[38;5;241m.\u001b[39mCOM_QUERY, sql)\n\u001b[1;32m--> 563\u001b[0m \u001b[38;5;28mself\u001b[39m\u001b[38;5;241m.\u001b[39m_affected_rows \u001b[38;5;241m=\u001b[39m \u001b[38;5;28mself\u001b[39m\u001b[38;5;241m.\u001b[39m_read_query_result(unbuffered\u001b[38;5;241m=\u001b[39munbuffered)\n\u001b[0;32m    564\u001b[0m \u001b[38;5;28;01mreturn\u001b[39;00m \u001b[38;5;28mself\u001b[39m\u001b[38;5;241m.\u001b[39m_affected_rows\n",
      "File \u001b[1;32m~\\anaconda3\\Lib\\site-packages\\pymysql\\connections.py:825\u001b[0m, in \u001b[0;36mConnection._read_query_result\u001b[1;34m(self, unbuffered)\u001b[0m\n\u001b[0;32m    823\u001b[0m \u001b[38;5;28;01melse\u001b[39;00m:\n\u001b[0;32m    824\u001b[0m     result \u001b[38;5;241m=\u001b[39m MySQLResult(\u001b[38;5;28mself\u001b[39m)\n\u001b[1;32m--> 825\u001b[0m     result\u001b[38;5;241m.\u001b[39mread()\n\u001b[0;32m    826\u001b[0m \u001b[38;5;28mself\u001b[39m\u001b[38;5;241m.\u001b[39m_result \u001b[38;5;241m=\u001b[39m result\n\u001b[0;32m    827\u001b[0m \u001b[38;5;28;01mif\u001b[39;00m result\u001b[38;5;241m.\u001b[39mserver_status \u001b[38;5;129;01mis\u001b[39;00m \u001b[38;5;129;01mnot\u001b[39;00m \u001b[38;5;28;01mNone\u001b[39;00m:\n",
      "File \u001b[1;32m~\\anaconda3\\Lib\\site-packages\\pymysql\\connections.py:1199\u001b[0m, in \u001b[0;36mMySQLResult.read\u001b[1;34m(self)\u001b[0m\n\u001b[0;32m   1197\u001b[0m \u001b[38;5;28;01mdef\u001b[39;00m \u001b[38;5;21mread\u001b[39m(\u001b[38;5;28mself\u001b[39m):\n\u001b[0;32m   1198\u001b[0m     \u001b[38;5;28;01mtry\u001b[39;00m:\n\u001b[1;32m-> 1199\u001b[0m         first_packet \u001b[38;5;241m=\u001b[39m \u001b[38;5;28mself\u001b[39m\u001b[38;5;241m.\u001b[39mconnection\u001b[38;5;241m.\u001b[39m_read_packet()\n\u001b[0;32m   1201\u001b[0m         \u001b[38;5;28;01mif\u001b[39;00m first_packet\u001b[38;5;241m.\u001b[39mis_ok_packet():\n\u001b[0;32m   1202\u001b[0m             \u001b[38;5;28mself\u001b[39m\u001b[38;5;241m.\u001b[39m_read_ok_packet(first_packet)\n",
      "File \u001b[1;32m~\\anaconda3\\Lib\\site-packages\\pymysql\\connections.py:775\u001b[0m, in \u001b[0;36mConnection._read_packet\u001b[1;34m(self, packet_type)\u001b[0m\n\u001b[0;32m    773\u001b[0m     \u001b[38;5;28;01mif\u001b[39;00m \u001b[38;5;28mself\u001b[39m\u001b[38;5;241m.\u001b[39m_result \u001b[38;5;129;01mis\u001b[39;00m \u001b[38;5;129;01mnot\u001b[39;00m \u001b[38;5;28;01mNone\u001b[39;00m \u001b[38;5;129;01mand\u001b[39;00m \u001b[38;5;28mself\u001b[39m\u001b[38;5;241m.\u001b[39m_result\u001b[38;5;241m.\u001b[39munbuffered_active \u001b[38;5;129;01mis\u001b[39;00m \u001b[38;5;28;01mTrue\u001b[39;00m:\n\u001b[0;32m    774\u001b[0m         \u001b[38;5;28mself\u001b[39m\u001b[38;5;241m.\u001b[39m_result\u001b[38;5;241m.\u001b[39munbuffered_active \u001b[38;5;241m=\u001b[39m \u001b[38;5;28;01mFalse\u001b[39;00m\n\u001b[1;32m--> 775\u001b[0m     packet\u001b[38;5;241m.\u001b[39mraise_for_error()\n\u001b[0;32m    776\u001b[0m \u001b[38;5;28;01mreturn\u001b[39;00m packet\n",
      "File \u001b[1;32m~\\anaconda3\\Lib\\site-packages\\pymysql\\protocol.py:219\u001b[0m, in \u001b[0;36mMysqlPacket.raise_for_error\u001b[1;34m(self)\u001b[0m\n\u001b[0;32m    217\u001b[0m \u001b[38;5;28;01mif\u001b[39;00m DEBUG:\n\u001b[0;32m    218\u001b[0m     \u001b[38;5;28mprint\u001b[39m(\u001b[38;5;124m\"\u001b[39m\u001b[38;5;124merrno =\u001b[39m\u001b[38;5;124m\"\u001b[39m, errno)\n\u001b[1;32m--> 219\u001b[0m err\u001b[38;5;241m.\u001b[39mraise_mysql_exception(\u001b[38;5;28mself\u001b[39m\u001b[38;5;241m.\u001b[39m_data)\n",
      "File \u001b[1;32m~\\anaconda3\\Lib\\site-packages\\pymysql\\err.py:150\u001b[0m, in \u001b[0;36mraise_mysql_exception\u001b[1;34m(data)\u001b[0m\n\u001b[0;32m    148\u001b[0m \u001b[38;5;28;01mif\u001b[39;00m errorclass \u001b[38;5;129;01mis\u001b[39;00m \u001b[38;5;28;01mNone\u001b[39;00m:\n\u001b[0;32m    149\u001b[0m     errorclass \u001b[38;5;241m=\u001b[39m InternalError \u001b[38;5;28;01mif\u001b[39;00m errno \u001b[38;5;241m<\u001b[39m \u001b[38;5;241m1000\u001b[39m \u001b[38;5;28;01melse\u001b[39;00m OperationalError\n\u001b[1;32m--> 150\u001b[0m \u001b[38;5;28;01mraise\u001b[39;00m errorclass(errno, errval)\n",
      "\u001b[1;31mDataError\u001b[0m: (1366, \"Incorrect string value: '\\\\xF0\\\\x9F\\\\x8D\\\\x90\\\\xE3\\\\x85...' for column 'curHead' at row 1\")"
     ]
    }
   ],
   "source": [
    "cur = conn.cursor()\n",
    "\n",
    "# JSON 파일 로딩\n",
    "with open('merge_curation_data.json', 'r', encoding='utf-8') as file:\n",
    "    data = json.load(file)\n",
    "\n",
    "# JSON 데이터를 SQL로 변환하여 삽입\n",
    "for item in tqdm(data):\n",
    "    sql = \"\"\"\n",
    "    INSERT INTO tb_curation (curColor, curPer, curObject, curHead, curTitle, curExplain, curArtist) \n",
    "    VALUES (%s, %s, %s, %s, %s, %s, %s)\n",
    "    \"\"\"\n",
    "    val = (\n",
    "        item[\"curColor\"],  # color\n",
    "        item[\"curPer\"],  # percentage\n",
    "        item[\"curObject\"],  # object\n",
    "        item[\"curHead\"],  # title\n",
    "        item[\"curTitle\"],  # song_name\n",
    "        item[\"curExplain\"],  # description\n",
    "        item[\"curArtist\"]  # artist\n",
    "    )\n",
    "    cur.execute(sql, val)\n",
    "\n",
    "# 변경 사항 저장 및 연결 종료\n",
    "conn.commit()\n",
    "conn.close()"
   ]
  },
  {
   "cell_type": "code",
   "execution_count": 10,
   "id": "c8f501b5-a492-4758-a2c3-7c4e5445b628",
   "metadata": {},
   "outputs": [
    {
     "data": {
      "text/html": [
       "<div>\n",
       "<style scoped>\n",
       "    .dataframe tbody tr th:only-of-type {\n",
       "        vertical-align: middle;\n",
       "    }\n",
       "\n",
       "    .dataframe tbody tr th {\n",
       "        vertical-align: top;\n",
       "    }\n",
       "\n",
       "    .dataframe thead th {\n",
       "        text-align: right;\n",
       "    }\n",
       "</style>\n",
       "<table border=\"1\" class=\"dataframe\">\n",
       "  <thead>\n",
       "    <tr style=\"text-align: right;\">\n",
       "      <th></th>\n",
       "      <th>albumCov</th>\n",
       "      <th>title</th>\n",
       "      <th>artistIdx</th>\n",
       "      <th>albumIdx</th>\n",
       "      <th>genreIdx</th>\n",
       "      <th>releasedAt</th>\n",
       "      <th>lyrics</th>\n",
       "    </tr>\n",
       "  </thead>\n",
       "  <tbody>\n",
       "    <tr>\n",
       "      <th>0</th>\n",
       "      <td>https://cdnimg.melon.co.kr/cm2/album/images/10...</td>\n",
       "      <td>Until I Found You</td>\n",
       "      <td>Stephen Sanchez</td>\n",
       "      <td>Until I Found You</td>\n",
       "      <td>포크</td>\n",
       "      <td>2021.09.01</td>\n",
       "      <td>Georgia, Wrap me up in all your...\\nI want ya'...</td>\n",
       "    </tr>\n",
       "    <tr>\n",
       "      <th>1</th>\n",
       "      <td>https://cdnimg.melon.co.kr/cm2/album/images/11...</td>\n",
       "      <td>IT'S YOU (feat. keshi)</td>\n",
       "      <td>MAX</td>\n",
       "      <td>LOVE IN STEREO</td>\n",
       "      <td>POP</td>\n",
       "      <td>2024.02.16</td>\n",
       "      <td>Mm-hmm, no-oh, yeah, yeah\\n\\nIt's you\\nLoving'...</td>\n",
       "    </tr>\n",
       "    <tr>\n",
       "      <th>2</th>\n",
       "      <td>https://cdnimg.melon.co.kr/cm2/album/images/10...</td>\n",
       "      <td>UNDERSTAND</td>\n",
       "      <td>keshi</td>\n",
       "      <td>GABRIEL (Korean Special Edition)</td>\n",
       "      <td>POP</td>\n",
       "      <td>2022.03.25</td>\n",
       "      <td>Never thought that I'd find\\nThat the one in m...</td>\n",
       "    </tr>\n",
       "    <tr>\n",
       "      <th>3</th>\n",
       "      <td>https://cdnimg.melon.co.kr/cm2/album/images/10...</td>\n",
       "      <td>stars</td>\n",
       "      <td>Arash Buana</td>\n",
       "      <td>stars</td>\n",
       "      <td>POP</td>\n",
       "      <td>2021.02.28</td>\n",
       "      <td>NaN</td>\n",
       "    </tr>\n",
       "    <tr>\n",
       "      <th>4</th>\n",
       "      <td>https://cdnimg.melon.co.kr/cm2/album/images/11...</td>\n",
       "      <td>Till There Was You</td>\n",
       "      <td>Imaginary Future</td>\n",
       "      <td>Till There Was You</td>\n",
       "      <td>POP</td>\n",
       "      <td>2023.05.02</td>\n",
       "      <td>NaN</td>\n",
       "    </tr>\n",
       "    <tr>\n",
       "      <th>...</th>\n",
       "      <td>...</td>\n",
       "      <td>...</td>\n",
       "      <td>...</td>\n",
       "      <td>...</td>\n",
       "      <td>...</td>\n",
       "      <td>...</td>\n",
       "      <td>...</td>\n",
       "    </tr>\n",
       "    <tr>\n",
       "      <th>18647</th>\n",
       "      <td>https://cdnimg.melon.co.kr/cm2/album/images/10...</td>\n",
       "      <td>찌질이</td>\n",
       "      <td>안재우</td>\n",
       "      <td>나쁜년</td>\n",
       "      <td>R&amp;B/Soul, 인디음악</td>\n",
       "      <td>2021.01.05</td>\n",
       "      <td>그냥 그때 돌아서지 말걸\\n라고 뱉으며 나 후회는\\n한 백번 천번쯤에\\n찌그러진 맘...</td>\n",
       "    </tr>\n",
       "    <tr>\n",
       "      <th>18648</th>\n",
       "      <td>https://cdnimg.melon.co.kr/cm2/album/images/10...</td>\n",
       "      <td>She Said (with BIBI)</td>\n",
       "      <td>Crush</td>\n",
       "      <td>with HER</td>\n",
       "      <td>랩/힙합</td>\n",
       "      <td>2020.10.20</td>\n",
       "      <td>청소년 보호법에 따라 성인 인증이 필요한 콘텐츠 입니다. 성인 인증 후 이용해 주세...</td>\n",
       "    </tr>\n",
       "    <tr>\n",
       "      <th>18649</th>\n",
       "      <td>https://cdnimg.melon.co.kr/cm2/album/images/10...</td>\n",
       "      <td>Do It For Love (Feat. 죠지)</td>\n",
       "      <td>THAMA</td>\n",
       "      <td>Do It For Love</td>\n",
       "      <td>R&amp;B/Soul</td>\n",
       "      <td>2020.06.24</td>\n",
       "      <td>아침햇살은 밝아\\n텅 빈 하루를 살아 난\\n나이는 적지 않아\\n가끔씩 궁금해져\\n어...</td>\n",
       "    </tr>\n",
       "    <tr>\n",
       "      <th>18650</th>\n",
       "      <td>https://cdnimg.melon.co.kr/cm2/album/images/10...</td>\n",
       "      <td>몇번째 (Song By 찬현)</td>\n",
       "      <td>KozyPop</td>\n",
       "      <td>Seoul Vibes Pt.15</td>\n",
       "      <td>R&amp;B/Soul, 인디음악</td>\n",
       "      <td>2020.04.15</td>\n",
       "      <td>I love u 근데 나는 너무 아퍼\\n내 맘을 아는 거면 너는 진짜 나뻐\\n안 하...</td>\n",
       "    </tr>\n",
       "    <tr>\n",
       "      <th>18651</th>\n",
       "      <td>https://cdnimg.melon.co.kr/cm2/album/images/10...</td>\n",
       "      <td>aura (Feat.샘김 (Sam Kim))</td>\n",
       "      <td>죠지</td>\n",
       "      <td>LEEEE</td>\n",
       "      <td>R&amp;B/Soul</td>\n",
       "      <td>2019.10.03</td>\n",
       "      <td>you and me are different\\nand i know it\\n그런 네가...</td>\n",
       "    </tr>\n",
       "  </tbody>\n",
       "</table>\n",
       "<p>18652 rows × 7 columns</p>\n",
       "</div>"
      ],
      "text/plain": [
       "                                                albumCov  \\\n",
       "0      https://cdnimg.melon.co.kr/cm2/album/images/10...   \n",
       "1      https://cdnimg.melon.co.kr/cm2/album/images/11...   \n",
       "2      https://cdnimg.melon.co.kr/cm2/album/images/10...   \n",
       "3      https://cdnimg.melon.co.kr/cm2/album/images/10...   \n",
       "4      https://cdnimg.melon.co.kr/cm2/album/images/11...   \n",
       "...                                                  ...   \n",
       "18647  https://cdnimg.melon.co.kr/cm2/album/images/10...   \n",
       "18648  https://cdnimg.melon.co.kr/cm2/album/images/10...   \n",
       "18649  https://cdnimg.melon.co.kr/cm2/album/images/10...   \n",
       "18650  https://cdnimg.melon.co.kr/cm2/album/images/10...   \n",
       "18651  https://cdnimg.melon.co.kr/cm2/album/images/10...   \n",
       "\n",
       "                           title         artistIdx  \\\n",
       "0              Until I Found You   Stephen Sanchez   \n",
       "1         IT'S YOU (feat. keshi)               MAX   \n",
       "2                     UNDERSTAND             keshi   \n",
       "3                          stars       Arash Buana   \n",
       "4             Till There Was You  Imaginary Future   \n",
       "...                          ...               ...   \n",
       "18647                        찌질이               안재우   \n",
       "18648       She Said (with BIBI)             Crush   \n",
       "18649  Do It For Love (Feat. 죠지)             THAMA   \n",
       "18650           몇번째 (Song By 찬현)           KozyPop   \n",
       "18651   aura (Feat.샘김 (Sam Kim))                죠지   \n",
       "\n",
       "                               albumIdx        genreIdx  releasedAt  \\\n",
       "0                     Until I Found You              포크  2021.09.01   \n",
       "1                        LOVE IN STEREO             POP  2024.02.16   \n",
       "2      GABRIEL (Korean Special Edition)             POP  2022.03.25   \n",
       "3                                 stars             POP  2021.02.28   \n",
       "4                    Till There Was You             POP  2023.05.02   \n",
       "...                                 ...             ...         ...   \n",
       "18647                               나쁜년  R&B/Soul, 인디음악  2021.01.05   \n",
       "18648                          with HER            랩/힙합  2020.10.20   \n",
       "18649                    Do It For Love        R&B/Soul  2020.06.24   \n",
       "18650                 Seoul Vibes Pt.15  R&B/Soul, 인디음악  2020.04.15   \n",
       "18651                             LEEEE        R&B/Soul  2019.10.03   \n",
       "\n",
       "                                                  lyrics  \n",
       "0      Georgia, Wrap me up in all your...\\nI want ya'...  \n",
       "1      Mm-hmm, no-oh, yeah, yeah\\n\\nIt's you\\nLoving'...  \n",
       "2      Never thought that I'd find\\nThat the one in m...  \n",
       "3                                                    NaN  \n",
       "4                                                    NaN  \n",
       "...                                                  ...  \n",
       "18647  그냥 그때 돌아서지 말걸\\n라고 뱉으며 나 후회는\\n한 백번 천번쯤에\\n찌그러진 맘...  \n",
       "18648  청소년 보호법에 따라 성인 인증이 필요한 콘텐츠 입니다. 성인 인증 후 이용해 주세...  \n",
       "18649  아침햇살은 밝아\\n텅 빈 하루를 살아 난\\n나이는 적지 않아\\n가끔씩 궁금해져\\n어...  \n",
       "18650  I love u 근데 나는 너무 아퍼\\n내 맘을 아는 거면 너는 진짜 나뻐\\n안 하...  \n",
       "18651  you and me are different\\nand i know it\\n그런 네가...  \n",
       "\n",
       "[18652 rows x 7 columns]"
      ]
     },
     "execution_count": 10,
     "metadata": {},
     "output_type": "execute_result"
    }
   ],
   "source": [
    "df"
   ]
  },
  {
   "cell_type": "code",
   "execution_count": 83,
   "id": "cfb92295-eaeb-4885-b2a7-2d304084c727",
   "metadata": {
    "tags": []
   },
   "outputs": [],
   "source": [
    "df = pd.read_csv('melon_data/멜론통합.csv')"
   ]
  },
  {
   "cell_type": "code",
   "execution_count": 84,
   "id": "042a6340-059b-4de6-bd28-9d5c2f9d8ad1",
   "metadata": {
    "tags": []
   },
   "outputs": [
    {
     "name": "stdout",
     "output_type": "stream",
     "text": [
      "Mm-hmm, no-oh, yeah, yeah\n",
      "\n",
      "It's you\n",
      "Loving's so easy to do\n",
      "Yeah, it's easy, baby\n",
      "Oh, ooh-ooh\n",
      "Think that I'm falling for you\n",
      "Yeah, it's easy (You got to get a hold of yourself)\n",
      "\n",
      "Another Sunday afternoon\n",
      "And I'm still in bed with you\n",
      "Nothing else I wanna do, no\n",
      "Order from that place you like (You like)\n",
      "We don't need to go outside (Outside)\n",
      "Something 'bout you feels so right (Feels so right)\n",
      "\n",
      "Can we stay like this forever?\n",
      "White dress or whatever\n",
      "I keep dreaming there's a somewhere\n",
      "That we grow old together\n",
      "\n",
      "It's you\n",
      "Loving's so easy to do\n",
      "Yeah, it's easy, baby\n",
      "Oh, ooh-ooh\n",
      "Think that I'm falling for you\n",
      "Yeah, it's easy\n",
      "\n",
      "I met you at the right time\n",
      "See you and I'm still excited\n",
      "Sittin' in that shirt of mine\n",
      "A little big but I like it\n",
      "\n",
      "Snacks in the late night\n",
      "We don't need to do fine dining\n",
      "Make love when the sunrise\n",
      "Pillow talk in silence\n",
      "\n",
      "Like this forever (Forever)\n",
      "White dress or whatever\n",
      "I keep dreaming there's a somewhere\n",
      "That we grow old together\n",
      "In a van or in a mansion\n",
      "Raining but we're dancing\n",
      "There's a billion people out there\n",
      "I can't believe the chances\n",
      "\n",
      "It's you\n",
      "Loving's so easy to do (To do)\n",
      "Yeah, it's easy, baby (Yeah)\n",
      "Oh, ooh-ooh (Yeah-ooh, uh)\n",
      "Think that I'm falling for you (For you, yeah)\n",
      "Yeah, it's easy (Ooh)\n",
      "\n",
      "Loving's so easy to do (Ooh, ooh, ooh)\n",
      "Yeah, it's easy (It is easy)\n",
      "\n"
     ]
    }
   ],
   "source": [
    "# replace() 메서드로 문자열 치환\n",
    "df['lyrics'] = df['lyrics'].str.replace('\\n펼치기', '')\n",
    "print(df['lyrics'][1])"
   ]
  },
  {
   "cell_type": "code",
   "execution_count": 85,
   "id": "e43af059-0756-49d6-90df-11b6211d3ba5",
   "metadata": {},
   "outputs": [],
   "source": [
    "import numpy as np\n",
    "df['releasedAt'] = df['releasedAt'].str.replace('-', '0001.01.01', regex=True)\n",
    "\n",
    "# 년도만 있는 경우 '.01.01' 추가\n",
    "df['releasedAt'] = df['releasedAt'].str.replace(r'(\\d{4})$', r'\\1.01.01', regex=True)\n",
    "\n",
    "# 년도와 월만 있는 경우 '.01' 추가\n",
    "df['releasedAt'] = df['releasedAt'].str.replace(r'(\\d{4}\\.\\d{2})$', r'\\1.01', regex=True)\n",
    "\n",
    "df['year'] = df['releasedAt'].str[:4]"
   ]
  },
  {
   "cell_type": "code",
   "execution_count": 86,
   "id": "9a05b58c-13e2-4cac-b638-2266f41bcf59",
   "metadata": {},
   "outputs": [],
   "source": [
    "df.to_csv('melon_data/melon_full_data.csv', index=False, encoding=\"utf-8-sig\")"
   ]
  },
  {
   "cell_type": "code",
   "execution_count": 89,
   "id": "97e4fe4e-be71-465a-85c3-f637bc32f561",
   "metadata": {
    "tags": []
   },
   "outputs": [
    {
     "name": "stderr",
     "output_type": "stream",
     "text": [
      "100%|██████████| 18652/18652 [07:13<00:00, 43.02it/s]\n"
     ]
    }
   ],
   "source": [
    "import json\n",
    "import re\n",
    "import pandas as pd\n",
    "import csv\n",
    "import pymysql\n",
    "\n",
    "import pymysql\n",
    "conn = pymysql.connect(\n",
    "        host='project-db-cgi.smhrd.com',\n",
    "        port=3307,\n",
    "        user='ehroqkfdbcah',\n",
    "        password='q1w2e3!@#',\n",
    "        db='ehroqkfdbcah',\n",
    "        charset='utf8'\n",
    "    )\n",
    "\n",
    "# MySQL 커서 생성\n",
    "cursor = conn.cursor()\n",
    "\n",
    "# CSV 파일 경로\n",
    "csv_file_path = \"melon_data/melon_full_data.csv\"\n",
    "\n",
    "# CSV 파일 읽기\n",
    "with open(csv_file_path, 'r', encoding='utf-8') as csv_file:\n",
    "    csv_reader = csv.reader(csv_file)\n",
    "    # 첫 번째 행은 헤더이므로 건너뜁니다\n",
    "    next(csv_reader)\n",
    "    rows = list(csv_reader)\n",
    "\n",
    "# MySQL 테이블 이름\n",
    "table_name = \"tb_music\"\n",
    "\n",
    "# SQL 쿼리 생성\n",
    "sql = f\"INSERT INTO {table_name} (albumCov, title, artistIdx, albumIdx, genreIdx, releasedAt, lyrics, year) VALUES (%s, %s, %s, %s, %s, %s, %s, %s)\"\n",
    "\n",
    "# CSV 데이터를 MySQL 데이터베이스에 삽입\n",
    "for row in tqdm(rows):\n",
    "    cursor.execute(sql, row)\n",
    "\n",
    "# 변경 사항 커밋\n",
    "conn.commit()\n",
    "\n",
    "# MySQL 연결 종료\n",
    "conn.close()"
   ]
  },
  {
   "cell_type": "code",
   "execution_count": 88,
   "id": "8d4488b3-e08a-4a08-b4f0-8f9467f718eb",
   "metadata": {},
   "outputs": [
    {
     "data": {
      "text/plain": [
       "'0001.01.01'"
      ]
     },
     "execution_count": 88,
     "metadata": {},
     "output_type": "execute_result"
    }
   ],
   "source": [
    "df['releasedAt'][6954]"
   ]
  },
  {
   "cell_type": "code",
   "execution_count": null,
   "id": "0c3a50ff-aac9-4317-9d0c-95bc3e440312",
   "metadata": {},
   "outputs": [],
   "source": []
  },
  {
   "cell_type": "code",
   "execution_count": null,
   "id": "494a7c40-221d-419f-a98b-7822ed93748a",
   "metadata": {},
   "outputs": [],
   "source": []
  },
  {
   "cell_type": "code",
   "execution_count": null,
   "id": "0aeb8130-c941-4347-a6f0-fa45618f469e",
   "metadata": {},
   "outputs": [],
   "source": []
  },
  {
   "cell_type": "code",
   "execution_count": null,
   "id": "5e141683-7797-4ee0-9691-0ed211f80df9",
   "metadata": {},
   "outputs": [],
   "source": []
  },
  {
   "cell_type": "code",
   "execution_count": null,
   "id": "67299cb4-4250-4286-8df4-f76f7169a9e3",
   "metadata": {},
   "outputs": [],
   "source": []
  },
  {
   "cell_type": "code",
   "execution_count": null,
   "id": "5ceb80f4-7191-47c7-a9f6-8608abe364b7",
   "metadata": {},
   "outputs": [],
   "source": []
  },
  {
   "cell_type": "code",
   "execution_count": null,
   "id": "975e8cc2-db2c-4c96-bc28-033c5249518c",
   "metadata": {},
   "outputs": [],
   "source": []
  },
  {
   "cell_type": "code",
   "execution_count": null,
   "id": "c9b5b99c-cd7c-499b-b70c-86e99f823a64",
   "metadata": {},
   "outputs": [],
   "source": []
  },
  {
   "cell_type": "code",
   "execution_count": null,
   "id": "e0e34847-c4ef-4fbc-ae6c-7b695a467fdb",
   "metadata": {},
   "outputs": [],
   "source": []
  },
  {
   "cell_type": "code",
   "execution_count": null,
   "id": "92d08ed2-7184-4b18-9d1c-0b2d5f4b750b",
   "metadata": {},
   "outputs": [],
   "source": []
  },
  {
   "cell_type": "code",
   "execution_count": null,
   "id": "f3df9d91-2fc3-4f4c-acbe-a5d25803dea6",
   "metadata": {},
   "outputs": [],
   "source": []
  }
 ],
 "metadata": {
  "kernelspec": {
   "display_name": "Python 3 (ipykernel)",
   "language": "python",
   "name": "python3"
  },
  "language_info": {
   "codemirror_mode": {
    "name": "ipython",
    "version": 3
   },
   "file_extension": ".py",
   "mimetype": "text/x-python",
   "name": "python",
   "nbconvert_exporter": "python",
   "pygments_lexer": "ipython3",
   "version": "3.11.5"
  }
 },
 "nbformat": 4,
 "nbformat_minor": 5
}
