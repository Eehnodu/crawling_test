{
 "cells": [
  {
   "cell_type": "code",
   "execution_count": 40,
   "id": "8ea749fe-c456-4e02-a7a0-9fd3be240ee4",
   "metadata": {
    "tags": []
   },
   "outputs": [],
   "source": [
    "import pandas as pd\n",
    "import re"
   ]
  },
  {
   "cell_type": "code",
   "execution_count": 41,
   "id": "6ce01d8c-4463-4e77-a82e-2018edad6d45",
   "metadata": {
    "tags": []
   },
   "outputs": [
    {
     "data": {
      "text/html": [
       "<div>\n",
       "<style scoped>\n",
       "    .dataframe tbody tr th:only-of-type {\n",
       "        vertical-align: middle;\n",
       "    }\n",
       "\n",
       "    .dataframe tbody tr th {\n",
       "        vertical-align: top;\n",
       "    }\n",
       "\n",
       "    .dataframe thead th {\n",
       "        text-align: right;\n",
       "    }\n",
       "</style>\n",
       "<table border=\"1\" class=\"dataframe\">\n",
       "  <thead>\n",
       "    <tr style=\"text-align: right;\">\n",
       "      <th></th>\n",
       "      <th>albumCov</th>\n",
       "      <th>title</th>\n",
       "      <th>artistIdx</th>\n",
       "      <th>albumIdx</th>\n",
       "      <th>genreIdx</th>\n",
       "      <th>releasedAt</th>\n",
       "      <th>lyrics</th>\n",
       "    </tr>\n",
       "  </thead>\n",
       "  <tbody>\n",
       "    <tr>\n",
       "      <th>0</th>\n",
       "      <td>https://cdnimg.melon.co.kr/cm2/album/images/10...</td>\n",
       "      <td>Until I Found You</td>\n",
       "      <td>Stephen Sanchez</td>\n",
       "      <td>Until I Found You</td>\n",
       "      <td>포크</td>\n",
       "      <td>2021.09.01</td>\n",
       "      <td>Georgia, Wrap me up in all your...\\r\\nI want y...</td>\n",
       "    </tr>\n",
       "    <tr>\n",
       "      <th>1</th>\n",
       "      <td>https://cdnimg.melon.co.kr/cm2/album/images/11...</td>\n",
       "      <td>IT'S YOU (feat. keshi)</td>\n",
       "      <td>MAX</td>\n",
       "      <td>LOVE IN STEREO</td>\n",
       "      <td>POP</td>\n",
       "      <td>2024.02.16</td>\n",
       "      <td>Mm-hmm, no-oh, yeah, yeah\\r\\n\\r\\nIt's you\\r\\nL...</td>\n",
       "    </tr>\n",
       "    <tr>\n",
       "      <th>2</th>\n",
       "      <td>https://cdnimg.melon.co.kr/cm2/album/images/10...</td>\n",
       "      <td>UNDERSTAND</td>\n",
       "      <td>keshi</td>\n",
       "      <td>GABRIEL (Korean Special Edition)</td>\n",
       "      <td>POP</td>\n",
       "      <td>2022.03.25</td>\n",
       "      <td>Never thought that I'd find\\r\\nThat the one in...</td>\n",
       "    </tr>\n",
       "    <tr>\n",
       "      <th>3</th>\n",
       "      <td>https://cdnimg.melon.co.kr/cm2/album/images/10...</td>\n",
       "      <td>stars</td>\n",
       "      <td>Arash Buana</td>\n",
       "      <td>stars</td>\n",
       "      <td>POP</td>\n",
       "      <td>2021.02.28</td>\n",
       "      <td>NaN</td>\n",
       "    </tr>\n",
       "    <tr>\n",
       "      <th>4</th>\n",
       "      <td>https://cdnimg.melon.co.kr/cm2/album/images/11...</td>\n",
       "      <td>Till There Was You</td>\n",
       "      <td>Imaginary Future</td>\n",
       "      <td>Till There Was You</td>\n",
       "      <td>POP</td>\n",
       "      <td>2023.05.02</td>\n",
       "      <td>NaN</td>\n",
       "    </tr>\n",
       "  </tbody>\n",
       "</table>\n",
       "</div>"
      ],
      "text/plain": [
       "                                            albumCov                   title  \\\n",
       "0  https://cdnimg.melon.co.kr/cm2/album/images/10...       Until I Found You   \n",
       "1  https://cdnimg.melon.co.kr/cm2/album/images/11...  IT'S YOU (feat. keshi)   \n",
       "2  https://cdnimg.melon.co.kr/cm2/album/images/10...              UNDERSTAND   \n",
       "3  https://cdnimg.melon.co.kr/cm2/album/images/10...                   stars   \n",
       "4  https://cdnimg.melon.co.kr/cm2/album/images/11...      Till There Was You   \n",
       "\n",
       "          artistIdx                          albumIdx genreIdx  releasedAt  \\\n",
       "0   Stephen Sanchez                 Until I Found You       포크  2021.09.01   \n",
       "1               MAX                    LOVE IN STEREO      POP  2024.02.16   \n",
       "2             keshi  GABRIEL (Korean Special Edition)      POP  2022.03.25   \n",
       "3       Arash Buana                             stars      POP  2021.02.28   \n",
       "4  Imaginary Future                Till There Was You      POP  2023.05.02   \n",
       "\n",
       "                                              lyrics  \n",
       "0  Georgia, Wrap me up in all your...\\r\\nI want y...  \n",
       "1  Mm-hmm, no-oh, yeah, yeah\\r\\n\\r\\nIt's you\\r\\nL...  \n",
       "2  Never thought that I'd find\\r\\nThat the one in...  \n",
       "3                                                NaN  \n",
       "4                                                NaN  "
      ]
     },
     "execution_count": 41,
     "metadata": {},
     "output_type": "execute_result"
    }
   ],
   "source": [
    "melon_df = pd.read_csv('melon_data/멜론통합.csv')\n",
    "melon_df.head(5)"
   ]
  },
  {
   "cell_type": "code",
   "execution_count": 54,
   "id": "b53bb844-2d5d-4170-9822-f0515c13651c",
   "metadata": {
    "tags": []
   },
   "outputs": [
    {
     "data": {
      "text/html": [
       "<div>\n",
       "<style scoped>\n",
       "    .dataframe tbody tr th:only-of-type {\n",
       "        vertical-align: middle;\n",
       "    }\n",
       "\n",
       "    .dataframe tbody tr th {\n",
       "        vertical-align: top;\n",
       "    }\n",
       "\n",
       "    .dataframe thead th {\n",
       "        text-align: right;\n",
       "    }\n",
       "</style>\n",
       "<table border=\"1\" class=\"dataframe\">\n",
       "  <thead>\n",
       "    <tr style=\"text-align: right;\">\n",
       "      <th></th>\n",
       "      <th>img</th>\n",
       "      <th>curHead</th>\n",
       "      <th>curArtist</th>\n",
       "      <th>curTitle</th>\n",
       "      <th>curColor</th>\n",
       "      <th>curPer</th>\n",
       "      <th>curExplain</th>\n",
       "      <th>curObject</th>\n",
       "    </tr>\n",
       "  </thead>\n",
       "  <tbody>\n",
       "    <tr>\n",
       "      <th>0</th>\n",
       "      <td>https://img.youtube.com/vi/G8MoUQHat_c/maxresd...</td>\n",
       "      <td>드라이브할맛나게하는트렌디하고세련된알앤비국내힙합ㅣR&amp;BHipHop</td>\n",
       "      <td>BIGNaughty</td>\n",
       "      <td>Vancouver</td>\n",
       "      <td>Black</td>\n",
       "      <td>50.38</td>\n",
       "      <td>NaN</td>\n",
       "      <td>['바지', '시력 관리', '고글', '색안경', '검정색과 흰색', '플래시 사...</td>\n",
       "    </tr>\n",
       "    <tr>\n",
       "      <th>1</th>\n",
       "      <td>https://img.youtube.com/vi/G8MoUQHat_c/maxresd...</td>\n",
       "      <td>드라이브할맛나게하는트렌디하고세련된알앤비국내힙합ㅣR&amp;BHipHop</td>\n",
       "      <td>BIGNaughty</td>\n",
       "      <td>Vancouver</td>\n",
       "      <td>Grey</td>\n",
       "      <td>22.21</td>\n",
       "      <td>NaN</td>\n",
       "      <td>['바지', '시력 관리', '고글', '색안경', '검정색과 흰색', '플래시 사...</td>\n",
       "    </tr>\n",
       "    <tr>\n",
       "      <th>2</th>\n",
       "      <td>https://img.youtube.com/vi/G8MoUQHat_c/maxresd...</td>\n",
       "      <td>드라이브할맛나게하는트렌디하고세련된알앤비국내힙합ㅣR&amp;BHipHop</td>\n",
       "      <td>BIGNaughty</td>\n",
       "      <td>Vancouver</td>\n",
       "      <td>Grey</td>\n",
       "      <td>9.42</td>\n",
       "      <td>NaN</td>\n",
       "      <td>['바지', '시력 관리', '고글', '색안경', '검정색과 흰색', '플래시 사...</td>\n",
       "    </tr>\n",
       "    <tr>\n",
       "      <th>3</th>\n",
       "      <td>https://img.youtube.com/vi/G8MoUQHat_c/maxresd...</td>\n",
       "      <td>드라이브할맛나게하는트렌디하고세련된알앤비국내힙합ㅣR&amp;BHipHop</td>\n",
       "      <td>박재범</td>\n",
       "      <td>Like I Do</td>\n",
       "      <td>Black</td>\n",
       "      <td>50.38</td>\n",
       "      <td>NaN</td>\n",
       "      <td>['바지', '시력 관리', '고글', '색안경', '검정색과 흰색', '플래시 사...</td>\n",
       "    </tr>\n",
       "    <tr>\n",
       "      <th>4</th>\n",
       "      <td>https://img.youtube.com/vi/G8MoUQHat_c/maxresd...</td>\n",
       "      <td>드라이브할맛나게하는트렌디하고세련된알앤비국내힙합ㅣR&amp;BHipHop</td>\n",
       "      <td>박재범</td>\n",
       "      <td>Like I Do</td>\n",
       "      <td>Grey</td>\n",
       "      <td>22.21</td>\n",
       "      <td>NaN</td>\n",
       "      <td>['바지', '시력 관리', '고글', '색안경', '검정색과 흰색', '플래시 사...</td>\n",
       "    </tr>\n",
       "  </tbody>\n",
       "</table>\n",
       "</div>"
      ],
      "text/plain": [
       "                                                 img  \\\n",
       "0  https://img.youtube.com/vi/G8MoUQHat_c/maxresd...   \n",
       "1  https://img.youtube.com/vi/G8MoUQHat_c/maxresd...   \n",
       "2  https://img.youtube.com/vi/G8MoUQHat_c/maxresd...   \n",
       "3  https://img.youtube.com/vi/G8MoUQHat_c/maxresd...   \n",
       "4  https://img.youtube.com/vi/G8MoUQHat_c/maxresd...   \n",
       "\n",
       "                               curHead   curArtist     curTitle curColor  \\\n",
       "0  드라이브할맛나게하는트렌디하고세련된알앤비국내힙합ㅣR&BHipHop  BIGNaughty  Vancouver      Black   \n",
       "1  드라이브할맛나게하는트렌디하고세련된알앤비국내힙합ㅣR&BHipHop  BIGNaughty  Vancouver       Grey   \n",
       "2  드라이브할맛나게하는트렌디하고세련된알앤비국내힙합ㅣR&BHipHop  BIGNaughty  Vancouver       Grey   \n",
       "3  드라이브할맛나게하는트렌디하고세련된알앤비국내힙합ㅣR&BHipHop         박재범   Like I Do     Black   \n",
       "4  드라이브할맛나게하는트렌디하고세련된알앤비국내힙합ㅣR&BHipHop         박재범   Like I Do      Grey   \n",
       "\n",
       "   curPer curExplain                                          curObject  \n",
       "0   50.38        NaN  ['바지', '시력 관리', '고글', '색안경', '검정색과 흰색', '플래시 사...  \n",
       "1   22.21        NaN  ['바지', '시력 관리', '고글', '색안경', '검정색과 흰색', '플래시 사...  \n",
       "2    9.42        NaN  ['바지', '시력 관리', '고글', '색안경', '검정색과 흰색', '플래시 사...  \n",
       "3   50.38        NaN  ['바지', '시력 관리', '고글', '색안경', '검정색과 흰색', '플래시 사...  \n",
       "4   22.21        NaN  ['바지', '시력 관리', '고글', '색안경', '검정색과 흰색', '플래시 사...  "
      ]
     },
     "execution_count": 54,
     "metadata": {},
     "output_type": "execute_result"
    }
   ],
   "source": [
    "cur_df = pd.read_csv('curation_data/큐레이션통합.csv')\n",
    "cur_df.head(5)"
   ]
  },
  {
   "cell_type": "code",
   "execution_count": 55,
   "id": "983f8d36-4016-4829-97a8-d3488e532251",
   "metadata": {
    "tags": []
   },
   "outputs": [],
   "source": [
    "# 괄호와 괄호 안의 내용을 제거하는 함수\n",
    "def remove_parentheses_content(s):\n",
    "    if pd.isna(s):\n",
    "        return ''\n",
    "    return re.sub(r'\\(.*?\\)', '', s).strip()\n",
    "\n",
    "# 'artistIdx'와 'title' 컬럼에서 괄호와 그 안의 내용 제거\n",
    "melon_df['artistIdx'] = melon_df['artistIdx'].apply(remove_parentheses_content)\n",
    "melon_df['title'] = melon_df['title'].apply(remove_parentheses_content)\n",
    "\n",
    "# 'curArtist'와 'curTitle' 컬럼에서 괄호와 그 안의 내용 제거\n",
    "cur_df['curArtist'] = cur_df['curArtist'].apply(remove_parentheses_content)\n",
    "cur_df['curTitle'] = cur_df['curTitle'].apply(remove_parentheses_content)\n",
    "\n",
    "# 'song' 컬럼 생성: 아티스트와 제목을 결합\n",
    "melon_df['song'] = melon_df['artistIdx'].astype(str) + '-' + melon_df['title']\n",
    "cur_df['song'] = cur_df['curArtist'].astype(str) + '-' + cur_df['curTitle']"
   ]
  },
  {
   "cell_type": "code",
   "execution_count": 56,
   "id": "c053dc30-eed6-42d0-8b5b-8ebce5237a84",
   "metadata": {
    "tags": []
   },
   "outputs": [
    {
     "data": {
      "text/plain": [
       "11010"
      ]
     },
     "execution_count": 56,
     "metadata": {},
     "output_type": "execute_result"
    }
   ],
   "source": [
    "len(melon_df['song'].unique())"
   ]
  },
  {
   "cell_type": "code",
   "execution_count": 57,
   "id": "e5dde81b-12e4-4933-b9a4-28002da0114e",
   "metadata": {
    "tags": []
   },
   "outputs": [
    {
     "data": {
      "text/plain": [
       "14017"
      ]
     },
     "execution_count": 57,
     "metadata": {},
     "output_type": "execute_result"
    }
   ],
   "source": [
    "len(cur_df['song'].unique())"
   ]
  },
  {
   "cell_type": "code",
   "execution_count": 58,
   "id": "dd9eaffd-e18b-462d-862b-7f861e8d6399",
   "metadata": {
    "tags": []
   },
   "outputs": [],
   "source": [
    "# 두 데이터 프레임의 원래 크기 확인\n",
    "original_cur_count = cur_df.shape[0]"
   ]
  },
  {
   "cell_type": "code",
   "execution_count": 59,
   "id": "f1d12f51-cb5e-45c3-8138-c5a1c68f0551",
   "metadata": {
    "tags": []
   },
   "outputs": [
    {
     "data": {
      "text/plain": [
       "64485"
      ]
     },
     "execution_count": 59,
     "metadata": {},
     "output_type": "execute_result"
    }
   ],
   "source": [
    "original_cur_count"
   ]
  },
  {
   "cell_type": "code",
   "execution_count": 60,
   "id": "518f287f-61e6-423d-9133-3c90687207d1",
   "metadata": {
    "tags": []
   },
   "outputs": [],
   "source": [
    "# 큐레이션 데이터에서 멜론 데이터에 없는 노래 제거\n",
    "filtered_cur_df = cur_df[cur_df['song'].isin(melon_df['song'])]\n",
    "\n",
    "# 필터링된 데이터프레임의 크기 확인\n",
    "filtered_cur_count = filtered_cur_df.shape[0]"
   ]
  },
  {
   "cell_type": "code",
   "execution_count": 61,
   "id": "18504939-c5c9-4e2d-9e31-33c7da7896eb",
   "metadata": {
    "tags": []
   },
   "outputs": [
    {
     "data": {
      "text/plain": [
       "19665"
      ]
     },
     "execution_count": 61,
     "metadata": {},
     "output_type": "execute_result"
    }
   ],
   "source": [
    "filtered_cur_count"
   ]
  },
  {
   "cell_type": "code",
   "execution_count": 62,
   "id": "8b581595-73e6-4dbe-9787-0ee1848e999c",
   "metadata": {
    "tags": []
   },
   "outputs": [
    {
     "name": "stdout",
     "output_type": "stream",
     "text": [
      "Original Curation Count: 64485\n",
      "Filtered Curation Count: 19665\n"
     ]
    }
   ],
   "source": [
    "# 결과를 출력하여 확인\n",
    "print(\"Original Curation Count:\", original_cur_count)\n",
    "print(\"Filtered Curation Count:\", filtered_cur_count)"
   ]
  },
  {
   "cell_type": "code",
   "execution_count": 63,
   "id": "4d96083d-3141-4134-9dd2-031c77f38abf",
   "metadata": {
    "tags": []
   },
   "outputs": [
    {
     "data": {
      "text/html": [
       "<div>\n",
       "<style scoped>\n",
       "    .dataframe tbody tr th:only-of-type {\n",
       "        vertical-align: middle;\n",
       "    }\n",
       "\n",
       "    .dataframe tbody tr th {\n",
       "        vertical-align: top;\n",
       "    }\n",
       "\n",
       "    .dataframe thead th {\n",
       "        text-align: right;\n",
       "    }\n",
       "</style>\n",
       "<table border=\"1\" class=\"dataframe\">\n",
       "  <thead>\n",
       "    <tr style=\"text-align: right;\">\n",
       "      <th></th>\n",
       "      <th>img</th>\n",
       "      <th>curHead</th>\n",
       "      <th>curArtist</th>\n",
       "      <th>curTitle</th>\n",
       "      <th>curColor</th>\n",
       "      <th>curPer</th>\n",
       "      <th>curExplain</th>\n",
       "      <th>curObject</th>\n",
       "      <th>song</th>\n",
       "    </tr>\n",
       "  </thead>\n",
       "  <tbody>\n",
       "    <tr>\n",
       "      <th>3</th>\n",
       "      <td>https://img.youtube.com/vi/G8MoUQHat_c/maxresd...</td>\n",
       "      <td>드라이브할맛나게하는트렌디하고세련된알앤비국내힙합ㅣR&amp;BHipHop</td>\n",
       "      <td>박재범</td>\n",
       "      <td>Like I Do</td>\n",
       "      <td>Black</td>\n",
       "      <td>50.38</td>\n",
       "      <td>NaN</td>\n",
       "      <td>['바지', '시력 관리', '고글', '색안경', '검정색과 흰색', '플래시 사...</td>\n",
       "      <td>박재범-Like I Do</td>\n",
       "    </tr>\n",
       "    <tr>\n",
       "      <th>4</th>\n",
       "      <td>https://img.youtube.com/vi/G8MoUQHat_c/maxresd...</td>\n",
       "      <td>드라이브할맛나게하는트렌디하고세련된알앤비국내힙합ㅣR&amp;BHipHop</td>\n",
       "      <td>박재범</td>\n",
       "      <td>Like I Do</td>\n",
       "      <td>Grey</td>\n",
       "      <td>22.21</td>\n",
       "      <td>NaN</td>\n",
       "      <td>['바지', '시력 관리', '고글', '색안경', '검정색과 흰색', '플래시 사...</td>\n",
       "      <td>박재범-Like I Do</td>\n",
       "    </tr>\n",
       "    <tr>\n",
       "      <th>5</th>\n",
       "      <td>https://img.youtube.com/vi/G8MoUQHat_c/maxresd...</td>\n",
       "      <td>드라이브할맛나게하는트렌디하고세련된알앤비국내힙합ㅣR&amp;BHipHop</td>\n",
       "      <td>박재범</td>\n",
       "      <td>Like I Do</td>\n",
       "      <td>Grey</td>\n",
       "      <td>9.42</td>\n",
       "      <td>NaN</td>\n",
       "      <td>['바지', '시력 관리', '고글', '색안경', '검정색과 흰색', '플래시 사...</td>\n",
       "      <td>박재범-Like I Do</td>\n",
       "    </tr>\n",
       "    <tr>\n",
       "      <th>6</th>\n",
       "      <td>https://img.youtube.com/vi/G8MoUQHat_c/maxresd...</td>\n",
       "      <td>드라이브할맛나게하는트렌디하고세련된알앤비국내힙합ㅣR&amp;BHipHop</td>\n",
       "      <td>VVON</td>\n",
       "      <td>Rewind</td>\n",
       "      <td>Black</td>\n",
       "      <td>50.38</td>\n",
       "      <td>NaN</td>\n",
       "      <td>['바지', '시력 관리', '고글', '색안경', '검정색과 흰색', '플래시 사...</td>\n",
       "      <td>VVON-Rewind</td>\n",
       "    </tr>\n",
       "    <tr>\n",
       "      <th>7</th>\n",
       "      <td>https://img.youtube.com/vi/G8MoUQHat_c/maxresd...</td>\n",
       "      <td>드라이브할맛나게하는트렌디하고세련된알앤비국내힙합ㅣR&amp;BHipHop</td>\n",
       "      <td>VVON</td>\n",
       "      <td>Rewind</td>\n",
       "      <td>Grey</td>\n",
       "      <td>22.21</td>\n",
       "      <td>NaN</td>\n",
       "      <td>['바지', '시력 관리', '고글', '색안경', '검정색과 흰색', '플래시 사...</td>\n",
       "      <td>VVON-Rewind</td>\n",
       "    </tr>\n",
       "  </tbody>\n",
       "</table>\n",
       "</div>"
      ],
      "text/plain": [
       "                                                 img  \\\n",
       "3  https://img.youtube.com/vi/G8MoUQHat_c/maxresd...   \n",
       "4  https://img.youtube.com/vi/G8MoUQHat_c/maxresd...   \n",
       "5  https://img.youtube.com/vi/G8MoUQHat_c/maxresd...   \n",
       "6  https://img.youtube.com/vi/G8MoUQHat_c/maxresd...   \n",
       "7  https://img.youtube.com/vi/G8MoUQHat_c/maxresd...   \n",
       "\n",
       "                               curHead curArtist   curTitle curColor  curPer  \\\n",
       "3  드라이브할맛나게하는트렌디하고세련된알앤비국내힙합ㅣR&BHipHop       박재범  Like I Do    Black   50.38   \n",
       "4  드라이브할맛나게하는트렌디하고세련된알앤비국내힙합ㅣR&BHipHop       박재범  Like I Do     Grey   22.21   \n",
       "5  드라이브할맛나게하는트렌디하고세련된알앤비국내힙합ㅣR&BHipHop       박재범  Like I Do     Grey    9.42   \n",
       "6  드라이브할맛나게하는트렌디하고세련된알앤비국내힙합ㅣR&BHipHop      VVON     Rewind    Black   50.38   \n",
       "7  드라이브할맛나게하는트렌디하고세련된알앤비국내힙합ㅣR&BHipHop      VVON     Rewind     Grey   22.21   \n",
       "\n",
       "  curExplain                                          curObject           song  \n",
       "3        NaN  ['바지', '시력 관리', '고글', '색안경', '검정색과 흰색', '플래시 사...  박재범-Like I Do  \n",
       "4        NaN  ['바지', '시력 관리', '고글', '색안경', '검정색과 흰색', '플래시 사...  박재범-Like I Do  \n",
       "5        NaN  ['바지', '시력 관리', '고글', '색안경', '검정색과 흰색', '플래시 사...  박재범-Like I Do  \n",
       "6        NaN  ['바지', '시력 관리', '고글', '색안경', '검정색과 흰색', '플래시 사...    VVON-Rewind  \n",
       "7        NaN  ['바지', '시력 관리', '고글', '색안경', '검정색과 흰색', '플래시 사...    VVON-Rewind  "
      ]
     },
     "execution_count": 63,
     "metadata": {},
     "output_type": "execute_result"
    }
   ],
   "source": [
    "# 필터링된 데이터프레임을 새로운 CSV 파일로 저장\n",
    "output_filtered_path = 'curation_data/큐레이션_멜론_필터링_통합.csv'\n",
    "filtered_cur_df.to_csv(output_filtered_path, index=False,encoding='utf-8-sig')\n",
    "# 결과 확인\n",
    "filtered_cur_df.head()"
   ]
  },
  {
   "cell_type": "code",
   "execution_count": null,
   "id": "7d43c0a4-d1b0-4549-9aea-c93f009fca87",
   "metadata": {},
   "outputs": [],
   "source": []
  }
 ],
 "metadata": {
  "kernelspec": {
   "display_name": "Python 3 (ipykernel)",
   "language": "python",
   "name": "python3"
  },
  "language_info": {
   "codemirror_mode": {
    "name": "ipython",
    "version": 3
   },
   "file_extension": ".py",
   "mimetype": "text/x-python",
   "name": "python",
   "nbconvert_exporter": "python",
   "pygments_lexer": "ipython3",
   "version": "3.9.13"
  }
 },
 "nbformat": 4,
 "nbformat_minor": 5
}
