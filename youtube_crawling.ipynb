{
 "cells": [
  {
   "cell_type": "code",
   "execution_count": 112,
   "id": "5636b909-e698-42dc-ac14-4954e5801863",
   "metadata": {
    "tags": []
   },
   "outputs": [],
   "source": [
    "## 데이터 분석 라이브러리\n",
    "import pandas as pd\n",
    "import numpy as np\n",
    "import matplotlib.pyplot as plt\n",
    "import csv\n",
    "import re\n",
    "import time\n",
    "import random\n",
    "from tqdm.notebook import tqdm\n",
    "\n",
    "## Selenium 관련 환경설정\n",
    "from selenium import webdriver as wb\n",
    "from selenium.webdriver.common.by import By\n",
    "from selenium.webdriver.chrome.service import Service\n",
    "from selenium.webdriver.common.keys import Keys\n",
    "from selenium.common.exceptions import NoSuchElementException, ElementNotInteractableException\n",
    "from selenium.webdriver.common.keys import Keys\n",
    "from selenium.webdriver.common.desired_capabilities import DesiredCapabilities\n",
    "caps = DesiredCapabilities.CHROME\n",
    "caps[\"pageLoadStrategy\"] = \"none\"\n",
    "\n",
    "## bs 라이브러리\n",
    "from bs4 import BeautifulSoup\n",
    "import requests\n",
    "\n",
    "# 페이지 로드 간소화 라이브러리\n",
    "from selenium.webdriver.support.ui import WebDriverWait as wait\n",
    "from selenium.webdriver.common.by import By\n",
    "from selenium.webdriver.support import expected_conditions as EC\n",
    "\n",
    "# webdriver options\n",
    "options = wb.ChromeOptions()\n",
    "# options.add_argument('--headless')\n",
    "options.add_argument('--no-sandbox')\n",
    "options.add_argument('disable-dev-shm-usage')\n",
    "# options.add_argument('--disable-images')\n",
    "# options.add_experimental_option(\"prefs\", {'profile.managed_default_content_settings.images': 2})\n",
    "# options.add_argument('--blink-settings=imagesEnabled=false')"
   ]
  },
  {
   "cell_type": "code",
   "execution_count": 4,
   "id": "47730495-dcf3-4c62-bb1f-8627ae66b4b0",
   "metadata": {},
   "outputs": [],
   "source": [
    "## 큐레이션 정보를 담을 리스트 생성\n",
    "img_list = []\n",
    "Head_list= []\n",
    "explain_list = []\n",
    "title_list = []\n",
    "artists_list = []\n",
    "titles_list = []"
   ]
  },
  {
   "cell_type": "code",
   "execution_count": 33,
   "id": "42f34932-ccfe-4fe1-8e34-64be254ee604",
   "metadata": {
    "tags": []
   },
   "outputs": [],
   "source": [
    "driver = wb.Chrome(options= options)\n",
    "\n",
    "url = 'https://www.youtube.com/@micasfu/playlists'\n",
    "driver.get(url)"
   ]
  },
  {
   "cell_type": "code",
   "execution_count": 43,
   "id": "226ac143-31fa-410f-a65d-0632a9878598",
   "metadata": {},
   "outputs": [],
   "source": [
    "btn = driver.find_element(By.CSS_SELECTOR, \"#items > ytd-grid-playlist-renderer:nth-child(7) > ytd-playlist-thumbnail\")\n",
    "btn.click()"
   ]
  },
  {
   "cell_type": "code",
   "execution_count": null,
   "id": "91465155-fee5-48d3-ad2d-df6dc6580c2e",
   "metadata": {
    "tags": []
   },
   "outputs": [],
   "source": [
    "# 더보기 체크 함수\n",
    "def try_click_element(driver, css_selector):\n",
    "    try:\n",
    "        button = driver.find_element(By.CSS_SELECTOR, css_selector)\n",
    "        button.click()\n",
    "    except (NoSuchElementException, ElementNotInteractableException):\n",
    "        pass"
   ]
  },
  {
   "cell_type": "code",
   "execution_count": 79,
   "id": "89a72517-ace3-4729-a2d1-a68bf8ea16c6",
   "metadata": {
    "tags": []
   },
   "outputs": [],
   "source": [
    "# 크롤링할 동영상 수 (len)으로 확인\n",
    "count = driver.find_elements(By.CSS_SELECTOR, \"#playlist-items\")\n",
    "# for i in range(1,len(count)+1):\n",
    "#     img_src = driver.find_element(By.CSS_SELECTOR, f'#thumbnail:nth-child({i}) > yt-image > img')\n",
    "#     head = driver.find"
   ]
  },
  {
   "cell_type": "code",
   "execution_count": 133,
   "id": "e176e8fd-a8e4-4114-95bc-b7ceaab47c56",
   "metadata": {},
   "outputs": [
    {
     "name": "stdout",
     "output_type": "stream",
     "text": [
      "https://i.ytimg.com/vi/Cnh7exHmJ_U/hqdefault.jpg?sqp=-oaymwEbCKgBEF5IVfKriqkDDggBFQAAiEIYAXABwAEG&rs=AOn4CLAOph-3ACnKsZZINPPiydTTL40Dkw\n",
      "[playlist] 사랑이 머문 자리에\n",
      "#팝송추천\n",
      "#플레이리스트\n",
      "#노래추천\n",
      "우리가 함께했던 수많은 공간에는 아직도 그때의 사랑이 머물러 있을까\n",
      "가수 목록: ['Stephen Sanchez', 'MAX, keshi', 'keshi', 'Arash Buana', 'Jesse Barrera, Nieman, Melissa Polinar', 'Sneha, ConTejas', 'Imaginary Future', 'John K', 'Jesse Barrera, Nieman, Melissa Polinar', 'hongjoin', 'HENRY, Yuna', 'yuji, putri dahlia', 'Maximillian - Letters', 'yaeow, Neptune', 'Hayd', 'Avery Lynch', 'Stephen Sanchez', 'Abe Parker - Butterflies', 'MAX - EDIE CELINE', 'Stephen Sanchez', 'MAX, keshi', 'keshi', 'Arash Buana', 'Jesse Barrera, Nieman, Melissa Polinar', 'Sneha, ConTejas', 'Imaginary Future', 'John K', 'Jesse Barrera, Nieman, Melissa Polinar', 'hongjoin', 'HENRY, Yuna', 'yuji, putri dahlia', 'Maximillian - Letters', 'yaeow, Neptune', 'Hayd', 'Avery Lynch', 'Stephen Sanchez', 'Abe Parker - Butterflies', 'MAX - EDIE CELINE']\n",
      "곡명 목록: ['Until I Found You', \"IT'S YOU\", 'UNDERSTAND', 'stars', 'Tangled Up (Reimagined)', 'So This Is Love', 'Till There Was You', 'magic', 'What We Found', 'you left your baggage', 'Real Love Still Exists', 'Old Love (Stripped)', 'Acoustic', 'The Way I Love You', 'When You Were Mine', \"you're just a guy\", 'I Want You', 'Acoustic', 'Stripped Version', 'Until I Found You', \"IT'S YOU\", 'UNDERSTAND', 'stars', 'Tangled Up (Reimagined)', 'So This Is Love', 'Till There Was You', 'magic', 'What We Found', 'you left your baggage', 'Real Love Still Exists', 'Old Love (Stripped)', 'Acoustic', 'The Way I Love You', 'When You Were Mine', \"you're just a guy\", 'I Want You', 'Acoustic', 'Stripped Version']\n"
     ]
    }
   ],
   "source": [
    "## 설명란의 더보기 체크\n",
    "try_click_element(driver, \"#expand\")\n",
    "\n",
    "## 댓글 자세히보기 체크\n",
    "try_click_element(driver, \"#more > span\")\n",
    "\n",
    "## 이미지 주소 가져오기\n",
    "img_src = driver.find_element(By.CSS_SELECTOR, '#thumbnail:nth-child(1) > yt-image > img').get_attribute('src')\n",
    "print(img_src)\n",
    "\n",
    "## 동영상 제목 가져오기\n",
    "head = driver.find_element(By.CSS_SELECTOR, '#title > h1 > yt-formatted-string').text\n",
    "print(head)\n",
    "\n",
    "## 설명 태그 개수 확인 및 값 가져오기\n",
    "explain_count = driver.find_elements(By.CSS_SELECTOR, \"#info > a\")\n",
    "for i in explain_count:\n",
    "    print(i.text)\n",
    "\n",
    "## 설명란 값 가져오기\n",
    "explain = driver.find_element(By.CSS_SELECTOR, \"#description-inline-expander > yt-attributed-string > span > span:nth-child(1)\")\n",
    "print(explain.text)\n",
    "\n",
    "## 댓글의 가수와 곡명 가져오기\n",
    "comment = driver.find_element(By.CSS_SELECTOR, '#content-text').text\n",
    "# 정규 표현식을 사용하여 [시간] 가수 - 노래제목 형식에 맞는 문자열 찾기\n",
    "pattern = r\"\\[\\d{2}:\\d{2}\\] ([^]]+) - ([^\\n]+)\"\n",
    "tracks = re.findall(pattern, comment)\n",
    "for track in tracks:\n",
    "    # 정규 표현식 매치에서 가수 이름과 곡명 추출\n",
    "    artist, title = track\n",
    "    artists.append(artist)\n",
    "    titles.append(title)\n",
    "print(\"가수 목록:\", artists)\n",
    "print(\"곡명 목록:\", titles)"
   ]
  },
  {
   "cell_type": "code",
   "execution_count": 8,
   "id": "1c93cd6b-cf52-47dc-a92c-c80421f1b914",
   "metadata": {},
   "outputs": [],
   "source": [
    "driver.quit()"
   ]
  },
  {
   "cell_type": "code",
   "execution_count": null,
   "id": "bff33335-cdfd-493f-aa18-90ffc9524b87",
   "metadata": {},
   "outputs": [],
   "source": []
  },
  {
   "cell_type": "code",
   "execution_count": null,
   "id": "21cc88f3-8697-45e5-a4a7-e6eb6626bd2c",
   "metadata": {},
   "outputs": [],
   "source": []
  },
  {
   "cell_type": "code",
   "execution_count": null,
   "id": "1e206529-8b25-4c4a-affe-c887783da797",
   "metadata": {},
   "outputs": [],
   "source": []
  },
  {
   "cell_type": "code",
   "execution_count": null,
   "id": "d598703c-899d-496d-a658-51ed77519d93",
   "metadata": {},
   "outputs": [],
   "source": []
  }
 ],
 "metadata": {
  "kernelspec": {
   "display_name": "Python 3 (ipykernel)",
   "language": "python",
   "name": "python3"
  },
  "language_info": {
   "codemirror_mode": {
    "name": "ipython",
    "version": 3
   },
   "file_extension": ".py",
   "mimetype": "text/x-python",
   "name": "python",
   "nbconvert_exporter": "python",
   "pygments_lexer": "ipython3",
   "version": "3.9.13"
  }
 },
 "nbformat": 4,
 "nbformat_minor": 5
}
