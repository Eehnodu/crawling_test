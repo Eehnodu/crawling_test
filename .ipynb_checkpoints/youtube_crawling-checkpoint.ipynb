{
 "cells": [
  {
   "cell_type": "code",
   "execution_count": 1,
   "id": "5636b909-e698-42dc-ac14-4954e5801863",
   "metadata": {
    "tags": []
   },
   "outputs": [],
   "source": [
    "## 데이터 분석 라이브러리\n",
    "import pandas as pd\n",
    "import numpy as np\n",
    "import matplotlib.pyplot as plt\n",
    "import csv\n",
    "import re\n",
    "import time\n",
    "import random\n",
    "from tqdm.notebook import tqdm\n",
    "\n",
    "## Selenium 관련 환경설정\n",
    "from selenium import webdriver as wb\n",
    "from selenium.webdriver.common.by import By\n",
    "from selenium.webdriver.chrome.service import Service\n",
    "from selenium.webdriver.common.keys import Keys\n",
    "# from selenium.webdriver.common.action_chains import ActionChains\n",
    "from selenium.common.exceptions import NoSuchElementException, ElementNotInteractableException\n",
    "from selenium.webdriver.common.desired_capabilities import DesiredCapabilities\n",
    "caps = DesiredCapabilities.CHROME\n",
    "caps[\"pageLoadStrategy\"] = \"none\"\n",
    "\n",
    "## bs 라이브러리\n",
    "from bs4 import BeautifulSoup\n",
    "import requests\n",
    "\n",
    "# 페이지 로드 간소화 라이브러리\n",
    "from selenium.webdriver.support.ui import WebDriverWait as wait\n",
    "from selenium.webdriver.common.by import By\n",
    "from selenium.webdriver.support import expected_conditions as EC\n",
    "\n",
    "# webdriver options\n",
    "options = wb.ChromeOptions()\n",
    "# options.add_argument('--headless')\n",
    "# options.add_argument('--no-sandbox')\n",
    "# options.add_argument('disable-dev-shm-usage')\n",
    "# options.add_argument('--disable-images')\n",
    "# options.add_experimental_option(\"prefs\", {'profile.managed_default_content_settings.images': 2})\n",
    "# options.add_argument('--blink-settings=imagesEnabled=false')"
   ]
  },
  {
   "cell_type": "code",
   "execution_count": 92,
   "id": "47730495-dcf3-4c62-bb1f-8627ae66b4b0",
   "metadata": {
    "tags": []
   },
   "outputs": [],
   "source": [
    "## 큐레이션 정보를 담을 리스트 생성\n",
    "img_list = []\n",
    "head_list= []\n",
    "influ_list = []\n",
    "explain_list = []\n",
    "artists_list = []\n",
    "titles_list = []"
   ]
  },
  {
   "cell_type": "code",
   "execution_count": 87,
   "id": "868e9523-d684-4f42-afb8-a66b71c95bd7",
   "metadata": {
    "collapsed": true,
    "jupyter": {
     "outputs_hidden": true
    },
    "tags": []
   },
   "outputs": [
    {
     "name": "stdout",
     "output_type": "stream",
     "text": [
      "https://www.youtube.com/watch?v=Cnh7exHmJ_U\n",
      "https://www.youtube.com/watch?v=cWdAB1rCt_k\n",
      "https://www.youtube.com/watch?v=teiG7SN7Ntw\n",
      "https://www.youtube.com/watch?v=0KyiaExzJH0\n",
      "https://www.youtube.com/watch?v=e0DmU2_SsSM\n",
      "https://www.youtube.com/watch?v=6HoSe7_ekis\n",
      "https://www.youtube.com/watch?v=7OSPe7W2EV4\n",
      "https://www.youtube.com/watch?v=klo_aNNCzs4\n",
      "https://www.youtube.com/watch?v=unQiQvpETpE\n",
      "https://www.youtube.com/watch?v=FjTE9MmaK_Q\n",
      "https://www.youtube.com/watch?v=Fbd0hn7QsQE\n",
      "https://www.youtube.com/watch?v=UQoSukju-PI\n",
      "https://www.youtube.com/watch?v=p-S3Iw_uCX0\n",
      "https://www.youtube.com/watch?v=1UsYED5PvC4\n",
      "https://www.youtube.com/watch?v=czjP58_FPrc\n",
      "https://www.youtube.com/watch?v=v-PlI-Dxjj0\n",
      "https://www.youtube.com/watch?v=kWclFITV5hs\n",
      "https://www.youtube.com/watch?v=BedliWYefcU\n",
      "https://www.youtube.com/watch?v=uatORfYveks\n",
      "https://www.youtube.com/watch?v=Ogq1CvE1-AI\n",
      "https://www.youtube.com/watch?v=98kjNRfADKw\n",
      "https://www.youtube.com/watch?v=nJ_gCRLsLJc\n",
      "https://www.youtube.com/watch?v=mO94H9170P4\n",
      "https://www.youtube.com/watch?v=ztATMR8kqCg\n",
      "https://www.youtube.com/watch?v=xJD689OHhjQ\n",
      "https://www.youtube.com/watch?v=NUXhEUgB6gU\n",
      "https://www.youtube.com/watch?v=dejon8jo5SI\n",
      "https://www.youtube.com/watch?v=bbf5AxLJe2c\n",
      "https://www.youtube.com/watch?v=lNeYMneGbW8\n",
      "https://www.youtube.com/watch?v=UDuE1AOp1mw\n",
      "https://www.youtube.com/watch?v=ADGFHxbxR8E\n",
      "https://www.youtube.com/watch?v=ryun6BX57-0\n",
      "https://www.youtube.com/watch?v=1U7kvWV-Ztg\n",
      "https://www.youtube.com/watch?v=7mCEGHnH5VE\n",
      "https://www.youtube.com/watch?v=X9v2VBmbWxk\n",
      "https://www.youtube.com/watch?v=sAgaGAao9eY\n",
      "https://www.youtube.com/watch?v=VHL5HDT35Qo\n",
      "https://www.youtube.com/watch?v=8Q3cX7N8ahw\n",
      "https://www.youtube.com/watch?v=jH_a4ByJ1Yc\n",
      "https://www.youtube.com/watch?v=rG0c_ZILHKg\n",
      "https://www.youtube.com/watch?v=wguuTjgATeY\n",
      "https://www.youtube.com/watch?v=TXkb1hQ2cE0\n",
      "https://www.youtube.com/watch?v=7TT5vn7TeK0\n",
      "https://www.youtube.com/watch?v=543u6u97uMI\n",
      "https://www.youtube.com/watch?v=dPazN9S6t80\n",
      "https://www.youtube.com/watch?v=cPa44H5SrAU\n",
      "https://www.youtube.com/watch?v=KdcLv5zxT0I\n",
      "https://www.youtube.com/watch?v=kshQyz2rTZs\n",
      "https://www.youtube.com/watch?v=vFZ580CGkyk\n",
      "https://www.youtube.com/watch?v=I-JEKANG0LA\n",
      "https://www.youtube.com/watch?v=hpeNBeg1PgE\n",
      "https://www.youtube.com/watch?v=gp3KL4fHS2c\n",
      "https://www.youtube.com/watch?v=rtt94aqkM2E\n",
      "https://www.youtube.com/watch?v=Guh7s-iW0QE\n",
      "https://www.youtube.com/watch?v=0DFH-ObpWuM\n",
      "https://www.youtube.com/watch?v=NbF22VlEmN0\n",
      "https://www.youtube.com/watch?v=p0i0SWPk9Bo\n",
      "https://www.youtube.com/watch?v=5yDa8MHIJ9o\n",
      "https://www.youtube.com/watch?v=EeEKw7mLToA\n",
      "https://www.youtube.com/watch?v=9g2oIDKUSds\n",
      "https://www.youtube.com/watch?v=42XwiY_rp4s\n",
      "https://www.youtube.com/watch?v=fgui1S2slZY\n",
      "https://www.youtube.com/watch?v=XP2aVXSTPQE\n",
      "https://www.youtube.com/watch?v=4GsGfgMRe6s\n",
      "https://www.youtube.com/watch?v=DyijXIB7ytM\n",
      "https://www.youtube.com/watch?v=IO59Hxux0NY\n",
      "https://www.youtube.com/watch?v=x7NhlDkCrtA\n",
      "https://www.youtube.com/watch?v=OrPmw7qOcSs\n",
      "https://www.youtube.com/watch?v=8LQIb_GFlfQ\n",
      "https://www.youtube.com/watch?v=3rT8xqOL1PQ\n",
      "https://www.youtube.com/watch?v=NRdv4jHBUrI\n",
      "https://www.youtube.com/watch?v=c8jeMkD1Omg\n",
      "https://www.youtube.com/watch?v=kAKT6tDUhHw\n",
      "https://www.youtube.com/watch?v=_UgoKZw0jhA\n",
      "https://www.youtube.com/watch?v=fs7erbNq9oQ\n",
      "https://www.youtube.com/watch?v=K6VTyE8UCNw\n",
      "https://www.youtube.com/watch?v=2yBn2sgDSpo\n",
      "https://www.youtube.com/watch?v=r5xjWk09kg4\n",
      "https://www.youtube.com/watch?v=kghJ-dG33eQ\n",
      "https://www.youtube.com/watch?v=wmwMh7THDUo\n",
      "https://www.youtube.com/watch?v=1qyIykwPsA0\n",
      "https://www.youtube.com/watch?v=z4XDl6Gz6ns\n",
      "https://www.youtube.com/watch?v=19OWPFADmC4\n",
      "https://www.youtube.com/watch?v=I25XbAdKE5k\n",
      "https://www.youtube.com/watch?v=Tn04UvogwO0\n",
      "https://www.youtube.com/watch?v=dSs9m0V91Mk\n",
      "https://www.youtube.com/watch?v=eqLySEpHZew\n",
      "https://www.youtube.com/watch?v=t_thfgLyKI8\n",
      "https://www.youtube.com/watch?v=5ZIt-_yufqg\n",
      "https://www.youtube.com/watch?v=wxUexZbRdLU\n",
      "https://www.youtube.com/watch?v=I_MTLCUgyo4\n",
      "https://www.youtube.com/watch?v=uHvk5d1i6UY\n",
      "https://www.youtube.com/watch?v=w_3wk2pDQnA\n",
      "https://www.youtube.com/watch?v=wI-7-wEmYys\n",
      "https://www.youtube.com/watch?v=cM4vu3_rrkw\n",
      "https://www.youtube.com/watch?v=sQKky0kOmCg\n",
      "https://www.youtube.com/watch?v=gGrpQeF3X7s\n",
      "https://www.youtube.com/watch?v=GC0YD1GQ1fQ\n",
      "https://www.youtube.com/watch?v=GCACPGhheTg\n",
      "https://www.youtube.com/watch?v=-XRQ43WZiTU\n",
      "https://www.youtube.com/watch?v=RN31XpLyR_8\n",
      "https://www.youtube.com/watch?v=iagF3kYLoE8\n",
      "https://www.youtube.com/watch?v=eS3pPLNcGv4\n",
      "https://www.youtube.com/watch?v=fmR3mtaWT_s\n",
      "https://www.youtube.com/watch?v=7FV-3fDoRoI\n",
      "https://www.youtube.com/watch?v=3SWOp6ycvlg\n",
      "https://www.youtube.com/watch?v=VefjGt26aZA\n",
      "https://www.youtube.com/watch?v=ptyL7BuwbuE\n",
      "https://www.youtube.com/watch?v=1QaQHafF8qo\n",
      "https://www.youtube.com/watch?v=RIwhNmStCBg\n",
      "https://www.youtube.com/watch?v=Sedb9CFp-9k\n",
      "https://www.youtube.com/watch?v=G77bNjxGHKg\n",
      "https://www.youtube.com/watch?v=osszvKODeTM\n",
      "https://www.youtube.com/watch?v=FSP7-0p4aEs\n",
      "https://www.youtube.com/watch?v=lzeIxSQULe4\n",
      "https://www.youtube.com/watch?v=NxeiA5xMOHo\n",
      "https://www.youtube.com/watch?v=pOrVvxxhc5o\n",
      "https://www.youtube.com/watch?v=UXwozJ5VpsQ\n",
      "https://www.youtube.com/watch?v=9_eEdLLMY-E\n",
      "https://www.youtube.com/watch?v=5US45TlnZKI\n",
      "https://www.youtube.com/watch?v=Ic-3mudz8TA\n",
      "https://www.youtube.com/watch?v=IR3XYiReCNg\n",
      "https://www.youtube.com/watch?v=AV1NDgmFCTM\n",
      "https://www.youtube.com/watch?v=ni91zbdxOmg\n",
      "https://www.youtube.com/watch?v=odJcn2UtHFo\n",
      "https://www.youtube.com/watch?v=V8NZ9v7eTzY\n",
      "https://www.youtube.com/watch?v=k7iup9bfyoo\n",
      "https://www.youtube.com/watch?v=oT6ypQw_W20\n",
      "https://www.youtube.com/watch?v=tXdza49Oj88\n",
      "https://www.youtube.com/watch?v=tv9hnRgZu-0\n",
      "https://www.youtube.com/watch?v=pSmPRht5xSE\n",
      "https://www.youtube.com/watch?v=jd07rTvEHrM\n",
      "https://www.youtube.com/watch?v=hJ-2jGqRX_8\n",
      "https://www.youtube.com/watch?v=63F1zZzGE8g\n",
      "https://www.youtube.com/watch?v=9FJHfYTVx_o\n",
      "https://www.youtube.com/watch?v=enAoSeYmDqY\n",
      "https://www.youtube.com/watch?v=8ae1IyOrzwE\n",
      "https://www.youtube.com/watch?v=J-41C8UAMbE\n",
      "https://www.youtube.com/watch?v=ysqZzNnahvw\n",
      "https://www.youtube.com/watch?v=QCg_MoTrm9Q\n",
      "https://www.youtube.com/watch?v=n2Mpdbn3M2U\n",
      "https://www.youtube.com/watch?v=dwmMTTmTTxc\n",
      "https://www.youtube.com/watch?v=MHCe5rdV0m0\n",
      "https://www.youtube.com/watch?v=jsRqyWoYAIg\n",
      "https://www.youtube.com/watch?v=nGNih9dTf9s\n",
      "https://www.youtube.com/watch?v=Cd3d-56Kdg0\n",
      "https://www.youtube.com/watch?v=fgXmrsqXZmA\n",
      "https://www.youtube.com/watch?v=z0nk4gMF2BI\n",
      "https://www.youtube.com/watch?v=GXxSA2DV-CY\n",
      "https://www.youtube.com/watch?v=EP0dlqmMr8o\n",
      "https://www.youtube.com/watch?v=TwuXQf3O2Uw\n",
      "https://www.youtube.com/watch?v=puy71DQ9-eA\n",
      "https://www.youtube.com/watch?v=z2t5ifkjqao\n",
      "https://www.youtube.com/watch?v=IvBtNJdCPNQ\n",
      "https://www.youtube.com/watch?v=DgTmJucEryY\n",
      "https://www.youtube.com/watch?v=NxOmcHtaEb4\n",
      "https://www.youtube.com/watch?v=2G7rTwHFyTM\n",
      "https://www.youtube.com/watch?v=i9OmCpNZghA\n",
      "https://www.youtube.com/watch?v=iuyG9gbZHFM\n",
      "https://www.youtube.com/watch?v=JsS0EnKW1R8\n",
      "https://www.youtube.com/watch?v=8DnV9h-m66Q\n",
      "https://www.youtube.com/watch?v=lKTmWxWBg6I\n",
      "https://www.youtube.com/watch?v=NxlUcPHQ5UY\n",
      "https://www.youtube.com/watch?v=gzxCxZtpsbg\n",
      "https://www.youtube.com/watch?v=HouEEzZGUNw\n",
      "https://www.youtube.com/watch?v=tRqI9Ta6m-I\n",
      "https://www.youtube.com/watch?v=69Q_KkfJm58\n",
      "https://www.youtube.com/watch?v=VLRaD9djoeE\n",
      "https://www.youtube.com/watch?v=-qSDiMFv9AQ\n",
      "https://www.youtube.com/watch?v=EBkaRDzCUZs\n",
      "https://www.youtube.com/watch?v=2j4VbYE4ePY\n",
      "https://www.youtube.com/watch?v=nDgPPphCWYw\n",
      "https://www.youtube.com/watch?v=1QEUJ5d7WO8\n"
     ]
    }
   ],
   "source": [
    "link_list = []\n",
    "link = driver.find_elements(By.CSS_SELECTOR, '#wc-endpoint')\n",
    "for i in link:\n",
    "    link_list.append(i.get_attribute('href')[:43])"
   ]
  },
  {
   "cell_type": "code",
   "execution_count": 72,
   "id": "42f34932-ccfe-4fe1-8e34-64be254ee604",
   "metadata": {
    "tags": []
   },
   "outputs": [],
   "source": [
    "driver = wb.Chrome(options= options)\n",
    "\n",
    "url = 'https://www.youtube.com/@micasfu/playlists'\n",
    "driver.get(url)"
   ]
  },
  {
   "cell_type": "code",
   "execution_count": 73,
   "id": "226ac143-31fa-410f-a65d-0632a9878598",
   "metadata": {
    "tags": []
   },
   "outputs": [],
   "source": [
    "btn = driver.find_element(By.CSS_SELECTOR, \"#items > ytd-grid-playlist-renderer:nth-child(7) > ytd-playlist-thumbnail\")\n",
    "btn.click()"
   ]
  },
  {
   "cell_type": "code",
   "execution_count": 74,
   "id": "91465155-fee5-48d3-ad2d-df6dc6580c2e",
   "metadata": {
    "tags": []
   },
   "outputs": [],
   "source": [
    "# 더보기 체크 함수\n",
    "def try_click_element(driver, css_selector):\n",
    "    try:\n",
    "        button = driver.find_element(By.CSS_SELECTOR, css_selector)\n",
    "        button.click()\n",
    "    except (NoSuchElementException, ElementNotInteractableException):\n",
    "        pass"
   ]
  },
  {
   "cell_type": "code",
   "execution_count": 93,
   "id": "e176e8fd-a8e4-4114-95bc-b7ceaab47c56",
   "metadata": {
    "tags": []
   },
   "outputs": [],
   "source": [
    "## 설명란의 더보기 체크\n",
    "try_click_element(driver, \"#expand\")\n",
    "## 이미지 주소 가져오기\n",
    "img_src = driver.find_element(By.CSS_SELECTOR, '#thumbnail:nth-child(1) > yt-image > img').get_attribute('src')\n",
    "img_list.append(img_src)\n",
    "\n",
    "## 동영상 제목 가져오기\n",
    "head = driver.find_element(By.CSS_SELECTOR, '#title > h1 > yt-formatted-string').text\n",
    "head_list.append(head)\n",
    "\n",
    "## 설명 태그 개수 확인 및 값 가져오기\n",
    "explain_count = driver.find_elements(By.CSS_SELECTOR, \"#info > a\")\n",
    "explain_tag = ''\n",
    "for i in explain_count:\n",
    "    explain_tag += i.text\n",
    "\n",
    "## 설명란 값 가져오기\n",
    "explain = driver.find_element(By.CSS_SELECTOR, \"#description-inline-expander > yt-attributed-string > span > span:nth-child(1)\")\n",
    "explain_list.append(explain_tag + ' ' + explain.text)\n",
    "\n",
    "driver.execute_script(\"window.scrollTo(0, 5100)\")\n",
    "time.sleep(2)\n",
    "\n",
    "## 댓글의 가수와 곡명 가져오기\n",
    "comment = driver.find_element(By.CSS_SELECTOR, '#content-text').text\n",
    "\n",
    "# 정규 표현식을 사용하여 [시간] 가수 - 노래제목 형식에 맞는 문자열 찾기\n",
    "pattern = r\"[\\[\\d:]*\\s*]?([^]]+) - ([^\\n]+)\"\n",
    "tracks = re.findall(pattern, comment)\n",
    "for track in tracks:\n",
    "    # 정규 표현식 매치에서 가수 이름과 곡명 추출\n",
    "    artist, title = track\n",
    "    artists_list.append(artist)\n",
    "    titles_list.append(title)\n",
    "\n",
    "# 인플루언서명 추가\n",
    "influ = driver.find_element(By.CSS_SELECTOR, \"#text > a\").text"
   ]
  },
  {
   "cell_type": "code",
   "execution_count": 38,
   "id": "1c93cd6b-cf52-47dc-a92c-c80421f1b914",
   "metadata": {
    "tags": []
   },
   "outputs": [],
   "source": [
    "driver.quit()"
   ]
  },
  {
   "cell_type": "code",
   "execution_count": 91,
   "id": "891e2e1b-00e1-489e-b3c2-5fce2d9b8eb3",
   "metadata": {
    "tags": []
   },
   "outputs": [
    {
     "name": "stdout",
     "output_type": "stream",
     "text": [
      "['https://i.ytimg.com/vi/Cnh7exHmJ_U/hqdefault.jpg?sqp=-oaymwEbCKgBEF5IVfKriqkDDggBFQAAiEIYAXABwAEG&rs=AOn4CLAOph-3ACnKsZZINPPiydTTL40Dkw', 'https://i.ytimg.com/vi/UCPy52JEVqQ/hqdefault.jpg?sqp=-oaymwE1CKgBEF5IVfKriqkDKAgBFQAAiEIYAXABwAEG8AEB-AH-CYAC0AWKAgwIABABGEYgZShOMA8=&rs=AOn4CLCQQvYpC_Er2sXL3L0cq5bhZnK8iQ']\n",
      "['[playlist] 사랑이 머문 자리에', '[playlist] 사랑이 머문 자리에']\n",
      "['네고막을책임져도될까', '네고막을책임져도될까', '네고막을책임져도될까', '네고막을책임져도될까', '네고막을책임져도될까', '네고막을책임져도될까', '네고막을책임져도될까', '네고막을책임져도될까', '네고막을책임져도될까', '네고막을책임져도될까', '네고막을책임져도될까', '네고막을책임져도될까', '네고막을책임져도될까', '네고막을책임져도될까', '네고막을책임져도될까', '네고막을책임져도될까', '네고막을책임져도될까', '네고막을책임져도될까', '네고막을책임져도될까', '네고막을책임져도될까', '네고막을책임져도될까', '네고막을책임져도될까', '네고막을책임져도될까', '네고막을책임져도될까', '네고막을책임져도될까', '네고막을책임져도될까', '네고막을책임져도될까', '네고막을책임져도될까', '네고막을책임져도될까', '네고막을책임져도될까', '네고막을책임져도될까', '네고막을책임져도될까', '네고막을책임져도될까', '네고막을책임져도될까', '네고막을책임져도될까', '네고막을책임져도될까', '네고막을책임져도될까', '네고막을책임져도될까', '네고막을책임져도될까', '네고막을책임져도될까', '네고막을책임져도될까', '네고막을책임져도될까', '네고막을책임져도될까', '네고막을책임져도될까', '네고막을책임져도될까', '네고막을책임져도될까', '네고막을책임져도될까', '네고막을책임져도될까', '네고막을책임져도될까', '네고막을책임져도될까', '네고막을책임져도될까', '네고막을책임져도될까', '네고막을책임져도될까', '네고막을책임져도될까', '네고막을책임져도될까', '네고막을책임져도될까', '네고막을책임져도될까', '네고막을책임져도될까', '네고막을책임져도될까', '네고막을책임져도될까', '네고막을책임져도될까', '네고막을책임져도될까', '네고막을책임져도될까', '네고막을책임져도될까', '네고막을책임져도될까', '네고막을책임져도될까', '네고막을책임져도될까', '네고막을책임져도될까', '네고막을책임져도될까', '네고막을책임져도될까', '네고막을책임져도될까', '네고막을책임져도될까', '네고막을책임져도될까', '네고막을책임져도될까', '네고막을책임져도될까', '네고막을책임져도될까', '네고막을책임져도될까', '네고막을책임져도될까', '네고막을책임져도될까', '네고막을책임져도될까', '네고막을책임져도될까', '네고막을책임져도될까', '네고막을책임져도될까', '네고막을책임져도될까']\n",
      "['#팝송추천#플레이리스트#노래추천우리가 함께했던 수많은 공간에는 아직도 그때의 사랑이 머물러 있을까', '#팝송추천#플레이리스트#노래추천우리가 함께했던 수많은 공간에는 아직도 그때의 사랑이 머물러 있을까']\n",
      "[' Stephen Sanchez', ' MAX, keshi', ' keshi', ' Arash Buana', ' Jesse Barrera, Nieman, Melissa Polinar', ' Sneha, ConTejas', ' Imaginary Future', ' John K', ' Jesse Barrera, Nieman, Melissa Polinar', ' hongjoin', ' HENRY, Yuna', ' yuji, putri dahlia', ' Maximillian - Letters', ' yaeow, Neptune', ' Hayd', ' Avery Lynch', ' Stephen Sanchez', ' Abe Parker - Butterflies', ' MAX - EDIE CELINE', ' Maximillian - Ripples', ' yaeow', ' yaeow', ' d4vd, Laufey', ' Chris James', ' rhianne', ' yaeow', ' Etham', ' Avery Lynch', ' Stephen Sanchez', ' MAX, keshi', ' keshi', ' Arash Buana', ' Jesse Barrera, Nieman, Melissa Polinar', ' Sneha, ConTejas', ' Imaginary Future', ' John K', ' Jesse Barrera, Nieman, Melissa Polinar', ' hongjoin', ' HENRY, Yuna', ' yuji, putri dahlia', ' Maximillian - Letters', ' yaeow, Neptune', ' Hayd', ' Avery Lynch', ' Stephen Sanchez', ' Abe Parker - Butterflies', ' MAX - EDIE CELINE', ' Maximillian - Ripples', ' yaeow', ' yaeow', ' d4vd, Laufey', ' Chris James', ' rhianne', ' yaeow', ' Etham', ' Avery Lynch']\n",
      "['Until I Found You', \"IT'S YOU\", 'UNDERSTAND', 'stars', 'Tangled Up (Reimagined)', 'So This Is Love', 'Till There Was You', 'magic', 'What We Found', 'you left your baggage', 'Real Love Still Exists', 'Old Love (Stripped)', 'Acoustic', 'The Way I Love You', 'When You Were Mine', \"you're just a guy\", 'I Want You', 'Acoustic', 'Stripped Version', 'Acoustic', 'still that kid (deep down)', 'everything to me', 'This Is How It Feels', 'The Green (Acoustic)', 'my love mine all mine', 'Stuck Here Without You', 'What I Feel Is Love', 'all i need (the distance song)', 'Until I Found You', \"IT'S YOU\", 'UNDERSTAND', 'stars', 'Tangled Up (Reimagined)', 'So This Is Love', 'Till There Was You', 'magic', 'What We Found', 'you left your baggage', 'Real Love Still Exists', 'Old Love (Stripped)', 'Acoustic', 'The Way I Love You', 'When You Were Mine', \"you're just a guy\", 'I Want You', 'Acoustic', 'Stripped Version', 'Acoustic', 'still that kid (deep down)', 'everything to me', 'This Is How It Feels', 'The Green (Acoustic)', 'my love mine all mine', 'Stuck Here Without You', 'What I Feel Is Love', 'all i need (the distance song)']\n"
     ]
    }
   ],
   "source": [
    "print(img_list)\n",
    "print(head_list)\n",
    "print(influ_list)\n",
    "print(explain_list)\n",
    "print(artists_list)\n",
    "print(titles_list)"
   ]
  },
  {
   "cell_type": "code",
   "execution_count": null,
   "id": "3af9325e-ded6-40b9-9b2c-a75955db3d20",
   "metadata": {},
   "outputs": [],
   "source": []
  },
  {
   "cell_type": "code",
   "execution_count": null,
   "id": "73d6c296-28f6-44cb-a59f-f2fd811d1f58",
   "metadata": {},
   "outputs": [],
   "source": []
  },
  {
   "cell_type": "code",
   "execution_count": null,
   "id": "b847cdf1-1aa8-492c-bd85-fe7446fa62be",
   "metadata": {},
   "outputs": [],
   "source": []
  },
  {
   "cell_type": "code",
   "execution_count": null,
   "id": "1b135ed3-24ec-4556-9080-0326fac8ae65",
   "metadata": {},
   "outputs": [],
   "source": []
  },
  {
   "cell_type": "code",
   "execution_count": null,
   "id": "0086d766-03bd-4632-b331-826871a96187",
   "metadata": {},
   "outputs": [],
   "source": []
  },
  {
   "cell_type": "code",
   "execution_count": null,
   "id": "e8f691bc-7d33-4b0c-b4f7-20f6bc809a82",
   "metadata": {},
   "outputs": [],
   "source": []
  },
  {
   "cell_type": "code",
   "execution_count": null,
   "id": "7146cd44-0dc2-4886-8de8-00d6f00d34d8",
   "metadata": {},
   "outputs": [],
   "source": []
  },
  {
   "cell_type": "code",
   "execution_count": null,
   "id": "f969a4f3-6653-4501-b7b0-79631569a902",
   "metadata": {},
   "outputs": [],
   "source": []
  },
  {
   "cell_type": "code",
   "execution_count": null,
   "id": "bb84a1ae-edf6-4214-bd06-b79008dfb087",
   "metadata": {},
   "outputs": [],
   "source": []
  }
 ],
 "metadata": {
  "kernelspec": {
   "display_name": "Python 3 (ipykernel)",
   "language": "python",
   "name": "python3"
  },
  "language_info": {
   "codemirror_mode": {
    "name": "ipython",
    "version": 3
   },
   "file_extension": ".py",
   "mimetype": "text/x-python",
   "name": "python",
   "nbconvert_exporter": "python",
   "pygments_lexer": "ipython3",
   "version": "3.11.5"
  }
 },
 "nbformat": 4,
 "nbformat_minor": 5
}
