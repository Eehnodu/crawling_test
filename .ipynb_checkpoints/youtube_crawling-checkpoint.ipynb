{
 "cells": [
  {
   "cell_type": "code",
   "execution_count": 11,
   "id": "5636b909-e698-42dc-ac14-4954e5801863",
   "metadata": {
    "tags": []
   },
   "outputs": [],
   "source": [
    "## Selenium 관련 환경설정 및 데이터 분석 라이브러리\n",
    "import pandas as pd\n",
    "import numpy as np\n",
    "import matplotlib.pyplot as plt\n",
    "import csv\n",
    "import re\n",
    "import time\n",
    "import random\n",
    "from tqdm.notebook import tqdm\n",
    "from selenium import webdriver as wb\n",
    "from selenium.webdriver.common.by import By\n",
    "from selenium.webdriver.chrome.service import Service\n",
    "from selenium.common.exceptions import NoSuchElementException\n",
    "\n",
    "from selenium.webdriver.common.desired_capabilities import DesiredCapabilities\n",
    "caps = DesiredCapabilities.CHROME\n",
    "caps[\"pageLoadStrategy\"] = \"none\"\n",
    "\n",
    "# 페이지 로드 간소화 라이브러리\n",
    "from selenium.webdriver.support.ui import WebDriverWait as wait\n",
    "from selenium.webdriver.common.by import By\n",
    "from selenium.webdriver.support import expected_conditions as EC\n",
    "\n",
    "# webdriver options\n",
    "options = webdriver.ChromeOptions()\n",
    "options.add_argument('--headless')\n",
    "options.add_argument('--no-sandbox')\n",
    "options.add_argument('disable-dev-shm-usage')\n",
    "# options.add_argument('--disable-images')\n",
    "# options.add_experimental_option(\"prefs\", {'profile.managed_default_content_settings.images': 2})\n",
    "# options.add_argument('--blink-settings=imagesEnabled=false')"
   ]
  },
  {
   "cell_type": "code",
   "execution_count": null,
   "id": "47730495-dcf3-4c62-bb1f-8627ae66b4b0",
   "metadata": {},
   "outputs": [],
   "source": [
    "## 큐레이션 정보를 담을 리스트 생성\n",
    "img_list = []\n",
    "Head_list= []\n",
    "explain_list = []\n",
    "title_list = []\n",
    "artist_list = []"
   ]
  },
  {
   "cell_type": "code",
   "execution_count": 12,
   "id": "42f34932-ccfe-4fe1-8e34-64be254ee604",
   "metadata": {
    "tags": []
   },
   "outputs": [
    {
     "name": "stdout",
     "output_type": "stream",
     "text": [
      "None\n"
     ]
    }
   ],
   "source": [
    "driver = wb.Chrome(options= options)\n",
    "\n",
    "url = 'https://www.youtube.com/@micasfu/videos'\n",
    "print(driver.get(url))"
   ]
  },
  {
   "cell_type": "code",
   "execution_count": null,
   "id": "1c93cd6b-cf52-47dc-a92c-c80421f1b914",
   "metadata": {},
   "outputs": [],
   "source": []
  }
 ],
 "metadata": {
  "kernelspec": {
   "display_name": "Python 3 (ipykernel)",
   "language": "python",
   "name": "python3"
  },
  "language_info": {
   "codemirror_mode": {
    "name": "ipython",
    "version": 3
   },
   "file_extension": ".py",
   "mimetype": "text/x-python",
   "name": "python",
   "nbconvert_exporter": "python",
   "pygments_lexer": "ipython3",
   "version": "3.11.5"
  }
 },
 "nbformat": 4,
 "nbformat_minor": 5
}
