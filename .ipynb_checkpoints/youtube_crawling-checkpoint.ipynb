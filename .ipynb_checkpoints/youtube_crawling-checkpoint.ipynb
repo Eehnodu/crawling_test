{
 "cells": [
  {
   "cell_type": "code",
   "execution_count": 72,
   "id": "5636b909-e698-42dc-ac14-4954e5801863",
   "metadata": {
    "tags": []
   },
   "outputs": [],
   "source": [
    "## 데이터 분석 라이브러리\n",
    "import pandas as pd\n",
    "import numpy as np\n",
    "import matplotlib.pyplot as plt\n",
    "import csv\n",
    "import re\n",
    "import time\n",
    "import random\n",
    "from tqdm.notebook import tqdm\n",
    "\n",
    "## Selenium 관련 환경설정\n",
    "from selenium import webdriver as wb\n",
    "from selenium.webdriver.common.by import By\n",
    "from selenium.webdriver.chrome.service import Service\n",
    "from selenium.webdriver.common.keys import Keys\n",
    "# from selenium.webdriver.common.action_chains import ActionChains\n",
    "from selenium.common.exceptions import NoSuchElementException, ElementNotInteractableException\n",
    "from selenium.webdriver.common.desired_capabilities import DesiredCapabilities\n",
    "caps = DesiredCapabilities.CHROME\n",
    "caps[\"pageLoadStrategy\"] = \"none\"\n",
    "\n",
    "## bs 라이브러리\n",
    "from bs4 import BeautifulSoup\n",
    "import requests\n",
    "\n",
    "# 페이지 로드 간소화 라이브러리\n",
    "from selenium.webdriver.support.ui import WebDriverWait as wait\n",
    "from selenium.webdriver.common.by import By\n",
    "from selenium.webdriver.support import expected_conditions as EC\n",
    "\n",
    "# webdriver options\n",
    "options = wb.ChromeOptions()\n",
    "# options.add_argument('--headless')\n",
    "# options.add_argument('--no-sandbox')\n",
    "# options.add_argument('disable-dev-shm-usage')\n",
    "# options.add_argument('--disable-images')\n",
    "# options.add_experimental_option(\"prefs\", {'profile.managed_default_content_settings.images': 2})\n",
    "# options.add_argument('--blink-settings=imagesEnabled=false')"
   ]
  },
  {
   "cell_type": "code",
   "execution_count": 82,
   "id": "3af9325e-ded6-40b9-9b2c-a75955db3d20",
   "metadata": {},
   "outputs": [],
   "source": [
    "def get_playlist_links(url, playlist_nth_child):\n",
    "    # Chrome Driver 초기화 (ChromeDriverManager를 사용)\n",
    "    driver = wb.Chrome(options=options)\n",
    "    # YouTube 플레이리스트 URL로 이동\n",
    "    driver.get(url)\n",
    "    ## 인플루언서 명 가져오기기\n",
    "    # influ = driver.find_element(By.CSS_SELECTOR, \"#text\").text\n",
    "    influ = wait(driver, 10).until(EC.presence_of_element_located((By.CSS_SELECTOR, \"#text\"))).text\n",
    "    # 특정 플레이리스트 선택하기 (예: 7번째 플레이리스트)\n",
    "    btn = driver.find_element(By.CSS_SELECTOR, f\"#items > ytd-grid-playlist-renderer:nth-child({playlist_nth_child}) > ytd-playlist-thumbnail\")\n",
    "    btn.click()\n",
    "    time.sleep(2)\n",
    "    # 'items' 영역을 찾아 스크롤 다운\n",
    "    element = driver.find_element(By.CSS_SELECTOR, \"#container\")\n",
    "    driver.execute_script(\"arguments[0].scrollTop = arguments[0].scrollHeight\", element)\n",
    "    # 영상의 링크 및 이미지들 가져오기\n",
    "    links = driver.find_elements(By.CSS_SELECTOR, '#wc-endpoint')\n",
    "    for link in links:\n",
    "        link_list.append(link.get_attribute('href')[:43])\n",
    "    # driver.quit()\n",
    "    return link_list"
   ]
  },
  {
   "cell_type": "code",
   "execution_count": 83,
   "id": "91465155-fee5-48d3-ad2d-df6dc6580c2e",
   "metadata": {
    "tags": []
   },
   "outputs": [],
   "source": [
    "# 더보기 체크 함수\n",
    "def try_click_element(driver, css_selector):\n",
    "    try:\n",
    "        button = driver.find_element(By.CSS_SELECTOR, css_selector)\n",
    "        button.click()\n",
    "    except (NoSuchElementException, ElementNotInteractableException):\n",
    "        pass"
   ]
  },
  {
   "cell_type": "code",
   "execution_count": 217,
   "id": "1b135ed3-24ec-4556-9080-0326fac8ae65",
   "metadata": {},
   "outputs": [],
   "source": [
    "def extract_video_details(driver):\n",
    "    # 설명란의 '더보기' 확인 및 클릭\n",
    "    try_click_element(driver, \"#expand\")\n",
    "    # 동영상 제목 가져오기\n",
    "    head = driver.find_element(By.CSS_SELECTOR, '#title > h1 > yt-formatted-string').text\n",
    "    # 설명 태그 개수 확인 및 값 가져오기\n",
    "    explain_count = driver.find_elements(By.CSS_SELECTOR, \"#info > a\")\n",
    "    explain_tag = ''\n",
    "    for i in explain_count:\n",
    "        explain_tag += i.text + ' '\n",
    "    # 설명란 값 가져오기\n",
    "    explain = driver.find_element(By.CSS_SELECTOR, \"#description-inline-expander > yt-attributed-string > span > span:nth-child(1)\").text\n",
    "    # 스크롤 다운하여 댓글 섹션 이동\n",
    "    driver.execute_script(\"window.scrollTo(0, 500)\")\n",
    "    time.sleep(2)\n",
    "    # driver.execute_script(\"window.scrollTo(500, 1000)\")\n",
    "    # time.sleep(2)\n",
    "    # driver.execute_script(\"window.scrollTo(1000, 1500)\")\n",
    "    # 페이지 끝까지 스크롤\n",
    "    last_height = driver.execute_script(\"return document.documentElement.scrollHeight\")\n",
    "    while True:\n",
    "        driver.execute_script(\"window.scrollTo(0, document.documentElement.scrollHeight);\")\n",
    "        time.sleep(1.5)\n",
    "\n",
    "        new_height = driver.execute_script(\"return document.documentElement.scrollHeight\")\n",
    "        if new_height == last_height:\n",
    "            break\n",
    "        last_height = new_height\n",
    "    time.sleep(1.5)\n",
    "    # 정규 표현식을 사용하여 [시간] 가수 - 노래제목 형식에 맞는 문자열 찾기\n",
    "    pattern = r\"[\\[\\d:]*\\s*]?([^]]+) - ([^\\n]+)\"\n",
    "    cleaned_explain = (explain_tag + explain).strip().replace('\\n', '').replace('\\nby', '')\n",
    "    # 댓글의 가수와 곡명 가져오기\n",
    "    # comment = wait(driver, 20).until(EC.presence_of_element_located((By.CSS_SELECTOR, \"#content-text\"))).text\n",
    "    # tracks = re.findall(pattern, comment)\n",
    "    # 댓글 크롤링 \n",
    "    html_source = driver.page_source\n",
    "    soup = BeautifulSoup(html_source, 'html.parser')\n",
    "    comment_list = soup.select(\"#content-text\")\n",
    "    # for i in range(10000):\n",
    "    #     for track in tracks:\n",
    "    #         # 정규 표현식 매치에서 가수 이름과 곡명 추출\n",
    "    #         explain_list.append(cleaned_explain)\n",
    "    #         head_list.append(head)\n",
    "    #         artist, title = track\n",
    "    #         artists_list.append(artist.strip())\n",
    "    #         titles_list.append(title.strip())\n",
    "    #         img_list.append(f\"https://img.youtube.com/vi/{link[32:]}/maxresdefault.jpg\")\n",
    "    for comment in comment_list:\n",
    "        comment_text = comment.get_text()\n",
    "        tracks = re.findall(pattern, comment_text)\n",
    "        if tracks:\n",
    "            for track in tracks:\n",
    "                # cleaned_explain이 #으로 시작하는지 확인\n",
    "                if cleaned_explain.startswith('#'):\n",
    "                    # 정규 표현식 매치에서 가수 이름과 곡명 추출\n",
    "                    explain_list.append(cleaned_explain)\n",
    "                    head_list.append(head)\n",
    "                    artist, title = track\n",
    "                    artists_list.append(artist.strip())\n",
    "                    titles_list.append(title.strip())\n",
    "                    img_list.append(f\"https://img.youtube.com/vi/{driver.current_url.split('v=')[1]}/maxresdefault.jpg\")\n",
    "            # 패턴과 일치하는 댓글을 찾으면 루프 종료\n",
    "            print(artists_list)\n",
    "            print(titles_list)\n",
    "            print(len(explain_list), len(head_list), len(img_list),len(artists_list),len(titles_list))\n",
    "            break\n",
    "    return"
   ]
  },
  {
   "cell_type": "code",
   "execution_count": 218,
   "id": "73d6c296-28f6-44cb-a59f-f2fd811d1f58",
   "metadata": {
    "tags": []
   },
   "outputs": [
    {
     "data": {
      "application/vnd.jupyter.widget-view+json": {
       "model_id": "72461d0fbd6e4b59ae06d0c4ebe38df7",
       "version_major": 2,
       "version_minor": 0
      },
      "text/plain": [
       "  0%|          | 0/173 [00:00<?, ?it/s]"
      ]
     },
     "metadata": {},
     "output_type": "display_data"
    },
    {
     "name": "stdout",
     "output_type": "stream",
     "text": [
      "['Stephen Sanchez', 'MAX, keshi', 'keshi', 'Arash Buana', 'Jesse Barrera, Nieman, Melissa Polinar', 'Sneha, ConTejas', 'Imaginary Future', 'John K', 'Jesse Barrera, Nieman, Melissa Polinar', 'hongjoin', 'HENRY, Yuna', 'yuji, putri dahlia', 'Maximillian - Letters', 'yaeow, Neptune', 'Hayd', 'Avery Lynch', 'Stephen Sanchez', 'Abe Parker - Butterflies', 'MAX - EDIE CELINE', 'Maximillian - Ripples', 'yaeow', 'yaeow', 'd4vd, Laufey', 'Chris James', 'rhianne', 'yaeow', 'Etham', 'Avery Lynch']\n",
      "['Until I Found You', \"IT'S YOU\", 'UNDERSTAND', 'stars', 'Tangled Up (Reimagined)', 'So This Is Love', 'Till There Was You', 'magic', 'What We Found', 'you left your baggage', 'Real Love Still Exists', 'Old Love (Stripped)', 'Acoustic', 'The Way I Love You', 'When You Were Mine', \"you're just a guy\", 'I Want You', 'Acoustic', 'Stripped Version', 'Acoustic', 'still that kid (deep down)', 'everything to me', 'This Is How It Feels', 'The Green (Acoustic)', 'my love mine all mine', 'Stuck Here Without You', 'What I Feel Is Love', 'all i need (the distance song)']\n",
      "28 28 28 28 28\n",
      "['Stephen Sanchez', 'MAX, keshi', 'keshi', 'Arash Buana', 'Jesse Barrera, Nieman, Melissa Polinar', 'Sneha, ConTejas', 'Imaginary Future', 'John K', 'Jesse Barrera, Nieman, Melissa Polinar', 'hongjoin', 'HENRY, Yuna', 'yuji, putri dahlia', 'Maximillian - Letters', 'yaeow, Neptune', 'Hayd', 'Avery Lynch', 'Stephen Sanchez', 'Abe Parker - Butterflies', 'MAX - EDIE CELINE', 'Maximillian - Ripples', 'yaeow', 'yaeow', 'd4vd, Laufey', 'Chris James', 'rhianne', 'yaeow', 'Etham', 'Avery Lynch', 'Matt Maltese', '92914', \"HONNE - la la la that's how it goes\", 'Milena - Letter', 'The Paper Kites', '92914,HanMinji', 'HONNE - free love', 'Gogang', 'HONNE - gone gone gone', 'Finding Hope', 'Sino', 'Oscar Lang', '92914', 'Sam Ock', 'HONNE - one way to tokyo', 'Joey Stamper', 'SOLOMON', 'Sam Ock', 'Matt Maltese', 'Finding Hope', 'Gogang', 'The Paper Kites, Lucy Rose', 'Finding Hope', 'yaeow', 'Finding Hope', 'Wang OK', 'Api & Sarah Hemi']\n",
      "['Until I Found You', \"IT'S YOU\", 'UNDERSTAND', 'stars', 'Tangled Up (Reimagined)', 'So This Is Love', 'Till There Was You', 'magic', 'What We Found', 'you left your baggage', 'Real Love Still Exists', 'Old Love (Stripped)', 'Acoustic', 'The Way I Love You', 'When You Were Mine', \"you're just a guy\", 'I Want You', 'Acoustic', 'Stripped Version', 'Acoustic', 'still that kid (deep down)', 'everything to me', 'This Is How It Feels', 'The Green (Acoustic)', 'my love mine all mine', 'Stuck Here Without You', 'What I Feel Is Love', 'all i need (the distance song)', 'Everyone Adores You (quiet)', 'Starlight', 'dream edit', 'English Version', 'Tin Lover', 'Someday', 'dream edit', 'Love Is (Intro)', 'dream edit', 'Whatever You Want', 'Strange', 'million little reasons', 'Okinawa', 'Remember', 'dream edit', 'In The Wee Small Hours Of The Morning', 'do you want my love?', 'silent', 'When You Wash Your Hair', 'another guy', 'Your Night Is My Dream', 'For All You Give', 'yellow lights', 'does it really matter?', 'to the moon & back', 'City Of Stars', \"Isn't It Strange\"]\n",
      "55 55 55 55 55\n",
      "['Stephen Sanchez', 'MAX, keshi', 'keshi', 'Arash Buana', 'Jesse Barrera, Nieman, Melissa Polinar', 'Sneha, ConTejas', 'Imaginary Future', 'John K', 'Jesse Barrera, Nieman, Melissa Polinar', 'hongjoin', 'HENRY, Yuna', 'yuji, putri dahlia', 'Maximillian - Letters', 'yaeow, Neptune', 'Hayd', 'Avery Lynch', 'Stephen Sanchez', 'Abe Parker - Butterflies', 'MAX - EDIE CELINE', 'Maximillian - Ripples', 'yaeow', 'yaeow', 'd4vd, Laufey', 'Chris James', 'rhianne', 'yaeow', 'Etham', 'Avery Lynch', 'Matt Maltese', '92914', \"HONNE - la la la that's how it goes\", 'Milena - Letter', 'The Paper Kites', '92914,HanMinji', 'HONNE - free love', 'Gogang', 'HONNE - gone gone gone', 'Finding Hope', 'Sino', 'Oscar Lang', '92914', 'Sam Ock', 'HONNE - one way to tokyo', 'Joey Stamper', 'SOLOMON', 'Sam Ock', 'Matt Maltese', 'Finding Hope', 'Gogang', 'The Paper Kites, Lucy Rose', 'Finding Hope', 'yaeow', 'Finding Hope', 'Wang OK', 'Api & Sarah Hemi']\n",
      "['Until I Found You', \"IT'S YOU\", 'UNDERSTAND', 'stars', 'Tangled Up (Reimagined)', 'So This Is Love', 'Till There Was You', 'magic', 'What We Found', 'you left your baggage', 'Real Love Still Exists', 'Old Love (Stripped)', 'Acoustic', 'The Way I Love You', 'When You Were Mine', \"you're just a guy\", 'I Want You', 'Acoustic', 'Stripped Version', 'Acoustic', 'still that kid (deep down)', 'everything to me', 'This Is How It Feels', 'The Green (Acoustic)', 'my love mine all mine', 'Stuck Here Without You', 'What I Feel Is Love', 'all i need (the distance song)', 'Everyone Adores You (quiet)', 'Starlight', 'dream edit', 'English Version', 'Tin Lover', 'Someday', 'dream edit', 'Love Is (Intro)', 'dream edit', 'Whatever You Want', 'Strange', 'million little reasons', 'Okinawa', 'Remember', 'dream edit', 'In The Wee Small Hours Of The Morning', 'do you want my love?', 'silent', 'When You Wash Your Hair', 'another guy', 'Your Night Is My Dream', 'For All You Give', 'yellow lights', 'does it really matter?', 'to the moon & back', 'City Of Stars', \"Isn't It Strange\"]\n",
      "55 55 55 55 55\n",
      "['Stephen Sanchez', 'MAX, keshi', 'keshi', 'Arash Buana', 'Jesse Barrera, Nieman, Melissa Polinar', 'Sneha, ConTejas', 'Imaginary Future', 'John K', 'Jesse Barrera, Nieman, Melissa Polinar', 'hongjoin', 'HENRY, Yuna', 'yuji, putri dahlia', 'Maximillian - Letters', 'yaeow, Neptune', 'Hayd', 'Avery Lynch', 'Stephen Sanchez', 'Abe Parker - Butterflies', 'MAX - EDIE CELINE', 'Maximillian - Ripples', 'yaeow', 'yaeow', 'd4vd, Laufey', 'Chris James', 'rhianne', 'yaeow', 'Etham', 'Avery Lynch', 'Matt Maltese', '92914', \"HONNE - la la la that's how it goes\", 'Milena - Letter', 'The Paper Kites', '92914,HanMinji', 'HONNE - free love', 'Gogang', 'HONNE - gone gone gone', 'Finding Hope', 'Sino', 'Oscar Lang', '92914', 'Sam Ock', 'HONNE - one way to tokyo', 'Joey Stamper', 'SOLOMON', 'Sam Ock', 'Matt Maltese', 'Finding Hope', 'Gogang', 'The Paper Kites, Lucy Rose', 'Finding Hope', 'yaeow', 'Finding Hope', 'Wang OK', 'Api & Sarah Hemi', 'Sarah Kang', 'Sarah Kang', 'Arash Buana', 'Ed Sheeran', 'Gabe Bondoc', 'Elina', 'kiyu', '92914, HanMinji', 'Sarah Kang', 'The Paper Kites', 'Arash Buana', 'hongjoin', 'Luara Zocca', 'Elina', 'Jayes', 'The Paper Kites', 'Mokita', 'hongjoin', 'Micah Yoo', 'Elina', 'Arash Buana, Anya Taroreh', 'The Paper Kites', 'Lily Williams', 'Porter Robinson', 'Portair, Emily James']\n",
      "['Until I Found You', \"IT'S YOU\", 'UNDERSTAND', 'stars', 'Tangled Up (Reimagined)', 'So This Is Love', 'Till There Was You', 'magic', 'What We Found', 'you left your baggage', 'Real Love Still Exists', 'Old Love (Stripped)', 'Acoustic', 'The Way I Love You', 'When You Were Mine', \"you're just a guy\", 'I Want You', 'Acoustic', 'Stripped Version', 'Acoustic', 'still that kid (deep down)', 'everything to me', 'This Is How It Feels', 'The Green (Acoustic)', 'my love mine all mine', 'Stuck Here Without You', 'What I Feel Is Love', 'all i need (the distance song)', 'Everyone Adores You (quiet)', 'Starlight', 'dream edit', 'English Version', 'Tin Lover', 'Someday', 'dream edit', 'Love Is (Intro)', 'dream edit', 'Whatever You Want', 'Strange', 'million little reasons', 'Okinawa', 'Remember', 'dream edit', 'In The Wee Small Hours Of The Morning', 'do you want my love?', 'silent', 'When You Wash Your Hair', 'another guy', 'Your Night Is My Dream', 'For All You Give', 'yellow lights', 'does it really matter?', 'to the moon & back', 'City Of Stars', \"Isn't It Strange\", 'goodbye and godspeed', 'now i know', 'stars', 'Spring', 'Barely', 'Blue', 'mountain', 'Someday', 'Nothing', 'Nothing More Than That', \"i've always loved you\", 'The Last Time', 'The Art Of Getting By', 'Remember', \"when it's not okay\", 'Only One', 'Clear Eyes', 'If Venice Can Sink', \"It's Just Not That Deep\", 'How', \"we'll be okay, for today\", 'Tin Lover', 'Maybe', 'Blossom', \"Life We've Built\"]\n",
      "80 80 80 80 80\n",
      "['Stephen Sanchez', 'MAX, keshi', 'keshi', 'Arash Buana', 'Jesse Barrera, Nieman, Melissa Polinar', 'Sneha, ConTejas', 'Imaginary Future', 'John K', 'Jesse Barrera, Nieman, Melissa Polinar', 'hongjoin', 'HENRY, Yuna', 'yuji, putri dahlia', 'Maximillian - Letters', 'yaeow, Neptune', 'Hayd', 'Avery Lynch', 'Stephen Sanchez', 'Abe Parker - Butterflies', 'MAX - EDIE CELINE', 'Maximillian - Ripples', 'yaeow', 'yaeow', 'd4vd, Laufey', 'Chris James', 'rhianne', 'yaeow', 'Etham', 'Avery Lynch', 'Matt Maltese', '92914', \"HONNE - la la la that's how it goes\", 'Milena - Letter', 'The Paper Kites', '92914,HanMinji', 'HONNE - free love', 'Gogang', 'HONNE - gone gone gone', 'Finding Hope', 'Sino', 'Oscar Lang', '92914', 'Sam Ock', 'HONNE - one way to tokyo', 'Joey Stamper', 'SOLOMON', 'Sam Ock', 'Matt Maltese', 'Finding Hope', 'Gogang', 'The Paper Kites, Lucy Rose', 'Finding Hope', 'yaeow', 'Finding Hope', 'Wang OK', 'Api & Sarah Hemi', 'Sarah Kang', 'Sarah Kang', 'Arash Buana', 'Ed Sheeran', 'Gabe Bondoc', 'Elina', 'kiyu', '92914, HanMinji', 'Sarah Kang', 'The Paper Kites', 'Arash Buana', 'hongjoin', 'Luara Zocca', 'Elina', 'Jayes', 'The Paper Kites', 'Mokita', 'hongjoin', 'Micah Yoo', 'Elina', 'Arash Buana, Anya Taroreh', 'The Paper Kites', 'Lily Williams', 'Porter Robinson', 'Portair, Emily James', 'Luisa Sobral', 'Angela Moyra', 'Jason LaPierre, Branden Sunshine, John Hasselback lll', 'Gabe Bondoc', 'Anthony Lazaro, Marle Thomson', 'Rachael & Vilray', 'Rachael & Vilray', 'Ardhito Pramono', 'Anthony Lazaro, Marle Thomson', 'Martin Sexton', 'Gabe Bondoc', 'Cady Fleet', 'Meera, Raag Sethi', 'Carsie Blanton', 'Rein', 'Anthony Lazaro, Marle Thomson', 'Aoi Teshima', 'Jason LaPierre', 'Gabe Bondoc', 'Diana Panton', 'Joseph Vincent', 'Mathilda Homer', 'Jason LaPierre', 'Rachael & Vilray', 'Rachael & Vilray', 'Flora Martinez', 'Ginne Marker', 'Meera, Raag Sethi', 'Ardhito Pramono', 'Rachael & Vilray', 'Rachael & Vilray']\n",
      "['Until I Found You', \"IT'S YOU\", 'UNDERSTAND', 'stars', 'Tangled Up (Reimagined)', 'So This Is Love', 'Till There Was You', 'magic', 'What We Found', 'you left your baggage', 'Real Love Still Exists', 'Old Love (Stripped)', 'Acoustic', 'The Way I Love You', 'When You Were Mine', \"you're just a guy\", 'I Want You', 'Acoustic', 'Stripped Version', 'Acoustic', 'still that kid (deep down)', 'everything to me', 'This Is How It Feels', 'The Green (Acoustic)', 'my love mine all mine', 'Stuck Here Without You', 'What I Feel Is Love', 'all i need (the distance song)', 'Everyone Adores You (quiet)', 'Starlight', 'dream edit', 'English Version', 'Tin Lover', 'Someday', 'dream edit', 'Love Is (Intro)', 'dream edit', 'Whatever You Want', 'Strange', 'million little reasons', 'Okinawa', 'Remember', 'dream edit', 'In The Wee Small Hours Of The Morning', 'do you want my love?', 'silent', 'When You Wash Your Hair', 'another guy', 'Your Night Is My Dream', 'For All You Give', 'yellow lights', 'does it really matter?', 'to the moon & back', 'City Of Stars', \"Isn't It Strange\", 'goodbye and godspeed', 'now i know', 'stars', 'Spring', 'Barely', 'Blue', 'mountain', 'Someday', 'Nothing', 'Nothing More Than That', \"i've always loved you\", 'The Last Time', 'The Art Of Getting By', 'Remember', \"when it's not okay\", 'Only One', 'Clear Eyes', 'If Venice Can Sink', \"It's Just Not That Deep\", 'How', \"we'll be okay, for today\", 'Tin Lover', 'Maybe', 'Blossom', \"Life We've Built\", 'Mr & Mrs Brown', \"Poppin'\", 'Look For The Silver Lining', 'Nothing More', \"It's Love\", 'Treat Me Better', 'Do Friends Fall in Love?', 'Here We Go Again', 'Hummingbird', 'Diggin Me', 'Loved You First', 'Valentine', 'Mango Milkshake', 'Two Sleepy People', \"I've Loved You\", 'Moonlight', \"C'est si bon\", 'Something Stupid', 'Stronger Than', 'Happy Talk', \"Can't Take My Eyes Off You\", 'Do You Want to Know a Secret', 'catching feelings 4 u', \"Let's Make Love on This Plane\", 'Any Little Time', 'Blue Moon', 'Sunny Days', '23', '925', 'Goodnight My Love', 'Hate is the Basis (of love)']\n",
      "111 111 111 111 111\n",
      "['Stephen Sanchez', 'MAX, keshi', 'keshi', 'Arash Buana', 'Jesse Barrera, Nieman, Melissa Polinar', 'Sneha, ConTejas', 'Imaginary Future', 'John K', 'Jesse Barrera, Nieman, Melissa Polinar', 'hongjoin', 'HENRY, Yuna', 'yuji, putri dahlia', 'Maximillian - Letters', 'yaeow, Neptune', 'Hayd', 'Avery Lynch', 'Stephen Sanchez', 'Abe Parker - Butterflies', 'MAX - EDIE CELINE', 'Maximillian - Ripples', 'yaeow', 'yaeow', 'd4vd, Laufey', 'Chris James', 'rhianne', 'yaeow', 'Etham', 'Avery Lynch', 'Matt Maltese', '92914', \"HONNE - la la la that's how it goes\", 'Milena - Letter', 'The Paper Kites', '92914,HanMinji', 'HONNE - free love', 'Gogang', 'HONNE - gone gone gone', 'Finding Hope', 'Sino', 'Oscar Lang', '92914', 'Sam Ock', 'HONNE - one way to tokyo', 'Joey Stamper', 'SOLOMON', 'Sam Ock', 'Matt Maltese', 'Finding Hope', 'Gogang', 'The Paper Kites, Lucy Rose', 'Finding Hope', 'yaeow', 'Finding Hope', 'Wang OK', 'Api & Sarah Hemi', 'Sarah Kang', 'Sarah Kang', 'Arash Buana', 'Ed Sheeran', 'Gabe Bondoc', 'Elina', 'kiyu', '92914, HanMinji', 'Sarah Kang', 'The Paper Kites', 'Arash Buana', 'hongjoin', 'Luara Zocca', 'Elina', 'Jayes', 'The Paper Kites', 'Mokita', 'hongjoin', 'Micah Yoo', 'Elina', 'Arash Buana, Anya Taroreh', 'The Paper Kites', 'Lily Williams', 'Porter Robinson', 'Portair, Emily James', 'Luisa Sobral', 'Angela Moyra', 'Jason LaPierre, Branden Sunshine, John Hasselback lll', 'Gabe Bondoc', 'Anthony Lazaro, Marle Thomson', 'Rachael & Vilray', 'Rachael & Vilray', 'Ardhito Pramono', 'Anthony Lazaro, Marle Thomson', 'Martin Sexton', 'Gabe Bondoc', 'Cady Fleet', 'Meera, Raag Sethi', 'Carsie Blanton', 'Rein', 'Anthony Lazaro, Marle Thomson', 'Aoi Teshima', 'Jason LaPierre', 'Gabe Bondoc', 'Diana Panton', 'Joseph Vincent', 'Mathilda Homer', 'Jason LaPierre', 'Rachael & Vilray', 'Rachael & Vilray', 'Flora Martinez', 'Ginne Marker', 'Meera, Raag Sethi', 'Ardhito Pramono', 'Rachael & Vilray', 'Rachael & Vilray', 'Jason Lee, THAMA', 'UMI, V', 'Gareth.T', 'Jesse Gold', 'THAMA - Complicated', 'JVKE, Pink Sweat$', 'Johnny Stimson - Flower', 'Jake Fine', 'SOLOMON', 'dress, JUNNY, Sam Ock', 'THAMA', 'Ethan French', 'Jackson Lundy', 'Duncan Ramos', '92914', 'ASTN - Be So Cruel', 'Joseph Solomon', 'ASTN - How Soon', 'Paul Partohap', 'THAMA', 'Taiyo Ky', 'Anthony Russo', 'Gabriel, Melissa Polinar', 'Kidnot$aints.', 'Joseph Solomon', 'Corey Harper', 'Lemon City - You got me!', 'Omesi', 'Mason Murphy, Jordan Jack - Sadie', 'Michael Carreon', 'MIKA', 'Devin Kennedy']\n",
      "['Until I Found You', \"IT'S YOU\", 'UNDERSTAND', 'stars', 'Tangled Up (Reimagined)', 'So This Is Love', 'Till There Was You', 'magic', 'What We Found', 'you left your baggage', 'Real Love Still Exists', 'Old Love (Stripped)', 'Acoustic', 'The Way I Love You', 'When You Were Mine', \"you're just a guy\", 'I Want You', 'Acoustic', 'Stripped Version', 'Acoustic', 'still that kid (deep down)', 'everything to me', 'This Is How It Feels', 'The Green (Acoustic)', 'my love mine all mine', 'Stuck Here Without You', 'What I Feel Is Love', 'all i need (the distance song)', 'Everyone Adores You (quiet)', 'Starlight', 'dream edit', 'English Version', 'Tin Lover', 'Someday', 'dream edit', 'Love Is (Intro)', 'dream edit', 'Whatever You Want', 'Strange', 'million little reasons', 'Okinawa', 'Remember', 'dream edit', 'In The Wee Small Hours Of The Morning', 'do you want my love?', 'silent', 'When You Wash Your Hair', 'another guy', 'Your Night Is My Dream', 'For All You Give', 'yellow lights', 'does it really matter?', 'to the moon & back', 'City Of Stars', \"Isn't It Strange\", 'goodbye and godspeed', 'now i know', 'stars', 'Spring', 'Barely', 'Blue', 'mountain', 'Someday', 'Nothing', 'Nothing More Than That', \"i've always loved you\", 'The Last Time', 'The Art Of Getting By', 'Remember', \"when it's not okay\", 'Only One', 'Clear Eyes', 'If Venice Can Sink', \"It's Just Not That Deep\", 'How', \"we'll be okay, for today\", 'Tin Lover', 'Maybe', 'Blossom', \"Life We've Built\", 'Mr & Mrs Brown', \"Poppin'\", 'Look For The Silver Lining', 'Nothing More', \"It's Love\", 'Treat Me Better', 'Do Friends Fall in Love?', 'Here We Go Again', 'Hummingbird', 'Diggin Me', 'Loved You First', 'Valentine', 'Mango Milkshake', 'Two Sleepy People', \"I've Loved You\", 'Moonlight', \"C'est si bon\", 'Something Stupid', 'Stronger Than', 'Happy Talk', \"Can't Take My Eyes Off You\", 'Do You Want to Know a Secret', 'catching feelings 4 u', \"Let's Make Love on This Plane\", 'Any Little Time', 'Blue Moon', 'Sunny Days', '23', '925', 'Goodnight My Love', 'Hate is the Basis (of love)', 'find love', 'wherever u r', 'dinner in bed', 'Slow Dance In The Morning', 'English Version', 'lavender', 'Piano Version', \"I Couldn't Paint\", 'unrequited', 'I LOVE YOU', 'HEY', \"i don't know\", 'Dandelious', 'Hey', 'Hey Billie', 'Stripped', 'Officially Missing You', 'Stripped Version', 'WANDERLUST', 'I Feel Love', 'Fall 4 U', 'u & i', 'cry baby', 'Sweet Ivory', 'Turn Your Lights Down Low', 'The 1', 'Acoustic', 'MONAMI', 'Stripped', 'Lucky Day', 'melancholy song', 'Rainy Day Theme']\n",
      "143 143 143 143 143\n",
      "['Stephen Sanchez', 'MAX, keshi', 'keshi', 'Arash Buana', 'Jesse Barrera, Nieman, Melissa Polinar', 'Sneha, ConTejas', 'Imaginary Future', 'John K', 'Jesse Barrera, Nieman, Melissa Polinar', 'hongjoin', 'HENRY, Yuna', 'yuji, putri dahlia', 'Maximillian - Letters', 'yaeow, Neptune', 'Hayd', 'Avery Lynch', 'Stephen Sanchez', 'Abe Parker - Butterflies', 'MAX - EDIE CELINE', 'Maximillian - Ripples', 'yaeow', 'yaeow', 'd4vd, Laufey', 'Chris James', 'rhianne', 'yaeow', 'Etham', 'Avery Lynch', 'Matt Maltese', '92914', \"HONNE - la la la that's how it goes\", 'Milena - Letter', 'The Paper Kites', '92914,HanMinji', 'HONNE - free love', 'Gogang', 'HONNE - gone gone gone', 'Finding Hope', 'Sino', 'Oscar Lang', '92914', 'Sam Ock', 'HONNE - one way to tokyo', 'Joey Stamper', 'SOLOMON', 'Sam Ock', 'Matt Maltese', 'Finding Hope', 'Gogang', 'The Paper Kites, Lucy Rose', 'Finding Hope', 'yaeow', 'Finding Hope', 'Wang OK', 'Api & Sarah Hemi', 'Sarah Kang', 'Sarah Kang', 'Arash Buana', 'Ed Sheeran', 'Gabe Bondoc', 'Elina', 'kiyu', '92914, HanMinji', 'Sarah Kang', 'The Paper Kites', 'Arash Buana', 'hongjoin', 'Luara Zocca', 'Elina', 'Jayes', 'The Paper Kites', 'Mokita', 'hongjoin', 'Micah Yoo', 'Elina', 'Arash Buana, Anya Taroreh', 'The Paper Kites', 'Lily Williams', 'Porter Robinson', 'Portair, Emily James', 'Luisa Sobral', 'Angela Moyra', 'Jason LaPierre, Branden Sunshine, John Hasselback lll', 'Gabe Bondoc', 'Anthony Lazaro, Marle Thomson', 'Rachael & Vilray', 'Rachael & Vilray', 'Ardhito Pramono', 'Anthony Lazaro, Marle Thomson', 'Martin Sexton', 'Gabe Bondoc', 'Cady Fleet', 'Meera, Raag Sethi', 'Carsie Blanton', 'Rein', 'Anthony Lazaro, Marle Thomson', 'Aoi Teshima', 'Jason LaPierre', 'Gabe Bondoc', 'Diana Panton', 'Joseph Vincent', 'Mathilda Homer', 'Jason LaPierre', 'Rachael & Vilray', 'Rachael & Vilray', 'Flora Martinez', 'Ginne Marker', 'Meera, Raag Sethi', 'Ardhito Pramono', 'Rachael & Vilray', 'Rachael & Vilray', 'Jason Lee, THAMA', 'UMI, V', 'Gareth.T', 'Jesse Gold', 'THAMA - Complicated', 'JVKE, Pink Sweat$', 'Johnny Stimson - Flower', 'Jake Fine', 'SOLOMON', 'dress, JUNNY, Sam Ock', 'THAMA', 'Ethan French', 'Jackson Lundy', 'Duncan Ramos', '92914', 'ASTN - Be So Cruel', 'Joseph Solomon', 'ASTN - How Soon', 'Paul Partohap', 'THAMA', 'Taiyo Ky', 'Anthony Russo', 'Gabriel, Melissa Polinar', 'Kidnot$aints.', 'Joseph Solomon', 'Corey Harper', 'Lemon City - You got me!', 'Omesi', 'Mason Murphy, Jordan Jack - Sadie', 'Michael Carreon', 'MIKA', 'Devin Kennedy', 'Johnny Orlando', 'MAX - EDIE CELINE', 'Peder Elias', 'SONN', 'Samuel Lim', 'Suriel Hess', 'SONN', 'mike martell', 'Neptune', 'Boy In Space', 'RYMAN - Young', 'Nieman', 'Adriel Rivera', 'Faime', 'LOVELOVELOVE', 'yaeow', 'sunshine blvd.', 'joan - superglue', 'Yueku', 'Rosie Darling', 'Valley', 'yaeow', 'ROSE', 'Matthew Hall, Ber', 'Faime', 'Reagan Beem', 'John Mark Nelson, Sofia Mills']\n",
      "['Until I Found You', \"IT'S YOU\", 'UNDERSTAND', 'stars', 'Tangled Up (Reimagined)', 'So This Is Love', 'Till There Was You', 'magic', 'What We Found', 'you left your baggage', 'Real Love Still Exists', 'Old Love (Stripped)', 'Acoustic', 'The Way I Love You', 'When You Were Mine', \"you're just a guy\", 'I Want You', 'Acoustic', 'Stripped Version', 'Acoustic', 'still that kid (deep down)', 'everything to me', 'This Is How It Feels', 'The Green (Acoustic)', 'my love mine all mine', 'Stuck Here Without You', 'What I Feel Is Love', 'all i need (the distance song)', 'Everyone Adores You (quiet)', 'Starlight', 'dream edit', 'English Version', 'Tin Lover', 'Someday', 'dream edit', 'Love Is (Intro)', 'dream edit', 'Whatever You Want', 'Strange', 'million little reasons', 'Okinawa', 'Remember', 'dream edit', 'In The Wee Small Hours Of The Morning', 'do you want my love?', 'silent', 'When You Wash Your Hair', 'another guy', 'Your Night Is My Dream', 'For All You Give', 'yellow lights', 'does it really matter?', 'to the moon & back', 'City Of Stars', \"Isn't It Strange\", 'goodbye and godspeed', 'now i know', 'stars', 'Spring', 'Barely', 'Blue', 'mountain', 'Someday', 'Nothing', 'Nothing More Than That', \"i've always loved you\", 'The Last Time', 'The Art Of Getting By', 'Remember', \"when it's not okay\", 'Only One', 'Clear Eyes', 'If Venice Can Sink', \"It's Just Not That Deep\", 'How', \"we'll be okay, for today\", 'Tin Lover', 'Maybe', 'Blossom', \"Life We've Built\", 'Mr & Mrs Brown', \"Poppin'\", 'Look For The Silver Lining', 'Nothing More', \"It's Love\", 'Treat Me Better', 'Do Friends Fall in Love?', 'Here We Go Again', 'Hummingbird', 'Diggin Me', 'Loved You First', 'Valentine', 'Mango Milkshake', 'Two Sleepy People', \"I've Loved You\", 'Moonlight', \"C'est si bon\", 'Something Stupid', 'Stronger Than', 'Happy Talk', \"Can't Take My Eyes Off You\", 'Do You Want to Know a Secret', 'catching feelings 4 u', \"Let's Make Love on This Plane\", 'Any Little Time', 'Blue Moon', 'Sunny Days', '23', '925', 'Goodnight My Love', 'Hate is the Basis (of love)', 'find love', 'wherever u r', 'dinner in bed', 'Slow Dance In The Morning', 'English Version', 'lavender', 'Piano Version', \"I Couldn't Paint\", 'unrequited', 'I LOVE YOU', 'HEY', \"i don't know\", 'Dandelious', 'Hey', 'Hey Billie', 'Stripped', 'Officially Missing You', 'Stripped Version', 'WANDERLUST', 'I Feel Love', 'Fall 4 U', 'u & i', 'cry baby', 'Sweet Ivory', 'Turn Your Lights Down Low', 'The 1', 'Acoustic', 'MONAMI', 'Stripped', 'Lucky Day', 'melancholy song', 'Rainy Day Theme', 'Thinking Of Me', 'Stripped Version', 'Forever Was Never Enough', 'How Do I Tell You', 'Eleanor', 'Sick of You', 'Am I Selfish', 'love you the same', 'in these bones', 'Drown', 'Acoustic', 'Castle Rock', 'to her', 'Lifetime', 'beach baby', 'be gentle with me', 'Right One Wrong Time', 'stripped', 'Kodak', 'The Longest Goodbye', 'forget me', 'everything to me', 'x my heart, hope to die', 'Inconvenient', 'I Wish', 'Heartache Can Be Beautiful', 'Perfect Stranger']\n",
      "170 170 170 170 170\n",
      "['Stephen Sanchez', 'MAX, keshi', 'keshi', 'Arash Buana', 'Jesse Barrera, Nieman, Melissa Polinar', 'Sneha, ConTejas', 'Imaginary Future', 'John K', 'Jesse Barrera, Nieman, Melissa Polinar', 'hongjoin', 'HENRY, Yuna', 'yuji, putri dahlia', 'Maximillian - Letters', 'yaeow, Neptune', 'Hayd', 'Avery Lynch', 'Stephen Sanchez', 'Abe Parker - Butterflies', 'MAX - EDIE CELINE', 'Maximillian - Ripples', 'yaeow', 'yaeow', 'd4vd, Laufey', 'Chris James', 'rhianne', 'yaeow', 'Etham', 'Avery Lynch', 'Matt Maltese', '92914', \"HONNE - la la la that's how it goes\", 'Milena - Letter', 'The Paper Kites', '92914,HanMinji', 'HONNE - free love', 'Gogang', 'HONNE - gone gone gone', 'Finding Hope', 'Sino', 'Oscar Lang', '92914', 'Sam Ock', 'HONNE - one way to tokyo', 'Joey Stamper', 'SOLOMON', 'Sam Ock', 'Matt Maltese', 'Finding Hope', 'Gogang', 'The Paper Kites, Lucy Rose', 'Finding Hope', 'yaeow', 'Finding Hope', 'Wang OK', 'Api & Sarah Hemi', 'Sarah Kang', 'Sarah Kang', 'Arash Buana', 'Ed Sheeran', 'Gabe Bondoc', 'Elina', 'kiyu', '92914, HanMinji', 'Sarah Kang', 'The Paper Kites', 'Arash Buana', 'hongjoin', 'Luara Zocca', 'Elina', 'Jayes', 'The Paper Kites', 'Mokita', 'hongjoin', 'Micah Yoo', 'Elina', 'Arash Buana, Anya Taroreh', 'The Paper Kites', 'Lily Williams', 'Porter Robinson', 'Portair, Emily James', 'Luisa Sobral', 'Angela Moyra', 'Jason LaPierre, Branden Sunshine, John Hasselback lll', 'Gabe Bondoc', 'Anthony Lazaro, Marle Thomson', 'Rachael & Vilray', 'Rachael & Vilray', 'Ardhito Pramono', 'Anthony Lazaro, Marle Thomson', 'Martin Sexton', 'Gabe Bondoc', 'Cady Fleet', 'Meera, Raag Sethi', 'Carsie Blanton', 'Rein', 'Anthony Lazaro, Marle Thomson', 'Aoi Teshima', 'Jason LaPierre', 'Gabe Bondoc', 'Diana Panton', 'Joseph Vincent', 'Mathilda Homer', 'Jason LaPierre', 'Rachael & Vilray', 'Rachael & Vilray', 'Flora Martinez', 'Ginne Marker', 'Meera, Raag Sethi', 'Ardhito Pramono', 'Rachael & Vilray', 'Rachael & Vilray', 'Jason Lee, THAMA', 'UMI, V', 'Gareth.T', 'Jesse Gold', 'THAMA - Complicated', 'JVKE, Pink Sweat$', 'Johnny Stimson - Flower', 'Jake Fine', 'SOLOMON', 'dress, JUNNY, Sam Ock', 'THAMA', 'Ethan French', 'Jackson Lundy', 'Duncan Ramos', '92914', 'ASTN - Be So Cruel', 'Joseph Solomon', 'ASTN - How Soon', 'Paul Partohap', 'THAMA', 'Taiyo Ky', 'Anthony Russo', 'Gabriel, Melissa Polinar', 'Kidnot$aints.', 'Joseph Solomon', 'Corey Harper', 'Lemon City - You got me!', 'Omesi', 'Mason Murphy, Jordan Jack - Sadie', 'Michael Carreon', 'MIKA', 'Devin Kennedy', 'Johnny Orlando', 'MAX - EDIE CELINE', 'Peder Elias', 'SONN', 'Samuel Lim', 'Suriel Hess', 'SONN', 'mike martell', 'Neptune', 'Boy In Space', 'RYMAN - Young', 'Nieman', 'Adriel Rivera', 'Faime', 'LOVELOVELOVE', 'yaeow', 'sunshine blvd.', 'joan - superglue', 'Yueku', 'Rosie Darling', 'Valley', 'yaeow', 'ROSE', 'Matthew Hall, Ber', 'Faime', 'Reagan Beem', 'John Mark Nelson, Sofia Mills']\n",
      "['Until I Found You', \"IT'S YOU\", 'UNDERSTAND', 'stars', 'Tangled Up (Reimagined)', 'So This Is Love', 'Till There Was You', 'magic', 'What We Found', 'you left your baggage', 'Real Love Still Exists', 'Old Love (Stripped)', 'Acoustic', 'The Way I Love You', 'When You Were Mine', \"you're just a guy\", 'I Want You', 'Acoustic', 'Stripped Version', 'Acoustic', 'still that kid (deep down)', 'everything to me', 'This Is How It Feels', 'The Green (Acoustic)', 'my love mine all mine', 'Stuck Here Without You', 'What I Feel Is Love', 'all i need (the distance song)', 'Everyone Adores You (quiet)', 'Starlight', 'dream edit', 'English Version', 'Tin Lover', 'Someday', 'dream edit', 'Love Is (Intro)', 'dream edit', 'Whatever You Want', 'Strange', 'million little reasons', 'Okinawa', 'Remember', 'dream edit', 'In The Wee Small Hours Of The Morning', 'do you want my love?', 'silent', 'When You Wash Your Hair', 'another guy', 'Your Night Is My Dream', 'For All You Give', 'yellow lights', 'does it really matter?', 'to the moon & back', 'City Of Stars', \"Isn't It Strange\", 'goodbye and godspeed', 'now i know', 'stars', 'Spring', 'Barely', 'Blue', 'mountain', 'Someday', 'Nothing', 'Nothing More Than That', \"i've always loved you\", 'The Last Time', 'The Art Of Getting By', 'Remember', \"when it's not okay\", 'Only One', 'Clear Eyes', 'If Venice Can Sink', \"It's Just Not That Deep\", 'How', \"we'll be okay, for today\", 'Tin Lover', 'Maybe', 'Blossom', \"Life We've Built\", 'Mr & Mrs Brown', \"Poppin'\", 'Look For The Silver Lining', 'Nothing More', \"It's Love\", 'Treat Me Better', 'Do Friends Fall in Love?', 'Here We Go Again', 'Hummingbird', 'Diggin Me', 'Loved You First', 'Valentine', 'Mango Milkshake', 'Two Sleepy People', \"I've Loved You\", 'Moonlight', \"C'est si bon\", 'Something Stupid', 'Stronger Than', 'Happy Talk', \"Can't Take My Eyes Off You\", 'Do You Want to Know a Secret', 'catching feelings 4 u', \"Let's Make Love on This Plane\", 'Any Little Time', 'Blue Moon', 'Sunny Days', '23', '925', 'Goodnight My Love', 'Hate is the Basis (of love)', 'find love', 'wherever u r', 'dinner in bed', 'Slow Dance In The Morning', 'English Version', 'lavender', 'Piano Version', \"I Couldn't Paint\", 'unrequited', 'I LOVE YOU', 'HEY', \"i don't know\", 'Dandelious', 'Hey', 'Hey Billie', 'Stripped', 'Officially Missing You', 'Stripped Version', 'WANDERLUST', 'I Feel Love', 'Fall 4 U', 'u & i', 'cry baby', 'Sweet Ivory', 'Turn Your Lights Down Low', 'The 1', 'Acoustic', 'MONAMI', 'Stripped', 'Lucky Day', 'melancholy song', 'Rainy Day Theme', 'Thinking Of Me', 'Stripped Version', 'Forever Was Never Enough', 'How Do I Tell You', 'Eleanor', 'Sick of You', 'Am I Selfish', 'love you the same', 'in these bones', 'Drown', 'Acoustic', 'Castle Rock', 'to her', 'Lifetime', 'beach baby', 'be gentle with me', 'Right One Wrong Time', 'stripped', 'Kodak', 'The Longest Goodbye', 'forget me', 'everything to me', 'x my heart, hope to die', 'Inconvenient', 'I Wish', 'Heartache Can Be Beautiful', 'Perfect Stranger']\n",
      "170 170 170 170 170\n",
      "['Stephen Sanchez', 'MAX, keshi', 'keshi', 'Arash Buana', 'Jesse Barrera, Nieman, Melissa Polinar', 'Sneha, ConTejas', 'Imaginary Future', 'John K', 'Jesse Barrera, Nieman, Melissa Polinar', 'hongjoin', 'HENRY, Yuna', 'yuji, putri dahlia', 'Maximillian - Letters', 'yaeow, Neptune', 'Hayd', 'Avery Lynch', 'Stephen Sanchez', 'Abe Parker - Butterflies', 'MAX - EDIE CELINE', 'Maximillian - Ripples', 'yaeow', 'yaeow', 'd4vd, Laufey', 'Chris James', 'rhianne', 'yaeow', 'Etham', 'Avery Lynch', 'Matt Maltese', '92914', \"HONNE - la la la that's how it goes\", 'Milena - Letter', 'The Paper Kites', '92914,HanMinji', 'HONNE - free love', 'Gogang', 'HONNE - gone gone gone', 'Finding Hope', 'Sino', 'Oscar Lang', '92914', 'Sam Ock', 'HONNE - one way to tokyo', 'Joey Stamper', 'SOLOMON', 'Sam Ock', 'Matt Maltese', 'Finding Hope', 'Gogang', 'The Paper Kites, Lucy Rose', 'Finding Hope', 'yaeow', 'Finding Hope', 'Wang OK', 'Api & Sarah Hemi', 'Sarah Kang', 'Sarah Kang', 'Arash Buana', 'Ed Sheeran', 'Gabe Bondoc', 'Elina', 'kiyu', '92914, HanMinji', 'Sarah Kang', 'The Paper Kites', 'Arash Buana', 'hongjoin', 'Luara Zocca', 'Elina', 'Jayes', 'The Paper Kites', 'Mokita', 'hongjoin', 'Micah Yoo', 'Elina', 'Arash Buana, Anya Taroreh', 'The Paper Kites', 'Lily Williams', 'Porter Robinson', 'Portair, Emily James', 'Luisa Sobral', 'Angela Moyra', 'Jason LaPierre, Branden Sunshine, John Hasselback lll', 'Gabe Bondoc', 'Anthony Lazaro, Marle Thomson', 'Rachael & Vilray', 'Rachael & Vilray', 'Ardhito Pramono', 'Anthony Lazaro, Marle Thomson', 'Martin Sexton', 'Gabe Bondoc', 'Cady Fleet', 'Meera, Raag Sethi', 'Carsie Blanton', 'Rein', 'Anthony Lazaro, Marle Thomson', 'Aoi Teshima', 'Jason LaPierre', 'Gabe Bondoc', 'Diana Panton', 'Joseph Vincent', 'Mathilda Homer', 'Jason LaPierre', 'Rachael & Vilray', 'Rachael & Vilray', 'Flora Martinez', 'Ginne Marker', 'Meera, Raag Sethi', 'Ardhito Pramono', 'Rachael & Vilray', 'Rachael & Vilray', 'Jason Lee, THAMA', 'UMI, V', 'Gareth.T', 'Jesse Gold', 'THAMA - Complicated', 'JVKE, Pink Sweat$', 'Johnny Stimson - Flower', 'Jake Fine', 'SOLOMON', 'dress, JUNNY, Sam Ock', 'THAMA', 'Ethan French', 'Jackson Lundy', 'Duncan Ramos', '92914', 'ASTN - Be So Cruel', 'Joseph Solomon', 'ASTN - How Soon', 'Paul Partohap', 'THAMA', 'Taiyo Ky', 'Anthony Russo', 'Gabriel, Melissa Polinar', 'Kidnot$aints.', 'Joseph Solomon', 'Corey Harper', 'Lemon City - You got me!', 'Omesi', 'Mason Murphy, Jordan Jack - Sadie', 'Michael Carreon', 'MIKA', 'Devin Kennedy', 'Johnny Orlando', 'MAX - EDIE CELINE', 'Peder Elias', 'SONN', 'Samuel Lim', 'Suriel Hess', 'SONN', 'mike martell', 'Neptune', 'Boy In Space', 'RYMAN - Young', 'Nieman', 'Adriel Rivera', 'Faime', 'LOVELOVELOVE', 'yaeow', 'sunshine blvd.', 'joan - superglue', 'Yueku', 'Rosie Darling', 'Valley', 'yaeow', 'ROSE', 'Matthew Hall, Ber', 'Faime', 'Reagan Beem', 'John Mark Nelson, Sofia Mills', 'Johnny Stimson', 'Jesse Barrera, Albert Posis', 'Jesse Barrera, Michael Carreon', 'Jesse Barrera, Albert Posis', 'Albert Posis - Serendipity', 'Gabe Bondoc, Patrick Hizon', 'Johnny Stimson', 'Albert Posis, Patrick Hizon', 'Albert Posis', 'Jesse Barrera, Patrick Hizon', 'Michael Carreon', 'Jesse Barrera', 'Johnny Stimson', 'Patrick Hizon, EJEAN', 'Albert Posis', 'Albert Posis', 'Albert Posis', 'Michael Carreon', 'Johnny Stimson', 'Jesse Barrera, Tim Atlas', 'Jesse Barrera, Melissa Polinar', 'Jesse Barrera, Albert Posis', 'Thomas Ng', 'Jesse Barrera, Gabe Bondoc', 'Jeff Bernat, Albert Posis, Jesse Barrera, PRVDNT', 'Albert Posis', 'Jesse Barrera, Albert Posis', 'Vincent Water, TERESA']\n",
      "['Until I Found You', \"IT'S YOU\", 'UNDERSTAND', 'stars', 'Tangled Up (Reimagined)', 'So This Is Love', 'Till There Was You', 'magic', 'What We Found', 'you left your baggage', 'Real Love Still Exists', 'Old Love (Stripped)', 'Acoustic', 'The Way I Love You', 'When You Were Mine', \"you're just a guy\", 'I Want You', 'Acoustic', 'Stripped Version', 'Acoustic', 'still that kid (deep down)', 'everything to me', 'This Is How It Feels', 'The Green (Acoustic)', 'my love mine all mine', 'Stuck Here Without You', 'What I Feel Is Love', 'all i need (the distance song)', 'Everyone Adores You (quiet)', 'Starlight', 'dream edit', 'English Version', 'Tin Lover', 'Someday', 'dream edit', 'Love Is (Intro)', 'dream edit', 'Whatever You Want', 'Strange', 'million little reasons', 'Okinawa', 'Remember', 'dream edit', 'In The Wee Small Hours Of The Morning', 'do you want my love?', 'silent', 'When You Wash Your Hair', 'another guy', 'Your Night Is My Dream', 'For All You Give', 'yellow lights', 'does it really matter?', 'to the moon & back', 'City Of Stars', \"Isn't It Strange\", 'goodbye and godspeed', 'now i know', 'stars', 'Spring', 'Barely', 'Blue', 'mountain', 'Someday', 'Nothing', 'Nothing More Than That', \"i've always loved you\", 'The Last Time', 'The Art Of Getting By', 'Remember', \"when it's not okay\", 'Only One', 'Clear Eyes', 'If Venice Can Sink', \"It's Just Not That Deep\", 'How', \"we'll be okay, for today\", 'Tin Lover', 'Maybe', 'Blossom', \"Life We've Built\", 'Mr & Mrs Brown', \"Poppin'\", 'Look For The Silver Lining', 'Nothing More', \"It's Love\", 'Treat Me Better', 'Do Friends Fall in Love?', 'Here We Go Again', 'Hummingbird', 'Diggin Me', 'Loved You First', 'Valentine', 'Mango Milkshake', 'Two Sleepy People', \"I've Loved You\", 'Moonlight', \"C'est si bon\", 'Something Stupid', 'Stronger Than', 'Happy Talk', \"Can't Take My Eyes Off You\", 'Do You Want to Know a Secret', 'catching feelings 4 u', \"Let's Make Love on This Plane\", 'Any Little Time', 'Blue Moon', 'Sunny Days', '23', '925', 'Goodnight My Love', 'Hate is the Basis (of love)', 'find love', 'wherever u r', 'dinner in bed', 'Slow Dance In The Morning', 'English Version', 'lavender', 'Piano Version', \"I Couldn't Paint\", 'unrequited', 'I LOVE YOU', 'HEY', \"i don't know\", 'Dandelious', 'Hey', 'Hey Billie', 'Stripped', 'Officially Missing You', 'Stripped Version', 'WANDERLUST', 'I Feel Love', 'Fall 4 U', 'u & i', 'cry baby', 'Sweet Ivory', 'Turn Your Lights Down Low', 'The 1', 'Acoustic', 'MONAMI', 'Stripped', 'Lucky Day', 'melancholy song', 'Rainy Day Theme', 'Thinking Of Me', 'Stripped Version', 'Forever Was Never Enough', 'How Do I Tell You', 'Eleanor', 'Sick of You', 'Am I Selfish', 'love you the same', 'in these bones', 'Drown', 'Acoustic', 'Castle Rock', 'to her', 'Lifetime', 'beach baby', 'be gentle with me', 'Right One Wrong Time', 'stripped', 'Kodak', 'The Longest Goodbye', 'forget me', 'everything to me', 'x my heart, hope to die', 'Inconvenient', 'I Wish', 'Heartache Can Be Beautiful', 'Perfect Stranger', 'Love Feels Like', 'Everyday Feels Like Sunday', 'Maybe We Could Be a Thing', 'Hold On Tight', 'Anniversary Edition', 'The Answer', 'You Can Do It', 'Cheeky', 'Everlasting', 'Deja Vu', 'This Time', 'Still The One', 'The Way It Was Before', 'Sweatshirt', 'Back to You', 'Hello', \"You Ain't Gotta\", 'Lucky Day', 'Butterflies', 'Hail Mary', 'Like I Do', 'Unaware', 'flaws', 'Sway', 'Rest Assured', 'The Author', 'CHIVALRY IS DEAD', 'Like a Flower']\n",
      "198 198 198 198 198\n",
      "['Stephen Sanchez', 'MAX, keshi', 'keshi', 'Arash Buana', 'Jesse Barrera, Nieman, Melissa Polinar', 'Sneha, ConTejas', 'Imaginary Future', 'John K', 'Jesse Barrera, Nieman, Melissa Polinar', 'hongjoin', 'HENRY, Yuna', 'yuji, putri dahlia', 'Maximillian - Letters', 'yaeow, Neptune', 'Hayd', 'Avery Lynch', 'Stephen Sanchez', 'Abe Parker - Butterflies', 'MAX - EDIE CELINE', 'Maximillian - Ripples', 'yaeow', 'yaeow', 'd4vd, Laufey', 'Chris James', 'rhianne', 'yaeow', 'Etham', 'Avery Lynch', 'Matt Maltese', '92914', \"HONNE - la la la that's how it goes\", 'Milena - Letter', 'The Paper Kites', '92914,HanMinji', 'HONNE - free love', 'Gogang', 'HONNE - gone gone gone', 'Finding Hope', 'Sino', 'Oscar Lang', '92914', 'Sam Ock', 'HONNE - one way to tokyo', 'Joey Stamper', 'SOLOMON', 'Sam Ock', 'Matt Maltese', 'Finding Hope', 'Gogang', 'The Paper Kites, Lucy Rose', 'Finding Hope', 'yaeow', 'Finding Hope', 'Wang OK', 'Api & Sarah Hemi', 'Sarah Kang', 'Sarah Kang', 'Arash Buana', 'Ed Sheeran', 'Gabe Bondoc', 'Elina', 'kiyu', '92914, HanMinji', 'Sarah Kang', 'The Paper Kites', 'Arash Buana', 'hongjoin', 'Luara Zocca', 'Elina', 'Jayes', 'The Paper Kites', 'Mokita', 'hongjoin', 'Micah Yoo', 'Elina', 'Arash Buana, Anya Taroreh', 'The Paper Kites', 'Lily Williams', 'Porter Robinson', 'Portair, Emily James', 'Luisa Sobral', 'Angela Moyra', 'Jason LaPierre, Branden Sunshine, John Hasselback lll', 'Gabe Bondoc', 'Anthony Lazaro, Marle Thomson', 'Rachael & Vilray', 'Rachael & Vilray', 'Ardhito Pramono', 'Anthony Lazaro, Marle Thomson', 'Martin Sexton', 'Gabe Bondoc', 'Cady Fleet', 'Meera, Raag Sethi', 'Carsie Blanton', 'Rein', 'Anthony Lazaro, Marle Thomson', 'Aoi Teshima', 'Jason LaPierre', 'Gabe Bondoc', 'Diana Panton', 'Joseph Vincent', 'Mathilda Homer', 'Jason LaPierre', 'Rachael & Vilray', 'Rachael & Vilray', 'Flora Martinez', 'Ginne Marker', 'Meera, Raag Sethi', 'Ardhito Pramono', 'Rachael & Vilray', 'Rachael & Vilray', 'Jason Lee, THAMA', 'UMI, V', 'Gareth.T', 'Jesse Gold', 'THAMA - Complicated', 'JVKE, Pink Sweat$', 'Johnny Stimson - Flower', 'Jake Fine', 'SOLOMON', 'dress, JUNNY, Sam Ock', 'THAMA', 'Ethan French', 'Jackson Lundy', 'Duncan Ramos', '92914', 'ASTN - Be So Cruel', 'Joseph Solomon', 'ASTN - How Soon', 'Paul Partohap', 'THAMA', 'Taiyo Ky', 'Anthony Russo', 'Gabriel, Melissa Polinar', 'Kidnot$aints.', 'Joseph Solomon', 'Corey Harper', 'Lemon City - You got me!', 'Omesi', 'Mason Murphy, Jordan Jack - Sadie', 'Michael Carreon', 'MIKA', 'Devin Kennedy', 'Johnny Orlando', 'MAX - EDIE CELINE', 'Peder Elias', 'SONN', 'Samuel Lim', 'Suriel Hess', 'SONN', 'mike martell', 'Neptune', 'Boy In Space', 'RYMAN - Young', 'Nieman', 'Adriel Rivera', 'Faime', 'LOVELOVELOVE', 'yaeow', 'sunshine blvd.', 'joan - superglue', 'Yueku', 'Rosie Darling', 'Valley', 'yaeow', 'ROSE', 'Matthew Hall, Ber', 'Faime', 'Reagan Beem', 'John Mark Nelson, Sofia Mills', 'Johnny Stimson', 'Jesse Barrera, Albert Posis', 'Jesse Barrera, Michael Carreon', 'Jesse Barrera, Albert Posis', 'Albert Posis - Serendipity', 'Gabe Bondoc, Patrick Hizon', 'Johnny Stimson', 'Albert Posis, Patrick Hizon', 'Albert Posis', 'Jesse Barrera, Patrick Hizon', 'Michael Carreon', 'Jesse Barrera', 'Johnny Stimson', 'Patrick Hizon, EJEAN', 'Albert Posis', 'Albert Posis', 'Albert Posis', 'Michael Carreon', 'Johnny Stimson', 'Jesse Barrera, Tim Atlas', 'Jesse Barrera, Melissa Polinar', 'Jesse Barrera, Albert Posis', 'Thomas Ng', 'Jesse Barrera, Gabe Bondoc', 'Jeff Bernat, Albert Posis, Jesse Barrera, PRVDNT', 'Albert Posis', 'Jesse Barrera, Albert Posis', 'Vincent Water, TERESA', 'Bas Bao', 'softy', 'moim', 'GYE0M', 'Yerin Baek', 'Colde', 'Jiwoo', 'Jiwoo', 'Yerin Baek', 'Colde', 'Colde', 'Nuz, Jin Kim', 'RIO', 'O3ohn', 'GYE0M, Lee Yerin', 'Nuz', '10cm', 'Colde', 'O3ohn', 'Nuz', 'coldnight', 'GYE0M', 'Nuz', 'The Poles', 'SOLE']\n",
      "['Until I Found You', \"IT'S YOU\", 'UNDERSTAND', 'stars', 'Tangled Up (Reimagined)', 'So This Is Love', 'Till There Was You', 'magic', 'What We Found', 'you left your baggage', 'Real Love Still Exists', 'Old Love (Stripped)', 'Acoustic', 'The Way I Love You', 'When You Were Mine', \"you're just a guy\", 'I Want You', 'Acoustic', 'Stripped Version', 'Acoustic', 'still that kid (deep down)', 'everything to me', 'This Is How It Feels', 'The Green (Acoustic)', 'my love mine all mine', 'Stuck Here Without You', 'What I Feel Is Love', 'all i need (the distance song)', 'Everyone Adores You (quiet)', 'Starlight', 'dream edit', 'English Version', 'Tin Lover', 'Someday', 'dream edit', 'Love Is (Intro)', 'dream edit', 'Whatever You Want', 'Strange', 'million little reasons', 'Okinawa', 'Remember', 'dream edit', 'In The Wee Small Hours Of The Morning', 'do you want my love?', 'silent', 'When You Wash Your Hair', 'another guy', 'Your Night Is My Dream', 'For All You Give', 'yellow lights', 'does it really matter?', 'to the moon & back', 'City Of Stars', \"Isn't It Strange\", 'goodbye and godspeed', 'now i know', 'stars', 'Spring', 'Barely', 'Blue', 'mountain', 'Someday', 'Nothing', 'Nothing More Than That', \"i've always loved you\", 'The Last Time', 'The Art Of Getting By', 'Remember', \"when it's not okay\", 'Only One', 'Clear Eyes', 'If Venice Can Sink', \"It's Just Not That Deep\", 'How', \"we'll be okay, for today\", 'Tin Lover', 'Maybe', 'Blossom', \"Life We've Built\", 'Mr & Mrs Brown', \"Poppin'\", 'Look For The Silver Lining', 'Nothing More', \"It's Love\", 'Treat Me Better', 'Do Friends Fall in Love?', 'Here We Go Again', 'Hummingbird', 'Diggin Me', 'Loved You First', 'Valentine', 'Mango Milkshake', 'Two Sleepy People', \"I've Loved You\", 'Moonlight', \"C'est si bon\", 'Something Stupid', 'Stronger Than', 'Happy Talk', \"Can't Take My Eyes Off You\", 'Do You Want to Know a Secret', 'catching feelings 4 u', \"Let's Make Love on This Plane\", 'Any Little Time', 'Blue Moon', 'Sunny Days', '23', '925', 'Goodnight My Love', 'Hate is the Basis (of love)', 'find love', 'wherever u r', 'dinner in bed', 'Slow Dance In The Morning', 'English Version', 'lavender', 'Piano Version', \"I Couldn't Paint\", 'unrequited', 'I LOVE YOU', 'HEY', \"i don't know\", 'Dandelious', 'Hey', 'Hey Billie', 'Stripped', 'Officially Missing You', 'Stripped Version', 'WANDERLUST', 'I Feel Love', 'Fall 4 U', 'u & i', 'cry baby', 'Sweet Ivory', 'Turn Your Lights Down Low', 'The 1', 'Acoustic', 'MONAMI', 'Stripped', 'Lucky Day', 'melancholy song', 'Rainy Day Theme', 'Thinking Of Me', 'Stripped Version', 'Forever Was Never Enough', 'How Do I Tell You', 'Eleanor', 'Sick of You', 'Am I Selfish', 'love you the same', 'in these bones', 'Drown', 'Acoustic', 'Castle Rock', 'to her', 'Lifetime', 'beach baby', 'be gentle with me', 'Right One Wrong Time', 'stripped', 'Kodak', 'The Longest Goodbye', 'forget me', 'everything to me', 'x my heart, hope to die', 'Inconvenient', 'I Wish', 'Heartache Can Be Beautiful', 'Perfect Stranger', 'Love Feels Like', 'Everyday Feels Like Sunday', 'Maybe We Could Be a Thing', 'Hold On Tight', 'Anniversary Edition', 'The Answer', 'You Can Do It', 'Cheeky', 'Everlasting', 'Deja Vu', 'This Time', 'Still The One', 'The Way It Was Before', 'Sweatshirt', 'Back to You', 'Hello', \"You Ain't Gotta\", 'Lucky Day', 'Butterflies', 'Hail Mary', 'Like I Do', 'Unaware', 'flaws', 'Sway', 'Rest Assured', 'The Author', 'CHIVALRY IS DEAD', 'Like a Flower', '너와 이 순간을', 'if we met again', 'dream', '우리들의 아픔을 잃길 바랐는데', 'Meant to be', 'Love Is a Flower', 'Greed', 'Aston', 'can i b u', '상실', '터널', 'Shape', 'Sweetbitter', 'Somehow', '내 생각을 들려주지 않을거에요', '고요', '그러니까', 'Endless Love', 'Thoms Piano', 'Sunset', '널 사랑하지 않는 날이 올까', '우린 마를 리 없었지', 'Grassland', '느릿느릿 지는 해를 바라보자', '흠']\n",
      "223 223 223 223 223\n"
     ]
    },
    {
     "ename": "NoSuchWindowException",
     "evalue": "Message: no such window: target window already closed\nfrom unknown error: web view not found\n  (Session info: chrome=125.0.6422.78)\nStacktrace:\n\tGetHandleVerifier [0x00007FF70E0E1F22+60322]\n\t(No symbol) [0x00007FF70E05CE99]\n\t(No symbol) [0x00007FF70DF17EBA]\n\t(No symbol) [0x00007FF70DEED5A5]\n\t(No symbol) [0x00007FF70DF936B7]\n\t(No symbol) [0x00007FF70DFAB331]\n\t(No symbol) [0x00007FF70DF8BFC3]\n\t(No symbol) [0x00007FF70DF59617]\n\t(No symbol) [0x00007FF70DF5A211]\n\tGetHandleVerifier [0x00007FF70E3F946D+3301613]\n\tGetHandleVerifier [0x00007FF70E443693+3605267]\n\tGetHandleVerifier [0x00007FF70E439410+3563664]\n\tGetHandleVerifier [0x00007FF70E1942F6+790390]\n\t(No symbol) [0x00007FF70E0674DF]\n\t(No symbol) [0x00007FF70E0633D4]\n\t(No symbol) [0x00007FF70E063562]\n\t(No symbol) [0x00007FF70E052F6F]\n\tBaseThreadInitThunk [0x00007FFE17BD257D+29]\n\tRtlUserThreadStart [0x00007FFE1880AA48+40]\n",
     "output_type": "error",
     "traceback": [
      "\u001b[1;31m---------------------------------------------------------------------------\u001b[0m",
      "\u001b[1;31mNoSuchWindowException\u001b[0m                     Traceback (most recent call last)",
      "\u001b[1;32m~\\AppData\\Local\\Temp\\ipykernel_3976\\239277290.py\u001b[0m in \u001b[0;36m<module>\u001b[1;34m\u001b[0m\n\u001b[0;32m     16\u001b[0m     \u001b[0mdriver\u001b[0m\u001b[1;33m.\u001b[0m\u001b[0mget\u001b[0m\u001b[1;33m(\u001b[0m\u001b[0mlink\u001b[0m\u001b[1;33m)\u001b[0m\u001b[1;33m\u001b[0m\u001b[1;33m\u001b[0m\u001b[0m\n\u001b[0;32m     17\u001b[0m     \u001b[0mtime\u001b[0m\u001b[1;33m.\u001b[0m\u001b[0msleep\u001b[0m\u001b[1;33m(\u001b[0m\u001b[1;36m2\u001b[0m\u001b[1;33m)\u001b[0m\u001b[1;33m\u001b[0m\u001b[1;33m\u001b[0m\u001b[0m\n\u001b[1;32m---> 18\u001b[1;33m     \u001b[0mextract_video_details\u001b[0m\u001b[1;33m(\u001b[0m\u001b[0mdriver\u001b[0m\u001b[1;33m)\u001b[0m\u001b[1;33m\u001b[0m\u001b[1;33m\u001b[0m\u001b[0m\n\u001b[0m\u001b[0;32m     19\u001b[0m \u001b[0mdriver\u001b[0m\u001b[1;33m.\u001b[0m\u001b[0mquit\u001b[0m\u001b[1;33m(\u001b[0m\u001b[1;33m)\u001b[0m\u001b[1;33m\u001b[0m\u001b[1;33m\u001b[0m\u001b[0m\n",
      "\u001b[1;32m~\\AppData\\Local\\Temp\\ipykernel_3976\\2965171463.py\u001b[0m in \u001b[0;36mextract_video_details\u001b[1;34m(driver)\u001b[0m\n\u001b[0;32m     23\u001b[0m         \u001b[0mtime\u001b[0m\u001b[1;33m.\u001b[0m\u001b[0msleep\u001b[0m\u001b[1;33m(\u001b[0m\u001b[1;36m1.5\u001b[0m\u001b[1;33m)\u001b[0m\u001b[1;33m\u001b[0m\u001b[1;33m\u001b[0m\u001b[0m\n\u001b[0;32m     24\u001b[0m \u001b[1;33m\u001b[0m\u001b[0m\n\u001b[1;32m---> 25\u001b[1;33m         \u001b[0mnew_height\u001b[0m \u001b[1;33m=\u001b[0m \u001b[0mdriver\u001b[0m\u001b[1;33m.\u001b[0m\u001b[0mexecute_script\u001b[0m\u001b[1;33m(\u001b[0m\u001b[1;34m\"return document.documentElement.scrollHeight\"\u001b[0m\u001b[1;33m)\u001b[0m\u001b[1;33m\u001b[0m\u001b[1;33m\u001b[0m\u001b[0m\n\u001b[0m\u001b[0;32m     26\u001b[0m         \u001b[1;32mif\u001b[0m \u001b[0mnew_height\u001b[0m \u001b[1;33m==\u001b[0m \u001b[0mlast_height\u001b[0m\u001b[1;33m:\u001b[0m\u001b[1;33m\u001b[0m\u001b[1;33m\u001b[0m\u001b[0m\n\u001b[0;32m     27\u001b[0m             \u001b[1;32mbreak\u001b[0m\u001b[1;33m\u001b[0m\u001b[1;33m\u001b[0m\u001b[0m\n",
      "\u001b[1;32m~\\AppData\\Roaming\\Python\\Python39\\site-packages\\selenium\\webdriver\\remote\\webdriver.py\u001b[0m in \u001b[0;36mexecute_script\u001b[1;34m(self, script, *args)\u001b[0m\n\u001b[0;32m    405\u001b[0m         \u001b[0mcommand\u001b[0m \u001b[1;33m=\u001b[0m \u001b[0mCommand\u001b[0m\u001b[1;33m.\u001b[0m\u001b[0mW3C_EXECUTE_SCRIPT\u001b[0m\u001b[1;33m\u001b[0m\u001b[1;33m\u001b[0m\u001b[0m\n\u001b[0;32m    406\u001b[0m \u001b[1;33m\u001b[0m\u001b[0m\n\u001b[1;32m--> 407\u001b[1;33m         \u001b[1;32mreturn\u001b[0m \u001b[0mself\u001b[0m\u001b[1;33m.\u001b[0m\u001b[0mexecute\u001b[0m\u001b[1;33m(\u001b[0m\u001b[0mcommand\u001b[0m\u001b[1;33m,\u001b[0m \u001b[1;33m{\u001b[0m\u001b[1;34m\"script\"\u001b[0m\u001b[1;33m:\u001b[0m \u001b[0mscript\u001b[0m\u001b[1;33m,\u001b[0m \u001b[1;34m\"args\"\u001b[0m\u001b[1;33m:\u001b[0m \u001b[0mconverted_args\u001b[0m\u001b[1;33m}\u001b[0m\u001b[1;33m)\u001b[0m\u001b[1;33m[\u001b[0m\u001b[1;34m\"value\"\u001b[0m\u001b[1;33m]\u001b[0m\u001b[1;33m\u001b[0m\u001b[1;33m\u001b[0m\u001b[0m\n\u001b[0m\u001b[0;32m    408\u001b[0m \u001b[1;33m\u001b[0m\u001b[0m\n\u001b[0;32m    409\u001b[0m     \u001b[1;32mdef\u001b[0m \u001b[0mexecute_async_script\u001b[0m\u001b[1;33m(\u001b[0m\u001b[0mself\u001b[0m\u001b[1;33m,\u001b[0m \u001b[0mscript\u001b[0m\u001b[1;33m:\u001b[0m \u001b[0mstr\u001b[0m\u001b[1;33m,\u001b[0m \u001b[1;33m*\u001b[0m\u001b[0margs\u001b[0m\u001b[1;33m)\u001b[0m\u001b[1;33m:\u001b[0m\u001b[1;33m\u001b[0m\u001b[1;33m\u001b[0m\u001b[0m\n",
      "\u001b[1;32m~\\AppData\\Roaming\\Python\\Python39\\site-packages\\selenium\\webdriver\\remote\\webdriver.py\u001b[0m in \u001b[0;36mexecute\u001b[1;34m(self, driver_command, params)\u001b[0m\n\u001b[0;32m    345\u001b[0m         \u001b[0mresponse\u001b[0m \u001b[1;33m=\u001b[0m \u001b[0mself\u001b[0m\u001b[1;33m.\u001b[0m\u001b[0mcommand_executor\u001b[0m\u001b[1;33m.\u001b[0m\u001b[0mexecute\u001b[0m\u001b[1;33m(\u001b[0m\u001b[0mdriver_command\u001b[0m\u001b[1;33m,\u001b[0m \u001b[0mparams\u001b[0m\u001b[1;33m)\u001b[0m\u001b[1;33m\u001b[0m\u001b[1;33m\u001b[0m\u001b[0m\n\u001b[0;32m    346\u001b[0m         \u001b[1;32mif\u001b[0m \u001b[0mresponse\u001b[0m\u001b[1;33m:\u001b[0m\u001b[1;33m\u001b[0m\u001b[1;33m\u001b[0m\u001b[0m\n\u001b[1;32m--> 347\u001b[1;33m             \u001b[0mself\u001b[0m\u001b[1;33m.\u001b[0m\u001b[0merror_handler\u001b[0m\u001b[1;33m.\u001b[0m\u001b[0mcheck_response\u001b[0m\u001b[1;33m(\u001b[0m\u001b[0mresponse\u001b[0m\u001b[1;33m)\u001b[0m\u001b[1;33m\u001b[0m\u001b[1;33m\u001b[0m\u001b[0m\n\u001b[0m\u001b[0;32m    348\u001b[0m             \u001b[0mresponse\u001b[0m\u001b[1;33m[\u001b[0m\u001b[1;34m\"value\"\u001b[0m\u001b[1;33m]\u001b[0m \u001b[1;33m=\u001b[0m \u001b[0mself\u001b[0m\u001b[1;33m.\u001b[0m\u001b[0m_unwrap_value\u001b[0m\u001b[1;33m(\u001b[0m\u001b[0mresponse\u001b[0m\u001b[1;33m.\u001b[0m\u001b[0mget\u001b[0m\u001b[1;33m(\u001b[0m\u001b[1;34m\"value\"\u001b[0m\u001b[1;33m,\u001b[0m \u001b[1;32mNone\u001b[0m\u001b[1;33m)\u001b[0m\u001b[1;33m)\u001b[0m\u001b[1;33m\u001b[0m\u001b[1;33m\u001b[0m\u001b[0m\n\u001b[0;32m    349\u001b[0m             \u001b[1;32mreturn\u001b[0m \u001b[0mresponse\u001b[0m\u001b[1;33m\u001b[0m\u001b[1;33m\u001b[0m\u001b[0m\n",
      "\u001b[1;32m~\\AppData\\Roaming\\Python\\Python39\\site-packages\\selenium\\webdriver\\remote\\errorhandler.py\u001b[0m in \u001b[0;36mcheck_response\u001b[1;34m(self, response)\u001b[0m\n\u001b[0;32m    227\u001b[0m                 \u001b[0malert_text\u001b[0m \u001b[1;33m=\u001b[0m \u001b[0mvalue\u001b[0m\u001b[1;33m[\u001b[0m\u001b[1;34m\"alert\"\u001b[0m\u001b[1;33m]\u001b[0m\u001b[1;33m.\u001b[0m\u001b[0mget\u001b[0m\u001b[1;33m(\u001b[0m\u001b[1;34m\"text\"\u001b[0m\u001b[1;33m)\u001b[0m\u001b[1;33m\u001b[0m\u001b[1;33m\u001b[0m\u001b[0m\n\u001b[0;32m    228\u001b[0m             \u001b[1;32mraise\u001b[0m \u001b[0mexception_class\u001b[0m\u001b[1;33m(\u001b[0m\u001b[0mmessage\u001b[0m\u001b[1;33m,\u001b[0m \u001b[0mscreen\u001b[0m\u001b[1;33m,\u001b[0m \u001b[0mstacktrace\u001b[0m\u001b[1;33m,\u001b[0m \u001b[0malert_text\u001b[0m\u001b[1;33m)\u001b[0m  \u001b[1;31m# type: ignore[call-arg]  # mypy is not smart enough here\u001b[0m\u001b[1;33m\u001b[0m\u001b[1;33m\u001b[0m\u001b[0m\n\u001b[1;32m--> 229\u001b[1;33m         \u001b[1;32mraise\u001b[0m \u001b[0mexception_class\u001b[0m\u001b[1;33m(\u001b[0m\u001b[0mmessage\u001b[0m\u001b[1;33m,\u001b[0m \u001b[0mscreen\u001b[0m\u001b[1;33m,\u001b[0m \u001b[0mstacktrace\u001b[0m\u001b[1;33m)\u001b[0m\u001b[1;33m\u001b[0m\u001b[1;33m\u001b[0m\u001b[0m\n\u001b[0m",
      "\u001b[1;31mNoSuchWindowException\u001b[0m: Message: no such window: target window already closed\nfrom unknown error: web view not found\n  (Session info: chrome=125.0.6422.78)\nStacktrace:\n\tGetHandleVerifier [0x00007FF70E0E1F22+60322]\n\t(No symbol) [0x00007FF70E05CE99]\n\t(No symbol) [0x00007FF70DF17EBA]\n\t(No symbol) [0x00007FF70DEED5A5]\n\t(No symbol) [0x00007FF70DF936B7]\n\t(No symbol) [0x00007FF70DFAB331]\n\t(No symbol) [0x00007FF70DF8BFC3]\n\t(No symbol) [0x00007FF70DF59617]\n\t(No symbol) [0x00007FF70DF5A211]\n\tGetHandleVerifier [0x00007FF70E3F946D+3301613]\n\tGetHandleVerifier [0x00007FF70E443693+3605267]\n\tGetHandleVerifier [0x00007FF70E439410+3563664]\n\tGetHandleVerifier [0x00007FF70E1942F6+790390]\n\t(No symbol) [0x00007FF70E0674DF]\n\t(No symbol) [0x00007FF70E0633D4]\n\t(No symbol) [0x00007FF70E063562]\n\t(No symbol) [0x00007FF70E052F6F]\n\tBaseThreadInitThunk [0x00007FFE17BD257D+29]\n\tRtlUserThreadStart [0x00007FFE1880AA48+40]\n"
     ]
    }
   ],
   "source": [
    "# 사용 예시\n",
    "url = 'https://www.youtube.com/@micasfu/playlists'\n",
    "# 가져오고 싶은 플레이리스트의 순서\n",
    "playlist_nth_child = 7\n",
    "## 큐레이션 정보를 담을 리스트 생성\n",
    "head_list= []\n",
    "influ_list = []\n",
    "explain_list = []\n",
    "artists_list = []\n",
    "titles_list = []\n",
    "link_list = []\n",
    "img_list = []\n",
    "link_list = get_playlist_links(url, playlist_nth_child)\n",
    "driver = wb.Chrome(options=options)\n",
    "for link in tqdm(link_list):\n",
    "    driver.get(link)\n",
    "    time.sleep(2)\n",
    "    extract_video_details(driver)\n",
    "driver.quit()"
   ]
  },
  {
   "cell_type": "code",
   "execution_count": 190,
   "id": "891e2e1b-00e1-489e-b3c2-5fce2d9b8eb3",
   "metadata": {
    "collapsed": true,
    "jupyter": {
     "outputs_hidden": true
    },
    "tags": []
   },
   "outputs": [
    {
     "name": "stdout",
     "output_type": "stream",
     "text": [
      "이미지리스트\n",
      " ['https://img.youtube.com/vi/Cnh7exHmJ_U/maxresdefault.jpg', 'https://img.youtube.com/vi/Cnh7exHmJ_U/maxresdefault.jpg', 'https://img.youtube.com/vi/Cnh7exHmJ_U/maxresdefault.jpg', 'https://img.youtube.com/vi/Cnh7exHmJ_U/maxresdefault.jpg', 'https://img.youtube.com/vi/Cnh7exHmJ_U/maxresdefault.jpg', 'https://img.youtube.com/vi/Cnh7exHmJ_U/maxresdefault.jpg', 'https://img.youtube.com/vi/Cnh7exHmJ_U/maxresdefault.jpg', 'https://img.youtube.com/vi/Cnh7exHmJ_U/maxresdefault.jpg', 'https://img.youtube.com/vi/Cnh7exHmJ_U/maxresdefault.jpg', 'https://img.youtube.com/vi/Cnh7exHmJ_U/maxresdefault.jpg', 'https://img.youtube.com/vi/Cnh7exHmJ_U/maxresdefault.jpg', 'https://img.youtube.com/vi/Cnh7exHmJ_U/maxresdefault.jpg', 'https://img.youtube.com/vi/Cnh7exHmJ_U/maxresdefault.jpg', 'https://img.youtube.com/vi/Cnh7exHmJ_U/maxresdefault.jpg', 'https://img.youtube.com/vi/Cnh7exHmJ_U/maxresdefault.jpg', 'https://img.youtube.com/vi/Cnh7exHmJ_U/maxresdefault.jpg', 'https://img.youtube.com/vi/Cnh7exHmJ_U/maxresdefault.jpg', 'https://img.youtube.com/vi/Cnh7exHmJ_U/maxresdefault.jpg', 'https://img.youtube.com/vi/Cnh7exHmJ_U/maxresdefault.jpg', 'https://img.youtube.com/vi/Cnh7exHmJ_U/maxresdefault.jpg', 'https://img.youtube.com/vi/Cnh7exHmJ_U/maxresdefault.jpg', 'https://img.youtube.com/vi/Cnh7exHmJ_U/maxresdefault.jpg', 'https://img.youtube.com/vi/Cnh7exHmJ_U/maxresdefault.jpg', 'https://img.youtube.com/vi/Cnh7exHmJ_U/maxresdefault.jpg', 'https://img.youtube.com/vi/Cnh7exHmJ_U/maxresdefault.jpg', 'https://img.youtube.com/vi/Cnh7exHmJ_U/maxresdefault.jpg', 'https://img.youtube.com/vi/Cnh7exHmJ_U/maxresdefault.jpg', 'https://img.youtube.com/vi/Cnh7exHmJ_U/maxresdefault.jpg']\n",
      "제목리스트\n",
      " ['[playlist] 사랑이 머문 자리에', '[playlist] 사랑이 머문 자리에', '[playlist] 사랑이 머문 자리에', '[playlist] 사랑이 머문 자리에', '[playlist] 사랑이 머문 자리에', '[playlist] 사랑이 머문 자리에', '[playlist] 사랑이 머문 자리에', '[playlist] 사랑이 머문 자리에', '[playlist] 사랑이 머문 자리에', '[playlist] 사랑이 머문 자리에', '[playlist] 사랑이 머문 자리에', '[playlist] 사랑이 머문 자리에', '[playlist] 사랑이 머문 자리에', '[playlist] 사랑이 머문 자리에', '[playlist] 사랑이 머문 자리에', '[playlist] 사랑이 머문 자리에', '[playlist] 사랑이 머문 자리에', '[playlist] 사랑이 머문 자리에', '[playlist] 사랑이 머문 자리에', '[playlist] 사랑이 머문 자리에', '[playlist] 사랑이 머문 자리에', '[playlist] 사랑이 머문 자리에', '[playlist] 사랑이 머문 자리에', '[playlist] 사랑이 머문 자리에', '[playlist] 사랑이 머문 자리에', '[playlist] 사랑이 머문 자리에', '[playlist] 사랑이 머문 자리에', '[playlist] 사랑이 머문 자리에']\n",
      "설명리스트\n",
      " ['#팝송추천 #플레이리스트 #노래추천 우리가 함께했던 수많은 공간에는 아직도 그때의 사랑이 머물러 있을까', '#팝송추천 #플레이리스트 #노래추천 우리가 함께했던 수많은 공간에는 아직도 그때의 사랑이 머물러 있을까', '#팝송추천 #플레이리스트 #노래추천 우리가 함께했던 수많은 공간에는 아직도 그때의 사랑이 머물러 있을까', '#팝송추천 #플레이리스트 #노래추천 우리가 함께했던 수많은 공간에는 아직도 그때의 사랑이 머물러 있을까', '#팝송추천 #플레이리스트 #노래추천 우리가 함께했던 수많은 공간에는 아직도 그때의 사랑이 머물러 있을까', '#팝송추천 #플레이리스트 #노래추천 우리가 함께했던 수많은 공간에는 아직도 그때의 사랑이 머물러 있을까', '#팝송추천 #플레이리스트 #노래추천 우리가 함께했던 수많은 공간에는 아직도 그때의 사랑이 머물러 있을까', '#팝송추천 #플레이리스트 #노래추천 우리가 함께했던 수많은 공간에는 아직도 그때의 사랑이 머물러 있을까', '#팝송추천 #플레이리스트 #노래추천 우리가 함께했던 수많은 공간에는 아직도 그때의 사랑이 머물러 있을까', '#팝송추천 #플레이리스트 #노래추천 우리가 함께했던 수많은 공간에는 아직도 그때의 사랑이 머물러 있을까', '#팝송추천 #플레이리스트 #노래추천 우리가 함께했던 수많은 공간에는 아직도 그때의 사랑이 머물러 있을까', '#팝송추천 #플레이리스트 #노래추천 우리가 함께했던 수많은 공간에는 아직도 그때의 사랑이 머물러 있을까', '#팝송추천 #플레이리스트 #노래추천 우리가 함께했던 수많은 공간에는 아직도 그때의 사랑이 머물러 있을까', '#팝송추천 #플레이리스트 #노래추천 우리가 함께했던 수많은 공간에는 아직도 그때의 사랑이 머물러 있을까', '#팝송추천 #플레이리스트 #노래추천 우리가 함께했던 수많은 공간에는 아직도 그때의 사랑이 머물러 있을까', '#팝송추천 #플레이리스트 #노래추천 우리가 함께했던 수많은 공간에는 아직도 그때의 사랑이 머물러 있을까', '#팝송추천 #플레이리스트 #노래추천 우리가 함께했던 수많은 공간에는 아직도 그때의 사랑이 머물러 있을까', '#팝송추천 #플레이리스트 #노래추천 우리가 함께했던 수많은 공간에는 아직도 그때의 사랑이 머물러 있을까', '#팝송추천 #플레이리스트 #노래추천 우리가 함께했던 수많은 공간에는 아직도 그때의 사랑이 머물러 있을까', '#팝송추천 #플레이리스트 #노래추천 우리가 함께했던 수많은 공간에는 아직도 그때의 사랑이 머물러 있을까', '#팝송추천 #플레이리스트 #노래추천 우리가 함께했던 수많은 공간에는 아직도 그때의 사랑이 머물러 있을까', '#팝송추천 #플레이리스트 #노래추천 우리가 함께했던 수많은 공간에는 아직도 그때의 사랑이 머물러 있을까', '#팝송추천 #플레이리스트 #노래추천 우리가 함께했던 수많은 공간에는 아직도 그때의 사랑이 머물러 있을까', '#팝송추천 #플레이리스트 #노래추천 우리가 함께했던 수많은 공간에는 아직도 그때의 사랑이 머물러 있을까', '#팝송추천 #플레이리스트 #노래추천 우리가 함께했던 수많은 공간에는 아직도 그때의 사랑이 머물러 있을까', '#팝송추천 #플레이리스트 #노래추천 우리가 함께했던 수많은 공간에는 아직도 그때의 사랑이 머물러 있을까', '#팝송추천 #플레이리스트 #노래추천 우리가 함께했던 수많은 공간에는 아직도 그때의 사랑이 머물러 있을까', '#팝송추천 #플레이리스트 #노래추천 우리가 함께했던 수많은 공간에는 아직도 그때의 사랑이 머물러 있을까']\n",
      "가수리스트\n",
      " ['Stephen Sanchez', 'MAX, keshi', 'keshi', 'Arash Buana', 'Jesse Barrera, Nieman, Melissa Polinar', 'Sneha, ConTejas', 'Imaginary Future', 'John K', 'Jesse Barrera, Nieman, Melissa Polinar', 'hongjoin', 'HENRY, Yuna', 'yuji, putri dahlia', 'Maximillian - Letters', 'yaeow, Neptune', 'Hayd', 'Avery Lynch', 'Stephen Sanchez', 'Abe Parker - Butterflies', 'MAX - EDIE CELINE', 'Maximillian - Ripples', 'yaeow', 'yaeow', 'd4vd, Laufey', 'Chris James', 'rhianne', 'yaeow', 'Etham', 'Avery Lynch']\n",
      "곡명리스트\n",
      " ['Until I Found You', \"IT'S YOU\", 'UNDERSTAND', 'stars', 'Tangled Up (Reimagined)', 'So This Is Love', 'Till There Was You', 'magic', 'What We Found', 'you left your baggage', 'Real Love Still Exists', 'Old Love (Stripped)', 'Acoustic', 'The Way I Love You', 'When You Were Mine', \"you're just a guy\", 'I Want You', 'Acoustic', 'Stripped Version', 'Acoustic', 'still that kid (deep down)', 'everything to me', 'This Is How It Feels', 'The Green (Acoustic)', 'my love mine all mine', 'Stuck Here Without You', 'What I Feel Is Love', 'all i need (the distance song)']\n"
     ]
    }
   ],
   "source": [
    "print(\"이미지리스트\\n\", img_list)\n",
    "print(\"제목리스트\\n\",head_list)\n",
    "print(\"설명리스트\\n\",explain_list)\n",
    "print(\"가수리스트\\n\",artists_list)\n",
    "print(\"곡명리스트\\n\",titles_list)"
   ]
  },
  {
   "cell_type": "code",
   "execution_count": 212,
   "id": "e19a39e2-886a-4a5c-91a3-ec3b6c802207",
   "metadata": {},
   "outputs": [
    {
     "name": "stdout",
     "output_type": "stream",
     "text": [
      "가수리스트\n",
      " ['Stephen Sanchez', 'MAX, keshi', 'keshi', 'Arash Buana', 'Jesse Barrera, Nieman, Melissa Polinar', 'Sneha, ConTejas', 'Imaginary Future', 'John K', 'Jesse Barrera, Nieman, Melissa Polinar', 'hongjoin', 'HENRY, Yuna', 'yuji, putri dahlia', 'Maximillian - Letters', 'yaeow, Neptune', 'Hayd', 'Avery Lynch', 'Stephen Sanchez', 'Abe Parker - Butterflies', 'MAX - EDIE CELINE', 'Maximillian - Ripples', 'yaeow', 'yaeow', 'd4vd, Laufey', 'Chris James', 'rhianne', 'yaeow', 'Etham', 'Avery Lynch', 'Matt Maltese', '92914', \"HONNE - la la la that's how it goes\", 'Milena - Letter', 'The Paper Kites', '92914,HanMinji', 'HONNE - free love', 'Gogang', 'HONNE - gone gone gone', 'Finding Hope', 'Sino', 'Oscar Lang', '92914', 'Sam Ock', 'HONNE - one way to tokyo', 'Joey Stamper', 'SOLOMON', 'Sam Ock', 'Matt Maltese', 'Finding Hope', 'Gogang', 'The Paper Kites, Lucy Rose', 'Finding Hope', 'yaeow', 'Finding Hope', 'Wang OK', 'Api & Sarah Hemi']\n",
      "곡명리스트\n",
      " ['Until I Found You', \"IT'S YOU\", 'UNDERSTAND', 'stars', 'Tangled Up (Reimagined)', 'So This Is Love', 'Till There Was You', 'magic', 'What We Found', 'you left your baggage', 'Real Love Still Exists', 'Old Love (Stripped)', 'Acoustic', 'The Way I Love You', 'When You Were Mine', \"you're just a guy\", 'I Want You', 'Acoustic', 'Stripped Version', 'Acoustic', 'still that kid (deep down)', 'everything to me', 'This Is How It Feels', 'The Green (Acoustic)', 'my love mine all mine', 'Stuck Here Without You', 'What I Feel Is Love', 'all i need (the distance song)', 'Everyone Adores You (quiet)', 'Starlight', 'dream edit', 'English Version', 'Tin Lover', 'Someday', 'dream edit', 'Love Is (Intro)', 'dream edit', 'Whatever You Want', 'Strange', 'million little reasons', 'Okinawa', 'Remember', 'dream edit', 'In The Wee Small Hours Of The Morning', 'do you want my love?', 'silent', 'When You Wash Your Hair', 'another guy', 'Your Night Is My Dream', 'For All You Give', 'yellow lights', 'does it really matter?', 'to the moon & back', 'City Of Stars', \"Isn't It Strange\"]\n"
     ]
    }
   ],
   "source": [
    "print(\"가수리스트\\n\",artists_list)\n",
    "print(\"곡명리스트\\n\",titles_list)"
   ]
  },
  {
   "cell_type": "code",
   "execution_count": null,
   "id": "081d957f-7113-40d7-8dc5-56dfc4385fa1",
   "metadata": {},
   "outputs": [],
   "source": []
  }
 ],
 "metadata": {
  "kernelspec": {
   "display_name": "Python 3 (ipykernel)",
   "language": "python",
   "name": "python3"
  },
  "language_info": {
   "codemirror_mode": {
    "name": "ipython",
    "version": 3
   },
   "file_extension": ".py",
   "mimetype": "text/x-python",
   "name": "python",
   "nbconvert_exporter": "python",
   "pygments_lexer": "ipython3",
   "version": "3.9.13"
  }
 },
 "nbformat": 4,
 "nbformat_minor": 5
}
