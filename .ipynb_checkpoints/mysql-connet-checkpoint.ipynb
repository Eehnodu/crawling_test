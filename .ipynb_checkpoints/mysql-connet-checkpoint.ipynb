{
 "cells": [
  {
   "cell_type": "code",
   "execution_count": 10,
   "id": "85a599ed-2446-42d3-b852-2d9857cee057",
   "metadata": {
    "tags": []
   },
   "outputs": [],
   "source": [
    "from tqdm import tqdm"
   ]
  },
  {
   "cell_type": "code",
   "execution_count": 11,
   "id": "c6da8454-497c-41e6-b002-a9b5410d1a6b",
   "metadata": {
    "tags": []
   },
   "outputs": [],
   "source": [
    "import pymysql\n",
    "conn = pymysql.connect(\n",
    "        host='project-db-cgi.smhrd.com',\n",
    "        port=3307,\n",
    "        user='ehroqkfdbcah',\n",
    "        password='q1w2e3!@#',\n",
    "        db='ehroqkfdbcah',\n",
    "        charset='utf8'\n",
    "    )"
   ]
  },
  {
   "cell_type": "code",
   "execution_count": 12,
   "id": "09fc09bb-38c7-401a-bc57-c1283eda5b13",
   "metadata": {
    "tags": []
   },
   "outputs": [],
   "source": [
    "import json\n",
    "# JSON 파일 로딩\n",
    "with open('merge_curation_data.json', 'r',encoding='utf-8') as file:\n",
    "    data = json.load(file)"
   ]
  },
  {
   "cell_type": "code",
   "execution_count": 13,
   "id": "daa0c806-679f-4471-9ab5-c75f39e4752c",
   "metadata": {
    "collapsed": true,
    "jupyter": {
     "outputs_hidden": true
    },
    "tags": []
   },
   "outputs": [
    {
     "name": "stderr",
     "output_type": "stream",
     "text": [
      " 62%|███████████████████████████████████████████████                             | 45525/73575 [12:12<07:31, 62.13it/s]\n"
     ]
    },
    {
     "ename": "DataError",
     "evalue": "(1366, \"Incorrect string value: '\\\\xF0\\\\x9F\\\\x8D\\\\x90\\\\xE3\\\\x85...' for column 'curHead' at row 1\")",
     "output_type": "error",
     "traceback": [
      "\u001b[1;31m---------------------------------------------------------------------------\u001b[0m",
      "\u001b[1;31mDataError\u001b[0m                                 Traceback (most recent call last)",
      "Cell \u001b[1;32mIn[13], line 22\u001b[0m\n\u001b[0;32m      9\u001b[0m     sql \u001b[38;5;241m=\u001b[39m \u001b[38;5;124m\"\"\"\u001b[39m\n\u001b[0;32m     10\u001b[0m \u001b[38;5;124m    INSERT INTO tb_curation (curColor, curPer, curObject, curHead, curTitle, curExplain, curArtist) \u001b[39m\n\u001b[0;32m     11\u001b[0m \u001b[38;5;124m    VALUES (\u001b[39m\u001b[38;5;132;01m%s\u001b[39;00m\u001b[38;5;124m, \u001b[39m\u001b[38;5;132;01m%s\u001b[39;00m\u001b[38;5;124m, \u001b[39m\u001b[38;5;132;01m%s\u001b[39;00m\u001b[38;5;124m, \u001b[39m\u001b[38;5;132;01m%s\u001b[39;00m\u001b[38;5;124m, \u001b[39m\u001b[38;5;132;01m%s\u001b[39;00m\u001b[38;5;124m, \u001b[39m\u001b[38;5;132;01m%s\u001b[39;00m\u001b[38;5;124m, \u001b[39m\u001b[38;5;132;01m%s\u001b[39;00m\u001b[38;5;124m)\u001b[39m\n\u001b[0;32m     12\u001b[0m \u001b[38;5;124m    \u001b[39m\u001b[38;5;124m\"\"\"\u001b[39m\n\u001b[0;32m     13\u001b[0m     val \u001b[38;5;241m=\u001b[39m (\n\u001b[0;32m     14\u001b[0m         item[\u001b[38;5;124m\"\u001b[39m\u001b[38;5;124mcurColor\u001b[39m\u001b[38;5;124m\"\u001b[39m],  \u001b[38;5;66;03m# color\u001b[39;00m\n\u001b[0;32m     15\u001b[0m         item[\u001b[38;5;124m\"\u001b[39m\u001b[38;5;124mcurPer\u001b[39m\u001b[38;5;124m\"\u001b[39m],  \u001b[38;5;66;03m# percentage\u001b[39;00m\n\u001b[1;32m   (...)\u001b[0m\n\u001b[0;32m     20\u001b[0m         item[\u001b[38;5;124m\"\u001b[39m\u001b[38;5;124mcurArtist\u001b[39m\u001b[38;5;124m\"\u001b[39m]  \u001b[38;5;66;03m# artist\u001b[39;00m\n\u001b[0;32m     21\u001b[0m     )\n\u001b[1;32m---> 22\u001b[0m     cur\u001b[38;5;241m.\u001b[39mexecute(sql, val)\n\u001b[0;32m     24\u001b[0m \u001b[38;5;66;03m# 변경 사항 저장 및 연결 종료\u001b[39;00m\n\u001b[0;32m     25\u001b[0m conn\u001b[38;5;241m.\u001b[39mcommit()\n",
      "File \u001b[1;32m~\\anaconda3\\Lib\\site-packages\\pymysql\\cursors.py:153\u001b[0m, in \u001b[0;36mCursor.execute\u001b[1;34m(self, query, args)\u001b[0m\n\u001b[0;32m    149\u001b[0m     \u001b[38;5;28;01mpass\u001b[39;00m\n\u001b[0;32m    151\u001b[0m query \u001b[38;5;241m=\u001b[39m \u001b[38;5;28mself\u001b[39m\u001b[38;5;241m.\u001b[39mmogrify(query, args)\n\u001b[1;32m--> 153\u001b[0m result \u001b[38;5;241m=\u001b[39m \u001b[38;5;28mself\u001b[39m\u001b[38;5;241m.\u001b[39m_query(query)\n\u001b[0;32m    154\u001b[0m \u001b[38;5;28mself\u001b[39m\u001b[38;5;241m.\u001b[39m_executed \u001b[38;5;241m=\u001b[39m query\n\u001b[0;32m    155\u001b[0m \u001b[38;5;28;01mreturn\u001b[39;00m result\n",
      "File \u001b[1;32m~\\anaconda3\\Lib\\site-packages\\pymysql\\cursors.py:322\u001b[0m, in \u001b[0;36mCursor._query\u001b[1;34m(self, q)\u001b[0m\n\u001b[0;32m    320\u001b[0m conn \u001b[38;5;241m=\u001b[39m \u001b[38;5;28mself\u001b[39m\u001b[38;5;241m.\u001b[39m_get_db()\n\u001b[0;32m    321\u001b[0m \u001b[38;5;28mself\u001b[39m\u001b[38;5;241m.\u001b[39m_clear_result()\n\u001b[1;32m--> 322\u001b[0m conn\u001b[38;5;241m.\u001b[39mquery(q)\n\u001b[0;32m    323\u001b[0m \u001b[38;5;28mself\u001b[39m\u001b[38;5;241m.\u001b[39m_do_get_result()\n\u001b[0;32m    324\u001b[0m \u001b[38;5;28;01mreturn\u001b[39;00m \u001b[38;5;28mself\u001b[39m\u001b[38;5;241m.\u001b[39mrowcount\n",
      "File \u001b[1;32m~\\anaconda3\\Lib\\site-packages\\pymysql\\connections.py:563\u001b[0m, in \u001b[0;36mConnection.query\u001b[1;34m(self, sql, unbuffered)\u001b[0m\n\u001b[0;32m    561\u001b[0m     sql \u001b[38;5;241m=\u001b[39m sql\u001b[38;5;241m.\u001b[39mencode(\u001b[38;5;28mself\u001b[39m\u001b[38;5;241m.\u001b[39mencoding, \u001b[38;5;124m\"\u001b[39m\u001b[38;5;124msurrogateescape\u001b[39m\u001b[38;5;124m\"\u001b[39m)\n\u001b[0;32m    562\u001b[0m \u001b[38;5;28mself\u001b[39m\u001b[38;5;241m.\u001b[39m_execute_command(COMMAND\u001b[38;5;241m.\u001b[39mCOM_QUERY, sql)\n\u001b[1;32m--> 563\u001b[0m \u001b[38;5;28mself\u001b[39m\u001b[38;5;241m.\u001b[39m_affected_rows \u001b[38;5;241m=\u001b[39m \u001b[38;5;28mself\u001b[39m\u001b[38;5;241m.\u001b[39m_read_query_result(unbuffered\u001b[38;5;241m=\u001b[39munbuffered)\n\u001b[0;32m    564\u001b[0m \u001b[38;5;28;01mreturn\u001b[39;00m \u001b[38;5;28mself\u001b[39m\u001b[38;5;241m.\u001b[39m_affected_rows\n",
      "File \u001b[1;32m~\\anaconda3\\Lib\\site-packages\\pymysql\\connections.py:825\u001b[0m, in \u001b[0;36mConnection._read_query_result\u001b[1;34m(self, unbuffered)\u001b[0m\n\u001b[0;32m    823\u001b[0m \u001b[38;5;28;01melse\u001b[39;00m:\n\u001b[0;32m    824\u001b[0m     result \u001b[38;5;241m=\u001b[39m MySQLResult(\u001b[38;5;28mself\u001b[39m)\n\u001b[1;32m--> 825\u001b[0m     result\u001b[38;5;241m.\u001b[39mread()\n\u001b[0;32m    826\u001b[0m \u001b[38;5;28mself\u001b[39m\u001b[38;5;241m.\u001b[39m_result \u001b[38;5;241m=\u001b[39m result\n\u001b[0;32m    827\u001b[0m \u001b[38;5;28;01mif\u001b[39;00m result\u001b[38;5;241m.\u001b[39mserver_status \u001b[38;5;129;01mis\u001b[39;00m \u001b[38;5;129;01mnot\u001b[39;00m \u001b[38;5;28;01mNone\u001b[39;00m:\n",
      "File \u001b[1;32m~\\anaconda3\\Lib\\site-packages\\pymysql\\connections.py:1199\u001b[0m, in \u001b[0;36mMySQLResult.read\u001b[1;34m(self)\u001b[0m\n\u001b[0;32m   1197\u001b[0m \u001b[38;5;28;01mdef\u001b[39;00m \u001b[38;5;21mread\u001b[39m(\u001b[38;5;28mself\u001b[39m):\n\u001b[0;32m   1198\u001b[0m     \u001b[38;5;28;01mtry\u001b[39;00m:\n\u001b[1;32m-> 1199\u001b[0m         first_packet \u001b[38;5;241m=\u001b[39m \u001b[38;5;28mself\u001b[39m\u001b[38;5;241m.\u001b[39mconnection\u001b[38;5;241m.\u001b[39m_read_packet()\n\u001b[0;32m   1201\u001b[0m         \u001b[38;5;28;01mif\u001b[39;00m first_packet\u001b[38;5;241m.\u001b[39mis_ok_packet():\n\u001b[0;32m   1202\u001b[0m             \u001b[38;5;28mself\u001b[39m\u001b[38;5;241m.\u001b[39m_read_ok_packet(first_packet)\n",
      "File \u001b[1;32m~\\anaconda3\\Lib\\site-packages\\pymysql\\connections.py:775\u001b[0m, in \u001b[0;36mConnection._read_packet\u001b[1;34m(self, packet_type)\u001b[0m\n\u001b[0;32m    773\u001b[0m     \u001b[38;5;28;01mif\u001b[39;00m \u001b[38;5;28mself\u001b[39m\u001b[38;5;241m.\u001b[39m_result \u001b[38;5;129;01mis\u001b[39;00m \u001b[38;5;129;01mnot\u001b[39;00m \u001b[38;5;28;01mNone\u001b[39;00m \u001b[38;5;129;01mand\u001b[39;00m \u001b[38;5;28mself\u001b[39m\u001b[38;5;241m.\u001b[39m_result\u001b[38;5;241m.\u001b[39munbuffered_active \u001b[38;5;129;01mis\u001b[39;00m \u001b[38;5;28;01mTrue\u001b[39;00m:\n\u001b[0;32m    774\u001b[0m         \u001b[38;5;28mself\u001b[39m\u001b[38;5;241m.\u001b[39m_result\u001b[38;5;241m.\u001b[39munbuffered_active \u001b[38;5;241m=\u001b[39m \u001b[38;5;28;01mFalse\u001b[39;00m\n\u001b[1;32m--> 775\u001b[0m     packet\u001b[38;5;241m.\u001b[39mraise_for_error()\n\u001b[0;32m    776\u001b[0m \u001b[38;5;28;01mreturn\u001b[39;00m packet\n",
      "File \u001b[1;32m~\\anaconda3\\Lib\\site-packages\\pymysql\\protocol.py:219\u001b[0m, in \u001b[0;36mMysqlPacket.raise_for_error\u001b[1;34m(self)\u001b[0m\n\u001b[0;32m    217\u001b[0m \u001b[38;5;28;01mif\u001b[39;00m DEBUG:\n\u001b[0;32m    218\u001b[0m     \u001b[38;5;28mprint\u001b[39m(\u001b[38;5;124m\"\u001b[39m\u001b[38;5;124merrno =\u001b[39m\u001b[38;5;124m\"\u001b[39m, errno)\n\u001b[1;32m--> 219\u001b[0m err\u001b[38;5;241m.\u001b[39mraise_mysql_exception(\u001b[38;5;28mself\u001b[39m\u001b[38;5;241m.\u001b[39m_data)\n",
      "File \u001b[1;32m~\\anaconda3\\Lib\\site-packages\\pymysql\\err.py:150\u001b[0m, in \u001b[0;36mraise_mysql_exception\u001b[1;34m(data)\u001b[0m\n\u001b[0;32m    148\u001b[0m \u001b[38;5;28;01mif\u001b[39;00m errorclass \u001b[38;5;129;01mis\u001b[39;00m \u001b[38;5;28;01mNone\u001b[39;00m:\n\u001b[0;32m    149\u001b[0m     errorclass \u001b[38;5;241m=\u001b[39m InternalError \u001b[38;5;28;01mif\u001b[39;00m errno \u001b[38;5;241m<\u001b[39m \u001b[38;5;241m1000\u001b[39m \u001b[38;5;28;01melse\u001b[39;00m OperationalError\n\u001b[1;32m--> 150\u001b[0m \u001b[38;5;28;01mraise\u001b[39;00m errorclass(errno, errval)\n",
      "\u001b[1;31mDataError\u001b[0m: (1366, \"Incorrect string value: '\\\\xF0\\\\x9F\\\\x8D\\\\x90\\\\xE3\\\\x85...' for column 'curHead' at row 1\")"
     ]
    }
   ],
   "source": [
    "cur = conn.cursor()\n",
    "\n",
    "# JSON 파일 로딩\n",
    "with open('merge_curation_data.json', 'r', encoding='utf-8') as file:\n",
    "    data = json.load(file)\n",
    "\n",
    "# JSON 데이터를 SQL로 변환하여 삽입\n",
    "for item in tqdm(data):\n",
    "    sql = \"\"\"\n",
    "    INSERT INTO tb_curation (curColor, curPer, curObject, curHead, curTitle, curExplain, curArtist) \n",
    "    VALUES (%s, %s, %s, %s, %s, %s, %s)\n",
    "    \"\"\"\n",
    "    val = (\n",
    "        item[\"curColor\"],  # color\n",
    "        item[\"curPer\"],  # percentage\n",
    "        item[\"curObject\"],  # object\n",
    "        item[\"curHead\"],  # title\n",
    "        item[\"curTitle\"],  # song_name\n",
    "        item[\"curExplain\"],  # description\n",
    "        item[\"curArtist\"]  # artist\n",
    "    )\n",
    "    cur.execute(sql, val)\n",
    "\n",
    "# 변경 사항 저장 및 연결 종료\n",
    "conn.commit()\n",
    "conn.close()"
   ]
  },
  {
   "cell_type": "code",
   "execution_count": null,
   "id": "1ca83ce4-8e27-468c-81be-c039ad1a6820",
   "metadata": {},
   "outputs": [],
   "source": [
    "# 변경사항 저장\n",
    "conn.commit()\n",
    "\n",
    "# 연결 종료\n",
    "cursor.close()\n",
    "conn.close()"
   ]
  },
  {
   "cell_type": "code",
   "execution_count": 14,
   "id": "c7ff0b4c-830b-4901-adad-3331742f5d3c",
   "metadata": {},
   "outputs": [
    {
     "data": {
      "text/plain": [
       "{'curHead': '옷장 정리 싹 하면서 듣는 상쾌한 보사노바 🍐ㅣRefreshing bossa nova',\n",
       " 'curArtist': 'Tanaka Yuichi(다나카 유이치)',\n",
       " 'curTitle': 'Late Summer Song',\n",
       " 'curColor': 'Chartreuse',\n",
       " 'curPer': 56.47,\n",
       " 'curExplain': '#보사노바 #팝송 #플레이리스트',\n",
       " 'curObject': ''}"
      ]
     },
     "execution_count": 14,
     "metadata": {},
     "output_type": "execute_result"
    }
   ],
   "source": [
    "data[45525]"
   ]
  },
  {
   "cell_type": "code",
   "execution_count": 17,
   "id": "2312c552-5fe0-4c3a-bc4c-1b4659545056",
   "metadata": {},
   "outputs": [],
   "source": [
    "import re\n",
    "import pandas as pd\n",
    "import csv"
   ]
  },
  {
   "cell_type": "code",
   "execution_count": 18,
   "id": "9a66464b-eb34-48a0-b45e-90f7faa2a94b",
   "metadata": {},
   "outputs": [
    {
     "data": {
      "text/html": [
       "<div>\n",
       "<style scoped>\n",
       "    .dataframe tbody tr th:only-of-type {\n",
       "        vertical-align: middle;\n",
       "    }\n",
       "\n",
       "    .dataframe tbody tr th {\n",
       "        vertical-align: top;\n",
       "    }\n",
       "\n",
       "    .dataframe thead th {\n",
       "        text-align: right;\n",
       "    }\n",
       "</style>\n",
       "<table border=\"1\" class=\"dataframe\">\n",
       "  <thead>\n",
       "    <tr style=\"text-align: right;\">\n",
       "      <th></th>\n",
       "      <th>curHead</th>\n",
       "      <th>curArtist</th>\n",
       "      <th>curTitle</th>\n",
       "      <th>curColor</th>\n",
       "      <th>curPer</th>\n",
       "      <th>curExplain</th>\n",
       "      <th>curObject</th>\n",
       "    </tr>\n",
       "  </thead>\n",
       "  <tbody>\n",
       "    <tr>\n",
       "      <th>0</th>\n",
       "      <td>드라이브 할 맛 나게 하는 트렌디하고 세련된 알앤비 국내힙합ㅣR&amp;B Hip Hop</td>\n",
       "      <td>BIG Naughty</td>\n",
       "      <td>Vancouver</td>\n",
       "      <td>Black</td>\n",
       "      <td>56.89</td>\n",
       "      <td>NaN</td>\n",
       "      <td>NaN</td>\n",
       "    </tr>\n",
       "    <tr>\n",
       "      <th>1</th>\n",
       "      <td>드라이브 할 맛 나게 하는 트렌디하고 세련된 알앤비 국내힙합ㅣR&amp;B Hip Hop</td>\n",
       "      <td>BIG Naughty</td>\n",
       "      <td>Vancouver</td>\n",
       "      <td>Grey</td>\n",
       "      <td>36.46</td>\n",
       "      <td>NaN</td>\n",
       "      <td>NaN</td>\n",
       "    </tr>\n",
       "    <tr>\n",
       "      <th>2</th>\n",
       "      <td>드라이브 할 맛 나게 하는 트렌디하고 세련된 알앤비 국내힙합ㅣR&amp;B Hip Hop</td>\n",
       "      <td>BIG Naughty</td>\n",
       "      <td>Vancouver</td>\n",
       "      <td>Pink</td>\n",
       "      <td>6.64</td>\n",
       "      <td>NaN</td>\n",
       "      <td>NaN</td>\n",
       "    </tr>\n",
       "    <tr>\n",
       "      <th>3</th>\n",
       "      <td>드라이브 할 맛 나게 하는 트렌디하고 세련된 알앤비 국내힙합ㅣR&amp;B Hip Hop</td>\n",
       "      <td>박재범</td>\n",
       "      <td>Like I Do</td>\n",
       "      <td>Black</td>\n",
       "      <td>56.89</td>\n",
       "      <td>NaN</td>\n",
       "      <td>NaN</td>\n",
       "    </tr>\n",
       "    <tr>\n",
       "      <th>4</th>\n",
       "      <td>드라이브 할 맛 나게 하는 트렌디하고 세련된 알앤비 국내힙합ㅣR&amp;B Hip Hop</td>\n",
       "      <td>박재범</td>\n",
       "      <td>Like I Do</td>\n",
       "      <td>Grey</td>\n",
       "      <td>36.46</td>\n",
       "      <td>NaN</td>\n",
       "      <td>NaN</td>\n",
       "    </tr>\n",
       "    <tr>\n",
       "      <th>...</th>\n",
       "      <td>...</td>\n",
       "      <td>...</td>\n",
       "      <td>...</td>\n",
       "      <td>...</td>\n",
       "      <td>...</td>\n",
       "      <td>...</td>\n",
       "      <td>...</td>\n",
       "    </tr>\n",
       "    <tr>\n",
       "      <th>73570</th>\n",
       "      <td>나만 알고 싶은 새벽감성 사클 노래 모음</td>\n",
       "      <td>Mabinc</td>\n",
       "      <td>혼잣말 (feat. Ripley)</td>\n",
       "      <td>Grey</td>\n",
       "      <td>16.96</td>\n",
       "      <td>#노래추천 #음악추천 #사운드클라우드 구독자 1000명! 다들 너무 고마워요!그래서...</td>\n",
       "      <td>NaN</td>\n",
       "    </tr>\n",
       "    <tr>\n",
       "      <th>73571</th>\n",
       "      <td>나만 알고 싶은 새벽감성 사클 노래 모음</td>\n",
       "      <td>Mabinc</td>\n",
       "      <td>혼잣말 (feat. Ripley)</td>\n",
       "      <td>Pink</td>\n",
       "      <td>9.14</td>\n",
       "      <td>#노래추천 #음악추천 #사운드클라우드 구독자 1000명! 다들 너무 고마워요!그래서...</td>\n",
       "      <td>NaN</td>\n",
       "    </tr>\n",
       "    <tr>\n",
       "      <th>73572</th>\n",
       "      <td>나만 알고 싶은 새벽감성 사클 노래 모음</td>\n",
       "      <td>YAYYOUNG</td>\n",
       "      <td>do you feel like you have no one to turn to?</td>\n",
       "      <td>Pink</td>\n",
       "      <td>75.19</td>\n",
       "      <td>#노래추천 #음악추천 #사운드클라우드 구독자 1000명! 다들 너무 고마워요!그래서...</td>\n",
       "      <td>NaN</td>\n",
       "    </tr>\n",
       "    <tr>\n",
       "      <th>73573</th>\n",
       "      <td>나만 알고 싶은 새벽감성 사클 노래 모음</td>\n",
       "      <td>YAYYOUNG</td>\n",
       "      <td>do you feel like you have no one to turn to?</td>\n",
       "      <td>Grey</td>\n",
       "      <td>16.96</td>\n",
       "      <td>#노래추천 #음악추천 #사운드클라우드 구독자 1000명! 다들 너무 고마워요!그래서...</td>\n",
       "      <td>NaN</td>\n",
       "    </tr>\n",
       "    <tr>\n",
       "      <th>73574</th>\n",
       "      <td>나만 알고 싶은 새벽감성 사클 노래 모음</td>\n",
       "      <td>YAYYOUNG</td>\n",
       "      <td>do you feel like you have no one to turn to?</td>\n",
       "      <td>Pink</td>\n",
       "      <td>7.85</td>\n",
       "      <td>#노래추천 #음악추천 #사운드클라우드 구독자 1000명! 다들 너무 고마워요!그래서...</td>\n",
       "      <td>NaN</td>\n",
       "    </tr>\n",
       "  </tbody>\n",
       "</table>\n",
       "<p>73575 rows × 7 columns</p>\n",
       "</div>"
      ],
      "text/plain": [
       "                                              curHead    curArtist  \\\n",
       "0       드라이브 할 맛 나게 하는 트렌디하고 세련된 알앤비 국내힙합ㅣR&B Hip Hop  BIG Naughty   \n",
       "1       드라이브 할 맛 나게 하는 트렌디하고 세련된 알앤비 국내힙합ㅣR&B Hip Hop  BIG Naughty   \n",
       "2       드라이브 할 맛 나게 하는 트렌디하고 세련된 알앤비 국내힙합ㅣR&B Hip Hop  BIG Naughty   \n",
       "3       드라이브 할 맛 나게 하는 트렌디하고 세련된 알앤비 국내힙합ㅣR&B Hip Hop          박재범   \n",
       "4       드라이브 할 맛 나게 하는 트렌디하고 세련된 알앤비 국내힙합ㅣR&B Hip Hop          박재범   \n",
       "...                                               ...          ...   \n",
       "73570                          나만 알고 싶은 새벽감성 사클 노래 모음       Mabinc   \n",
       "73571                          나만 알고 싶은 새벽감성 사클 노래 모음       Mabinc   \n",
       "73572                          나만 알고 싶은 새벽감성 사클 노래 모음     YAYYOUNG   \n",
       "73573                          나만 알고 싶은 새벽감성 사클 노래 모음     YAYYOUNG   \n",
       "73574                          나만 알고 싶은 새벽감성 사클 노래 모음     YAYYOUNG   \n",
       "\n",
       "                                           curTitle curColor  curPer  \\\n",
       "0                                       Vancouver      Black   56.89   \n",
       "1                                       Vancouver       Grey   36.46   \n",
       "2                                       Vancouver       Pink    6.64   \n",
       "3                                        Like I Do     Black   56.89   \n",
       "4                                        Like I Do      Grey   36.46   \n",
       "...                                             ...      ...     ...   \n",
       "73570                            혼잣말 (feat. Ripley)     Grey   16.96   \n",
       "73571                            혼잣말 (feat. Ripley)     Pink    9.14   \n",
       "73572  do you feel like you have no one to turn to?     Pink   75.19   \n",
       "73573  do you feel like you have no one to turn to?     Grey   16.96   \n",
       "73574  do you feel like you have no one to turn to?     Pink    7.85   \n",
       "\n",
       "                                              curExplain curObject  \n",
       "0                                                    NaN       NaN  \n",
       "1                                                    NaN       NaN  \n",
       "2                                                    NaN       NaN  \n",
       "3                                                    NaN       NaN  \n",
       "4                                                    NaN       NaN  \n",
       "...                                                  ...       ...  \n",
       "73570  #노래추천 #음악추천 #사운드클라우드 구독자 1000명! 다들 너무 고마워요!그래서...       NaN  \n",
       "73571  #노래추천 #음악추천 #사운드클라우드 구독자 1000명! 다들 너무 고마워요!그래서...       NaN  \n",
       "73572  #노래추천 #음악추천 #사운드클라우드 구독자 1000명! 다들 너무 고마워요!그래서...       NaN  \n",
       "73573  #노래추천 #음악추천 #사운드클라우드 구독자 1000명! 다들 너무 고마워요!그래서...       NaN  \n",
       "73574  #노래추천 #음악추천 #사운드클라우드 구독자 1000명! 다들 너무 고마워요!그래서...       NaN  \n",
       "\n",
       "[73575 rows x 7 columns]"
      ]
     },
     "execution_count": 18,
     "metadata": {},
     "output_type": "execute_result"
    }
   ],
   "source": [
    "dfdf = pd.read_csv('merge_curation_data.csv')\n",
    "dfdf"
   ]
  },
  {
   "cell_type": "code",
   "execution_count": 26,
   "id": "8d29424c-b4a3-4b08-bf6d-339741bb1bc6",
   "metadata": {},
   "outputs": [],
   "source": [
    "import re\n",
    "# 이모지 제거 전처리\n",
    "def remove_emoji(inputString):\n",
    "    if not isinstance(inputString, str):\n",
    "        return ''\n",
    "    \n",
    "    emoji_pattern = re.compile(\"[\"\n",
    "            u\"\\U0001F600-\\U0001F64F\"  # emoticons\n",
    "            u\"\\U0001F300-\\U0001F5FF\"  # symbols & pictographs\n",
    "            u\"\\U0001F680-\\U0001F6FF\"  # transport & map symbols\n",
    "            u\"\\U0001F1E0-\\U0001F1FF\"  # flags (iOS)\n",
    "                               \"]+\", flags=re.UNICODE)\n",
    "    return emoji_pattern.sub(r'', inputString) # no emoji"
   ]
  },
  {
   "cell_type": "code",
   "execution_count": 20,
   "id": "55aef00c-b897-4b6e-8471-900dc160d8dc",
   "metadata": {},
   "outputs": [],
   "source": [
    "dfdf['curHead'] = dfdf['curHead'].apply(remove_emoji)"
   ]
  },
  {
   "cell_type": "code",
   "execution_count": 27,
   "id": "55f84f66-700c-4b53-8632-2d2342bda994",
   "metadata": {
    "tags": []
   },
   "outputs": [],
   "source": [
    "dfdf['curExplain'] = dfdf['curExplain'].apply(remove_emoji)"
   ]
  },
  {
   "cell_type": "code",
   "execution_count": 29,
   "id": "e7a7f418-4be0-4ce2-93bf-c602c06006c8",
   "metadata": {},
   "outputs": [],
   "source": [
    "dfdf.to_csv('merge_clean_data.csv', index=False, encoding=\"utf-8-sig\")"
   ]
  },
  {
   "cell_type": "code",
   "execution_count": null,
   "id": "a52e22e7-7cc2-4242-b227-adc362dda39b",
   "metadata": {},
   "outputs": [],
   "source": []
  },
  {
   "cell_type": "code",
   "execution_count": null,
   "id": "4fa11af5-8bca-4c5a-a459-5a885025e965",
   "metadata": {},
   "outputs": [],
   "source": []
  },
  {
   "cell_type": "code",
   "execution_count": null,
   "id": "97e4fe4e-be71-465a-85c3-f637bc32f561",
   "metadata": {},
   "outputs": [],
   "source": []
  },
  {
   "cell_type": "code",
   "execution_count": null,
   "id": "dead9709-5125-4f43-984d-877023dcfef7",
   "metadata": {},
   "outputs": [],
   "source": []
  },
  {
   "cell_type": "code",
   "execution_count": null,
   "id": "42ab28e6-8f22-42a5-b7ad-d78f140c2471",
   "metadata": {},
   "outputs": [],
   "source": []
  },
  {
   "cell_type": "code",
   "execution_count": null,
   "id": "a297e1e9-5b85-4aa4-9192-fe75a3223a91",
   "metadata": {},
   "outputs": [],
   "source": []
  },
  {
   "cell_type": "code",
   "execution_count": null,
   "id": "83e75190-112e-4e54-ac2d-73c31fc4dafc",
   "metadata": {},
   "outputs": [],
   "source": []
  },
  {
   "cell_type": "code",
   "execution_count": null,
   "id": "8d4488b3-e08a-4a08-b4f0-8f9467f718eb",
   "metadata": {},
   "outputs": [],
   "source": []
  },
  {
   "cell_type": "code",
   "execution_count": null,
   "id": "0c3a50ff-aac9-4317-9d0c-95bc3e440312",
   "metadata": {},
   "outputs": [],
   "source": []
  },
  {
   "cell_type": "code",
   "execution_count": null,
   "id": "494a7c40-221d-419f-a98b-7822ed93748a",
   "metadata": {},
   "outputs": [],
   "source": []
  },
  {
   "cell_type": "code",
   "execution_count": null,
   "id": "0aeb8130-c941-4347-a6f0-fa45618f469e",
   "metadata": {},
   "outputs": [],
   "source": []
  },
  {
   "cell_type": "code",
   "execution_count": null,
   "id": "5e141683-7797-4ee0-9691-0ed211f80df9",
   "metadata": {},
   "outputs": [],
   "source": []
  },
  {
   "cell_type": "code",
   "execution_count": null,
   "id": "67299cb4-4250-4286-8df4-f76f7169a9e3",
   "metadata": {},
   "outputs": [],
   "source": []
  },
  {
   "cell_type": "code",
   "execution_count": null,
   "id": "5ceb80f4-7191-47c7-a9f6-8608abe364b7",
   "metadata": {},
   "outputs": [],
   "source": []
  },
  {
   "cell_type": "code",
   "execution_count": null,
   "id": "975e8cc2-db2c-4c96-bc28-033c5249518c",
   "metadata": {},
   "outputs": [],
   "source": []
  },
  {
   "cell_type": "code",
   "execution_count": null,
   "id": "c9b5b99c-cd7c-499b-b70c-86e99f823a64",
   "metadata": {},
   "outputs": [],
   "source": []
  },
  {
   "cell_type": "code",
   "execution_count": null,
   "id": "e0e34847-c4ef-4fbc-ae6c-7b695a467fdb",
   "metadata": {},
   "outputs": [],
   "source": []
  },
  {
   "cell_type": "code",
   "execution_count": null,
   "id": "92d08ed2-7184-4b18-9d1c-0b2d5f4b750b",
   "metadata": {},
   "outputs": [],
   "source": []
  },
  {
   "cell_type": "code",
   "execution_count": null,
   "id": "f3df9d91-2fc3-4f4c-acbe-a5d25803dea6",
   "metadata": {},
   "outputs": [],
   "source": []
  }
 ],
 "metadata": {
  "kernelspec": {
   "display_name": "Python 3 (ipykernel)",
   "language": "python",
   "name": "python3"
  },
  "language_info": {
   "codemirror_mode": {
    "name": "ipython",
    "version": 3
   },
   "file_extension": ".py",
   "mimetype": "text/x-python",
   "name": "python",
   "nbconvert_exporter": "python",
   "pygments_lexer": "ipython3",
   "version": "3.11.5"
  }
 },
 "nbformat": 4,
 "nbformat_minor": 5
}
