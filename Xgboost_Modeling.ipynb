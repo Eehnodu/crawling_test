{
 "cells": [
  {
   "cell_type": "markdown",
   "id": "e09ad9c3-52de-4cbf-a456-be3c902d9e66",
   "metadata": {},
   "source": [
    "#### 라이브러리"
   ]
  },
  {
   "cell_type": "code",
   "execution_count": null,
   "id": "84daa146-6501-4c64-afca-8f70a02a10c2",
   "metadata": {},
   "outputs": [],
   "source": [
    "import pandas as pd\n",
    "import numpy as np\n",
    "from sklearn.model_selection import train_test_split\n",
    "from sklearn.preprocessing import OneHotEncoder\n",
    "import xgboost as xgb\n",
    "from sklearn.metrics import mean_squared_error\n",
    "from sklearn.preprocessing import LabelEncoder\n",
    "import time\n",
    "import warnings\n",
    "from tqdm import tqdm"
   ]
  },
  {
   "cell_type": "code",
   "execution_count": null,
   "id": "80dc13bc-63cc-437a-a453-f49c8937c157",
   "metadata": {},
   "outputs": [],
   "source": [
    "# 경고 메시지 무시\n",
    "warnings.filterwarnings(action='ignore', category=UserWarning, module='xgboost')"
   ]
  },
  {
   "cell_type": "code",
   "execution_count": null,
   "id": "b3646825-3007-4e49-b8e4-12efb6456422",
   "metadata": {},
   "outputs": [],
   "source": [
    "data = pd.read_csv('machine_learing_data/머신러닝_통합.csv')\n",
    "data.head(5)"
   ]
  },
  {
   "cell_type": "code",
   "execution_count": null,
   "id": "ed4ccee5-4956-43ef-8551-d786c0c79cf7",
   "metadata": {},
   "outputs": [],
   "source": [
    "# 필요한 열 제외\n",
    "data = data.drop(columns=['curArtist', 'curTitle'])\n",
    "\n",
    "# 결측치 처리\n",
    "data = data.fillna('')\n",
    "\n",
    "# 범주형 변수를 category 타입으로 변환\n",
    "categorical_cols = ['curColor', 'curColor2', 'curColor3', 'curObject', 'curHead', 'curExplain', 'genre', 'song']\n",
    "for col in categorical_cols:\n",
    "    data[col] = data[col].astype('category')\n",
    "\n",
    "# 'song' 열을 Label Encoding\n",
    "label_encoder = LabelEncoder()\n",
    "data['song'] = label_encoder.fit_transform(data['song'])\n",
    "\n",
    "# 데이터 분리\n",
    "X = data.drop(columns=['song'])\n",
    "y = data['song']\n",
    "\n",
    "# 학습용 데이터와 테스트 데이터로 분리\n",
    "X_train, X_test, y_train, y_test = train_test_split(X, y, test_size=0.2, random_state=42)\n",
    "\n",
    "# DMatrix 생성\n",
    "dtrain = xgb.DMatrix(X_train, label=y_train, enable_categorical=True)\n",
    "dtest = xgb.DMatrix(X_test, label=y_test, enable_categorical=True)"
   ]
  },
  {
   "cell_type": "code",
   "execution_count": null,
   "id": "019c4390-5d87-4bfe-ad22-d551a674b97d",
   "metadata": {},
   "outputs": [],
   "source": [
    "print(X_train.shape, y_train.shape, X_test.shape, y_test.shape)"
   ]
  },
  {
   "cell_type": "markdown",
   "id": "569edcac-1476-4937-8ea9-fc5dd4e26d3f",
   "metadata": {},
   "source": [
    "#### XGBoost 모델의 특징\n",
    "- 효율적인 구현: XGBoost는 gradient boosting 알고리즘을 효율적으로 구현한 라이브러리입니다. 이를 통해 빠른 학습 속도와 높은 예측 성능을 달성할 수 있습니다.\n",
    "- 다양한 작업 지원: XGBoost는 분류, 회귀, 순위 예측 등 다양한 기계학습 작업을 지원합니다.\n",
    "- 자동 특성 중요도 계산: XGBoost는 자동으로 각 특성의 중요도를 계산하여 제공합니다. 이를 통해 특성 선택 및 모델 해석에 활용할 수 있습니다.\n",
    "- 병렬 처리 지원: XGBoost는 병렬 처리를 지원하여 대용량 데이터에 대한 학습이 가능합니다.\n",
    "#### XGBoost 모델의 하이퍼파라미터\n",
    "- max_depth: 트리의 최대 깊이를 제한하는 하이퍼파라미터입니다. 과적합을 방지하기 위해 적절한 값을 선택해야 합니다.\n",
    "- learning_rate: 각 트리에서 업데이트되는 가중치의 크기를 조절하는 하이퍼파라미터입니다. 작은 값을 사용하면 과적합을 방지할 수 있습니다.\n",
    "- n_estimators: 생성할 트리의 개수를 지정하는 하이퍼파라미터입니다. 적절한 값을 선택하여 모델의 성능을 향상시킬 수 있습니다.\n",
    "- min_child_weight: 리프 노드에서 필요한 최소 샘플 수를 지정하는 하이퍼파라미터입니다. 과적합을 방지하는 데 도움이 됩니다."
   ]
  },
  {
   "cell_type": "code",
   "execution_count": null,
   "id": "9c6357f3-ffd6-474b-965b-58370b88f588",
   "metadata": {
    "tags": []
   },
   "outputs": [],
   "source": [
    "# 모델 파라미터 설정\n",
    "params = {\n",
    "    'objective': 'multi:softmax',\n",
    "    'learning_rate': 0.05,\n",
    "    'max_depth': 6,\n",
    "    'num_class': len(label_encoder.classes_),\n",
    "    'enable_categorical': True\n",
    "}\n",
    "\n",
    "# 학습 시간 측정\n",
    "start_time = time.time()\n",
    "model = xgb.train(params, dtrain, num_boost_round=100)\n",
    "end_time = time.time()\n",
    "\n",
    "# 학습 시간\n",
    "training_time = end_time - start_time\n",
    "print(f'학습 시간: {training_time} 초')"
   ]
  },
  {
   "cell_type": "code",
   "execution_count": null,
   "id": "8830a92e-e1cd-4070-86b3-e6815ca35020",
   "metadata": {},
   "outputs": [],
   "source": [
    "# 모델 평가\n",
    "y_pred = model.predict(dtest)\n",
    "accuracy = accuracy_score(y_test, y_pred)\n",
    "print(f'Accuracy: {accuracy}')"
   ]
  },
  {
   "cell_type": "code",
   "execution_count": null,
   "id": "ba210c39-2e7a-4cd0-9731-1bccc0afb261",
   "metadata": {},
   "outputs": [],
   "source": [
    "# 예측된 레이블을 원래 값으로 변환\n",
    "y_pred_original = label_encoder.inverse_transform(y_pred.astype(int))\n",
    "print(y_pred_original)"
   ]
  },
  {
   "cell_type": "code",
   "execution_count": null,
   "id": "5ddf86d4-702a-4942-bef9-551e4adf6db3",
   "metadata": {},
   "outputs": [],
   "source": []
  },
  {
   "cell_type": "code",
   "execution_count": null,
   "id": "a4912fe8-4b97-4740-842a-f63e22f66918",
   "metadata": {},
   "outputs": [],
   "source": []
  },
  {
   "cell_type": "code",
   "execution_count": null,
   "id": "3b19dfe0-6205-4c51-bc7d-f19d7bb9f779",
   "metadata": {},
   "outputs": [],
   "source": []
  },
  {
   "cell_type": "code",
   "execution_count": null,
   "id": "84a71694-0fd0-4f91-a71b-03334c79d512",
   "metadata": {},
   "outputs": [],
   "source": []
  },
  {
   "cell_type": "code",
   "execution_count": null,
   "id": "a685ee62-ba16-4fcf-813d-b45738dbcc06",
   "metadata": {},
   "outputs": [],
   "source": []
  },
  {
   "cell_type": "code",
   "execution_count": null,
   "id": "f63b6d94-d0a3-4d34-8c76-1342ab7c9523",
   "metadata": {},
   "outputs": [],
   "source": []
  }
 ],
 "metadata": {
  "kernelspec": {
   "display_name": "Python 3 (ipykernel)",
   "language": "python",
   "name": "python3"
  },
  "language_info": {
   "codemirror_mode": {
    "name": "ipython",
    "version": 3
   },
   "file_extension": ".py",
   "mimetype": "text/x-python",
   "name": "python",
   "nbconvert_exporter": "python",
   "pygments_lexer": "ipython3",
   "version": "3.9.13"
  }
 },
 "nbformat": 4,
 "nbformat_minor": 5
}
