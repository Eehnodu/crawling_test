{
 "cells": [
  {
   "cell_type": "code",
   "execution_count": 1,
   "id": "caeeba2b-fb0d-4564-8bcb-87bd66b397f8",
   "metadata": {
    "tags": []
   },
   "outputs": [],
   "source": [
    "import pickle\n",
    "from sklearn.metrics.pairwise import cosine_similarity\n",
    "import random\n",
    "import pandas as pd\n",
    "import numpy as np\n",
    "\n",
    "# 저장된 모델 및 인코더, 벡터라이저, TF-IDF 행렬 불러오기\n",
    "with open('xgboost_model1.pkl', 'rb') as f:\n",
    "    loaded_model = pickle.load(f)\n",
    "\n",
    "with open('label_encoder1.pkl', 'rb') as le_file:\n",
    "    loaded_label_encoder = pickle.load(le_file)\n",
    "\n",
    "with open('tfidf_vectorizer1.pkl', 'rb') as tv_file:\n",
    "    loaded_tfidf_vectorizer = pickle.load(tv_file)\n",
    "\n",
    "with open('tfidf_matrix1.pkl', 'rb') as tm_file:\n",
    "    loaded_tfidf_matrix = pickle.load(tm_file)"
   ]
  },
  {
   "cell_type": "code",
   "execution_count": 2,
   "id": "a5ba7003-7b2a-490d-9c67-4782d02528e9",
   "metadata": {
    "tags": []
   },
   "outputs": [],
   "source": [
    "# 데이터 불러오기\n",
    "data = pd.read_csv('모델링DB용.csv')\n",
    "\n",
    "# 필요한 열 제외\n",
    "data = data.drop(columns=['curArtist', 'curTitle'])\n",
    "\n",
    "# curExplain, curHead, curObject를 결합하여 새로운 컬럼 생성\n",
    "data['combined'] = data['curExplain'].astype(str) + ' ' + data['curHead'].astype(str) + ' ' + data['curObject'].astype(str)\n",
    "\n",
    "# 범주형 변수를 category 타입으로 변환\n",
    "categorical_cols = ['curColor', 'curColor2', 'curColor3', 'genre', 'song']\n",
    "for col in categorical_cols:\n",
    "    data[col] = data[col].astype('category')\n",
    "\n",
    "# 'song' 열을 Label Encoding\n",
    "data['song'] = loaded_label_encoder.transform(data['song'])"
   ]
  },
  {
   "cell_type": "code",
   "execution_count": 3,
   "id": "7d079aef-f680-4fc3-98b1-7f2f41facaed",
   "metadata": {
    "tags": []
   },
   "outputs": [],
   "source": [
    "# 예측 수행 및 랜덤 추천 함수\n",
    "def recommend_random_songs(model, label_encoder, tfidf_vectorizer, tfidf_matrix, data, input_keywords, input_genre, n_recommendations=500, n_random=20):\n",
    "    # 입력 키워드를 TF-IDF 벡터화\n",
    "    input_vector = tfidf_vectorizer.transform([input_keywords])\n",
    "    \n",
    "    # 코사인 유사도 계산\n",
    "    cosine_sim = cosine_similarity(input_vector, tfidf_matrix)\n",
    "    \n",
    "    # 입력한 장르와 일치하는 인덱스 필터링\n",
    "    genre_indices = data[data['genre'] == input_genre].index\n",
    "    \n",
    "    # 유사도가 높은 순서로 정렬된 인덱스\n",
    "    sorted_indices = genre_indices[np.argsort(-cosine_sim[0][genre_indices])]\n",
    "    \n",
    "    # 상위 n개의 유사한 노래 추천\n",
    "    recommended_song_indices = sorted_indices[:n_recommendations]\n",
    "    recommended_songs = label_encoder.inverse_transform(data.loc[recommended_song_indices, 'song'])\n",
    "    \n",
    "    # n개의 랜덤 추천 노래 선택\n",
    "    random_recommendations = random.sample(list(recommended_songs), n_random)\n",
    "    \n",
    "    return random_recommendations"
   ]
  },
  {
   "cell_type": "code",
   "execution_count": 7,
   "id": "39fb6eef-02cc-4a67-bb8d-a7e383685f2f",
   "metadata": {
    "tags": []
   },
   "outputs": [
    {
     "name": "stdout",
     "output_type": "stream",
     "text": [
      "hyunghae - Loved you in a different way\n",
      "박재정 - 헤어지자 말해요\n",
      "박보람 - 애쓰지 마요\n",
      "임재현 - 비의 랩소디\n",
      "태연 - 그대라는 시\n",
      "박재정 - 헤어지자 말해요\n",
      "진민호 - 반만\n",
      "지아 - 술 한잔 해요\n",
      "김송연 - 사랑인가요\n",
      "베이지 - 그리워 그리워서\n",
      "김동률 - 오래된 노래\n",
      "최유리 - 밤, 바다\n",
      "태연 - This Christmas\n",
      "경서 - 비가 내리는 밤이면\n",
      "세븐틴 - 포옹\n",
      "새봄 - 비 오는 날이 좋아질 것 같아\n",
      "카더가든 - 그날, 우리\n",
      "볼빨간사춘기 - 너는 내 세상이었어\n",
      "겸 - 운명론\n",
      "정재호 - 마지막 인사\n"
     ]
    }
   ],
   "source": [
    "# 사용자 입력 예제\n",
    "input_keywords = ' 설렘 휴가 산 연인'\n",
    "input_genre = '발라드'\n",
    "\n",
    "# 랜덤 추천 수행\n",
    "random_recommendations = recommend_random_songs(loaded_model, loaded_label_encoder, loaded_tfidf_vectorizer, loaded_tfidf_matrix, data, input_keywords, input_genre)\n",
    "\n",
    "for song in random_recommendations:\n",
    "    print(song)"
   ]
  },
  {
   "cell_type": "code",
   "execution_count": null,
   "id": "c8f3da25-0bf8-43c3-8834-9733e55a39ef",
   "metadata": {},
   "outputs": [],
   "source": []
  }
 ],
 "metadata": {
  "kernelspec": {
   "display_name": "Python 3 (ipykernel)",
   "language": "python",
   "name": "python3"
  },
  "language_info": {
   "codemirror_mode": {
    "name": "ipython",
    "version": 3
   },
   "file_extension": ".py",
   "mimetype": "text/x-python",
   "name": "python",
   "nbconvert_exporter": "python",
   "pygments_lexer": "ipython3",
   "version": "3.11.5"
  }
 },
 "nbformat": 4,
 "nbformat_minor": 5
}
