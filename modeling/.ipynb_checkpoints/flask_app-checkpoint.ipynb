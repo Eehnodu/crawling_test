{
 "cells": [
  {
   "cell_type": "code",
   "execution_count": 1,
   "id": "740da8f4-69ec-4e80-8332-59b721f928d3",
   "metadata": {
    "tags": []
   },
   "outputs": [
    {
     "name": "stdout",
     "output_type": "stream",
     "text": [
      " * Serving Flask app '__main__'\n",
      " * Debug mode: off\n"
     ]
    },
    {
     "name": "stderr",
     "output_type": "stream",
     "text": [
      "WARNING: This is a development server. Do not use it in a production deployment. Use a production WSGI server instead.\n",
      " * Running on all addresses (0.0.0.0)\n",
      " * Running on http://127.0.0.1:5000\n",
      " * Running on http://192.168.219.65:5000\n",
      "Press CTRL+C to quit\n",
      "192.168.219.65 - - [07/Jun/2024 19:38:10] \"GET / HTTP/1.1\" 404 -\n",
      "192.168.219.65 - - [07/Jun/2024 19:38:10] \"GET /favicon.ico HTTP/1.1\" 404 -\n",
      "127.0.0.1 - - [07/Jun/2024 19:38:15] \"GET / HTTP/1.1\" 404 -\n",
      "127.0.0.1 - - [07/Jun/2024 19:38:15] \"GET /favicon.ico HTTP/1.1\" 404 -\n"
     ]
    }
   ],
   "source": [
    "from flask import Flask, request, jsonify\n",
    "import pickle\n",
    "import pandas as pd\n",
    "from sklearn.metrics.pairwise import cosine_similarity\n",
    "import random\n",
    "\n",
    "app = Flask(__name__)\n",
    "\n",
    "# 저장된 모델 및 인코더, 벡터라이저, TF-IDF 행렬 불러오기\n",
    "with open('xgboost_model1.pkl', 'rb') as f:\n",
    "    loaded_model = pickle.load(f)\n",
    "\n",
    "with open('label_encoder1.pkl', 'rb') as le_file:\n",
    "    loaded_label_encoder = pickle.load(le_file)\n",
    "\n",
    "with open('tfidf_vectorizer1.pkl', 'rb') as tv_file:\n",
    "    loaded_tfidf_vectorizer = pickle.load(tv_file)\n",
    "\n",
    "with open('tfidf_matrix1.pkl', 'rb') as tm_file:\n",
    "    loaded_tfidf_matrix = pickle.load(tm_file)\n",
    "\n",
    "# 데이터 불러오기\n",
    "data = pd.read_csv('모델링DB용.csv')\n",
    "\n",
    "# 필요한 열 제외\n",
    "data = data.drop(columns=['curArtist', 'curTitle'])\n",
    "\n",
    "# curExplain, curHead, curObject를 결합하여 새로운 컬럼 생성\n",
    "data['combined'] = data['curExplain'].astype(str) + ' ' + data['curHead'].astype(str) + ' ' + data['curObject'].astype(str)\n",
    "\n",
    "# 범주형 변수를 category 타입으로 변환\n",
    "categorical_cols = ['curColor', 'curColor2', 'curColor3', 'genre', 'song']\n",
    "for col in categorical_cols:\n",
    "    data[col] = data[col].astype('category')\n",
    "\n",
    "# 'song' 열을 Label Encoding\n",
    "data['song'] = loaded_label_encoder.transform(data['song'])\n",
    "\n",
    "# 예측 수행 및 랜덤 추천 함수\n",
    "def recommend_random_songs(model, label_encoder, tfidf_vectorizer, tfidf_matrix, data, input_keywords, input_genre, n_recommendations=500, n_random=20):\n",
    "    # 입력 키워드를 TF-IDF 벡터화\n",
    "    input_vector = tfidf_vectorizer.transform([input_keywords])\n",
    "    \n",
    "    # 코사인 유사도 계산\n",
    "    cosine_sim = cosine_similarity(input_vector, tfidf_matrix)\n",
    "    \n",
    "    # 입력한 장르와 일치하는 인덱스 필터링\n",
    "    genre_indices = data[data['genre'] == input_genre].index\n",
    "    \n",
    "    # 유사도가 높은 순서로 정렬된 인덱스\n",
    "    sorted_indices = genre_indices[np.argsort(-cosine_sim[0][genre_indices])]\n",
    "    \n",
    "    # 상위 n개의 유사한 노래 추천\n",
    "    recommended_song_indices = sorted_indices[:n_recommendations]\n",
    "    recommended_songs = label_encoder.inverse_transform(data.loc[recommended_song_indices, 'song'])\n",
    "    \n",
    "    # n개의 랜덤 추천 노래 선택\n",
    "    random_recommendations = random.sample(list(recommended_songs), n_random)\n",
    "    \n",
    "    return random_recommendations\n",
    "\n",
    "# 추천 API 엔드포인트 정의\n",
    "@app.route('/recommend', methods=['POST'])\n",
    "def recommend():\n",
    "    content = request.json\n",
    "    input_keywords = content['keywords']\n",
    "    input_genre = content['genre']\n",
    "    \n",
    "    recommendations = recommend_random_songs(loaded_model, loaded_label_encoder, loaded_tfidf_vectorizer, loaded_tfidf_matrix, data, input_keywords, input_genre)\n",
    "    \n",
    "    return jsonify(recommendations)\n",
    "\n",
    "if __name__ == '__main__':\n",
    "    app.run(host='0.0.0.0', port=5000)"
   ]
  },
  {
   "cell_type": "code",
   "execution_count": null,
   "id": "f1677ce9-40e1-4f1f-9d18-539c9bc1feb7",
   "metadata": {},
   "outputs": [],
   "source": []
  }
 ],
 "metadata": {
  "kernelspec": {
   "display_name": "Python 3 (ipykernel)",
   "language": "python",
   "name": "python3"
  },
  "language_info": {
   "codemirror_mode": {
    "name": "ipython",
    "version": 3
   },
   "file_extension": ".py",
   "mimetype": "text/x-python",
   "name": "python",
   "nbconvert_exporter": "python",
   "pygments_lexer": "ipython3",
   "version": "3.11.5"
  }
 },
 "nbformat": 4,
 "nbformat_minor": 5
}
