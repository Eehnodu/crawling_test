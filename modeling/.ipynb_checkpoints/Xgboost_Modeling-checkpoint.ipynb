{
 "cells": [
  {
   "cell_type": "markdown",
   "id": "e09ad9c3-52de-4cbf-a456-be3c902d9e66",
   "metadata": {},
   "source": [
    "#### 라이브러리"
   ]
  },
  {
   "cell_type": "code",
   "execution_count": 27,
   "id": "84daa146-6501-4c64-afca-8f70a02a10c2",
   "metadata": {
    "tags": []
   },
   "outputs": [],
   "source": [
    "import pandas as pd\n",
    "from sklearn.model_selection import train_test_split, GridSearchCV\n",
    "from sklearn.preprocessing import LabelEncoder\n",
    "import xgboost as xgb\n",
    "import time\n",
    "from sklearn.metrics import accuracy_score\n",
    "import warnings\n",
    "import pickle\n",
    "from sklearn.feature_extraction.text import TfidfVectorizer\n",
    "from sklearn.metrics.pairwise import cosine_similarity\n",
    "import numpy as np"
   ]
  },
  {
   "cell_type": "code",
   "execution_count": 28,
   "id": "80dc13bc-63cc-437a-a453-f49c8937c157",
   "metadata": {
    "tags": []
   },
   "outputs": [],
   "source": [
    "# 경고 메시지 무시\n",
    "warnings.filterwarnings(action='ignore', category=UserWarning, module='xgboost')"
   ]
  },
  {
   "cell_type": "code",
   "execution_count": 29,
   "id": "b3646825-3007-4e49-b8e4-12efb6456422",
   "metadata": {
    "tags": []
   },
   "outputs": [
    {
     "data": {
      "text/html": [
       "<div>\n",
       "<style scoped>\n",
       "    .dataframe tbody tr th:only-of-type {\n",
       "        vertical-align: middle;\n",
       "    }\n",
       "\n",
       "    .dataframe tbody tr th {\n",
       "        vertical-align: top;\n",
       "    }\n",
       "\n",
       "    .dataframe thead th {\n",
       "        text-align: right;\n",
       "    }\n",
       "</style>\n",
       "<table border=\"1\" class=\"dataframe\">\n",
       "  <thead>\n",
       "    <tr style=\"text-align: right;\">\n",
       "      <th></th>\n",
       "      <th>curColor</th>\n",
       "      <th>curPer</th>\n",
       "      <th>curColor2</th>\n",
       "      <th>curPer2</th>\n",
       "      <th>curColor3</th>\n",
       "      <th>curPer3</th>\n",
       "      <th>curObject</th>\n",
       "      <th>curHead</th>\n",
       "      <th>curTitle</th>\n",
       "      <th>curExplain</th>\n",
       "      <th>curArtist</th>\n",
       "      <th>song</th>\n",
       "      <th>genre</th>\n",
       "    </tr>\n",
       "  </thead>\n",
       "  <tbody>\n",
       "    <tr>\n",
       "      <th>0</th>\n",
       "      <td>Black</td>\n",
       "      <td>50.38</td>\n",
       "      <td>Grey</td>\n",
       "      <td>22.21</td>\n",
       "      <td>Grey</td>\n",
       "      <td>9.42</td>\n",
       "      <td>['바지', '시력 관리', '고글', '색안경', '검정색과 흰색', '플래시 사...</td>\n",
       "      <td>드라이브할맛나게하는트렌디하고세련된알앤비국내힙합ㅣR&amp;BHipHop</td>\n",
       "      <td>Like I Do</td>\n",
       "      <td>NaN</td>\n",
       "      <td>박재범</td>\n",
       "      <td>박재범 - Like I Do</td>\n",
       "      <td>R&amp;B/Soul</td>\n",
       "    </tr>\n",
       "    <tr>\n",
       "      <th>1</th>\n",
       "      <td>Black</td>\n",
       "      <td>50.38</td>\n",
       "      <td>Grey</td>\n",
       "      <td>22.21</td>\n",
       "      <td>Grey</td>\n",
       "      <td>9.42</td>\n",
       "      <td>['바지', '시력 관리', '고글', '색안경', '검정색과 흰색', '플래시 사...</td>\n",
       "      <td>드라이브할맛나게하는트렌디하고세련된알앤비국내힙합ㅣR&amp;BHipHop</td>\n",
       "      <td>Rewind</td>\n",
       "      <td>NaN</td>\n",
       "      <td>VVON</td>\n",
       "      <td>VVON - Rewind</td>\n",
       "      <td>R&amp;B/Soul</td>\n",
       "    </tr>\n",
       "    <tr>\n",
       "      <th>2</th>\n",
       "      <td>Black</td>\n",
       "      <td>50.38</td>\n",
       "      <td>Grey</td>\n",
       "      <td>22.21</td>\n",
       "      <td>Grey</td>\n",
       "      <td>9.42</td>\n",
       "      <td>['바지', '시력 관리', '고글', '색안경', '검정색과 흰색', '플래시 사...</td>\n",
       "      <td>드라이브할맛나게하는트렌디하고세련된알앤비국내힙합ㅣR&amp;BHipHop</td>\n",
       "      <td>Westcoast Marriage</td>\n",
       "      <td>NaN</td>\n",
       "      <td>Austn</td>\n",
       "      <td>Austn - Westcoast Marriage</td>\n",
       "      <td>R&amp;B/Soul</td>\n",
       "    </tr>\n",
       "    <tr>\n",
       "      <th>3</th>\n",
       "      <td>Black</td>\n",
       "      <td>50.38</td>\n",
       "      <td>Grey</td>\n",
       "      <td>22.21</td>\n",
       "      <td>Grey</td>\n",
       "      <td>9.42</td>\n",
       "      <td>['바지', '시력 관리', '고글', '색안경', '검정색과 흰색', '플래시 사...</td>\n",
       "      <td>드라이브할맛나게하는트렌디하고세련된알앤비국내힙합ㅣR&amp;BHipHop</td>\n",
       "      <td>Unlock</td>\n",
       "      <td>NaN</td>\n",
       "      <td>차다빈</td>\n",
       "      <td>차다빈 - Unlock</td>\n",
       "      <td>R&amp;B/Soul</td>\n",
       "    </tr>\n",
       "    <tr>\n",
       "      <th>4</th>\n",
       "      <td>Black</td>\n",
       "      <td>50.38</td>\n",
       "      <td>Grey</td>\n",
       "      <td>22.21</td>\n",
       "      <td>Grey</td>\n",
       "      <td>9.42</td>\n",
       "      <td>['바지', '시력 관리', '고글', '색안경', '검정색과 흰색', '플래시 사...</td>\n",
       "      <td>드라이브할맛나게하는트렌디하고세련된알앤비국내힙합ㅣR&amp;BHipHop</td>\n",
       "      <td>Beautiful</td>\n",
       "      <td>NaN</td>\n",
       "      <td>basecamp</td>\n",
       "      <td>basecamp - Beautiful</td>\n",
       "      <td>R&amp;B/Soul</td>\n",
       "    </tr>\n",
       "  </tbody>\n",
       "</table>\n",
       "</div>"
      ],
      "text/plain": [
       "  curColor  curPer curColor2  curPer2 curColor3  curPer3  \\\n",
       "0    Black   50.38      Grey    22.21      Grey     9.42   \n",
       "1    Black   50.38      Grey    22.21      Grey     9.42   \n",
       "2    Black   50.38      Grey    22.21      Grey     9.42   \n",
       "3    Black   50.38      Grey    22.21      Grey     9.42   \n",
       "4    Black   50.38      Grey    22.21      Grey     9.42   \n",
       "\n",
       "                                           curObject  \\\n",
       "0  ['바지', '시력 관리', '고글', '색안경', '검정색과 흰색', '플래시 사...   \n",
       "1  ['바지', '시력 관리', '고글', '색안경', '검정색과 흰색', '플래시 사...   \n",
       "2  ['바지', '시력 관리', '고글', '색안경', '검정색과 흰색', '플래시 사...   \n",
       "3  ['바지', '시력 관리', '고글', '색안경', '검정색과 흰색', '플래시 사...   \n",
       "4  ['바지', '시력 관리', '고글', '색안경', '검정색과 흰색', '플래시 사...   \n",
       "\n",
       "                               curHead            curTitle curExplain  \\\n",
       "0  드라이브할맛나게하는트렌디하고세련된알앤비국내힙합ㅣR&BHipHop           Like I Do        NaN   \n",
       "1  드라이브할맛나게하는트렌디하고세련된알앤비국내힙합ㅣR&BHipHop              Rewind        NaN   \n",
       "2  드라이브할맛나게하는트렌디하고세련된알앤비국내힙합ㅣR&BHipHop  Westcoast Marriage        NaN   \n",
       "3  드라이브할맛나게하는트렌디하고세련된알앤비국내힙합ㅣR&BHipHop              Unlock        NaN   \n",
       "4  드라이브할맛나게하는트렌디하고세련된알앤비국내힙합ㅣR&BHipHop           Beautiful        NaN   \n",
       "\n",
       "  curArtist                        song     genre  \n",
       "0       박재범             박재범 - Like I Do  R&B/Soul  \n",
       "1      VVON               VVON - Rewind  R&B/Soul  \n",
       "2     Austn  Austn - Westcoast Marriage  R&B/Soul  \n",
       "3       차다빈                차다빈 - Unlock  R&B/Soul  \n",
       "4  basecamp        basecamp - Beautiful  R&B/Soul  "
      ]
     },
     "execution_count": 29,
     "metadata": {},
     "output_type": "execute_result"
    }
   ],
   "source": [
    "data = pd.read_csv('머신러닝_통합.csv')\n",
    "data.head(5)"
   ]
  },
  {
   "cell_type": "code",
   "execution_count": 30,
   "id": "ed4ccee5-4956-43ef-8551-d786c0c79cf7",
   "metadata": {
    "tags": []
   },
   "outputs": [],
   "source": [
    "# 필요한 열 제외\n",
    "data = data.drop(columns=['curArtist', 'curTitle'])\n",
    "\n",
    "# 결측치 처리\n",
    "data = data.fillna('')\n",
    "\n",
    "# 범주형 변수를 category 타입으로 변환\n",
    "categorical_cols = ['curColor', 'curColor2', 'curColor3', 'curObject', 'curHead', 'curExplain', 'genre', 'song']\n",
    "for col in categorical_cols:\n",
    "    data[col] = data[col].astype('category')\n",
    "\n",
    "# 'song' 열을 Label Encoding\n",
    "label_encoder = LabelEncoder()\n",
    "data['song'] = label_encoder.fit_transform(data['song'])\n",
    "\n",
    "# 전체 데이터를 사용하여 DMatrix 생성\n",
    "dtrain = xgb.DMatrix(data.drop(columns=['song']), label=data['song'], enable_categorical=True)"
   ]
  },
  {
   "cell_type": "code",
   "execution_count": 31,
   "id": "019c4390-5d87-4bfe-ad22-d551a674b97d",
   "metadata": {
    "tags": []
   },
   "outputs": [
    {
     "name": "stdout",
     "output_type": "stream",
     "text": [
      "(5244, 10) (5244,) (1311, 10) (1311,)\n"
     ]
    }
   ],
   "source": [
    "print(X_train.shape, y_train.shape, X_test.shape, y_test.shape)"
   ]
  },
  {
   "cell_type": "markdown",
   "id": "569edcac-1476-4937-8ea9-fc5dd4e26d3f",
   "metadata": {},
   "source": [
    "#### XGBoost 모델의 특징\n",
    "- 효율적인 구현: XGBoost는 gradient boosting 알고리즘을 효율적으로 구현한 라이브러리입니다. 이를 통해 빠른 학습 속도와 높은 예측 성능을 달성할 수 있습니다.\n",
    "- 다양한 작업 지원: XGBoost는 분류, 회귀, 순위 예측 등 다양한 기계학습 작업을 지원합니다.\n",
    "- 자동 특성 중요도 계산: XGBoost는 자동으로 각 특성의 중요도를 계산하여 제공합니다. 이를 통해 특성 선택 및 모델 해석에 활용할 수 있습니다.\n",
    "- 병렬 처리 지원: XGBoost는 병렬 처리를 지원하여 대용량 데이터에 대한 학습이 가능합니다.\n",
    "#### XGBoost 모델의 하이퍼파라미터\n",
    "- max_depth: 트리의 최대 깊이를 제한하는 하이퍼파라미터입니다. 과적합을 방지하기 위해 적절한 값을 선택해야 합니다.\n",
    "- learning_rate: 각 트리에서 업데이트되는 가중치의 크기를 조절하는 하이퍼파라미터입니다. 작은 값을 사용하면 과적합을 방지할 수 있습니다.\n",
    "- n_estimators: 생성할 트리의 개수를 지정하는 하이퍼파라미터입니다. 적절한 값을 선택하여 모델의 성능을 향상시킬 수 있습니다.\n",
    "- min_child_weight: 리프 노드에서 필요한 최소 샘플 수를 지정하는 하이퍼파라미터입니다. 과적합을 방지하는 데 도움이 됩니다."
   ]
  },
  {
   "cell_type": "code",
   "execution_count": 32,
   "id": "9c6357f3-ffd6-474b-965b-58370b88f588",
   "metadata": {
    "tags": []
   },
   "outputs": [
    {
     "name": "stdout",
     "output_type": "stream",
     "text": [
      "학습 시간: 265.03036308288574 초\n"
     ]
    }
   ],
   "source": [
    "# 모델 파라미터 설정\n",
    "params = {\n",
    "    'objective': 'multi:softmax',\n",
    "    'learning_rate': 0.05,\n",
    "    'max_depth': 6,\n",
    "    'num_class': len(label_encoder.classes_)\n",
    "}\n",
    "\n",
    "# 학습 시간 측정\n",
    "start_time = time.time()\n",
    "model = xgb.train(params, dtrain, num_boost_round=100)\n",
    "end_time = time.time()\n",
    "\n",
    "# 학습 시간\n",
    "training_time = end_time - start_time\n",
    "print(f'학습 시간: {training_time} 초')\n"
   ]
  },
  {
   "cell_type": "code",
   "execution_count": 33,
   "id": "7c6d3623-4976-47d1-a53b-a69d2b96d388",
   "metadata": {
    "tags": []
   },
   "outputs": [],
   "source": [
    "# 모델 저장\n",
    "with open('xgboost_model.pkl', 'wb') as f:\n",
    "    pickle.dump(model, f)"
   ]
  },
  {
   "cell_type": "code",
   "execution_count": 34,
   "id": "a2ecd008-0379-49fe-9ab3-a3d018cf3eca",
   "metadata": {},
   "outputs": [],
   "source": [
    "# TF-IDF 벡터화\n",
    "tfidf_vectorizer = TfidfVectorizer()\n",
    "tfidf_matrix = tfidf_vectorizer.fit_transform(data['curExplain'].astype(str))"
   ]
  },
  {
   "cell_type": "markdown",
   "id": "7362fa5d-6025-4fdb-9195-e12b22989164",
   "metadata": {},
   "source": [
    "#### 입력값 예측 함수"
   ]
  },
  {
   "cell_type": "code",
   "execution_count": 35,
   "id": "3b19dfe0-6205-4c51-bc7d-f19d7bb9f779",
   "metadata": {},
   "outputs": [],
   "source": [
    "# 사용자 입력을 받아 예측하는 함수\n",
    "def recommend_songs(model, label_encoder, tfidf_vectorizer, tfidf_matrix, input_keywords, input_genre, n_recommendations=15):\n",
    "    # 입력 키워드를 TF-IDF 벡터화\n",
    "    input_vector = tfidf_vectorizer.transform([input_keywords])\n",
    "    \n",
    "    # 코사인 유사도 계산\n",
    "    cosine_sim = cosine_similarity(input_vector, tfidf_matrix)\n",
    "    \n",
    "    # 입력한 장르와 일치하는 인덱스 필터링\n",
    "    genre_indices = data[data['genre'] == input_genre].index\n",
    "    \n",
    "    # 유사도가 높은 순서로 정렬된 인덱스\n",
    "    sorted_indices = genre_indices[np.argsort(-cosine_sim[0][genre_indices])]\n",
    "    \n",
    "    # 상위 n개의 유사한 노래 추천\n",
    "    recommended_song_indices = sorted_indices[:n_recommendations]\n",
    "    recommended_songs = label_encoder.inverse_transform(data.loc[recommended_song_indices, 'song'])\n",
    "    \n",
    "    return recommended_songs"
   ]
  },
  {
   "cell_type": "code",
   "execution_count": 36,
   "id": "edc037be-86d1-433f-9712-a9b5d8614797",
   "metadata": {},
   "outputs": [],
   "source": [
    "# 저장된 모델 불러오기\n",
    "with open('xgboost_model.pkl', 'rb') as f:\n",
    "    loaded_model = pickle.load(f)"
   ]
  },
  {
   "cell_type": "code",
   "execution_count": 37,
   "id": "d2dd67c2-86a4-44b7-be6b-957f7345ca93",
   "metadata": {
    "tags": []
   },
   "outputs": [
    {
     "name": "stdout",
     "output_type": "stream",
     "text": [
      "추천된 노래들:\n",
      "88rising - Midsummer Madness\n",
      "Ciara - Freak Me\n",
      "Ciara - Thinkin Bout You\n",
      "박재범 - Like I Do\n",
      "카이 - 음\n",
      "Awa - F**kin' Love Songs\n",
      "GEMINI - Slo-mo\n",
      "수연이 - I'm fine\n",
      "RAUDI - When We Love\n",
      "SAAY - 겨울 탓\n",
      "SOLE - warm christmas\n",
      "오웰무드 - Runaway\n",
      "SUMIN - Brown\n",
      "Hoody - Like You\n",
      "WESLEY - HOME\n"
     ]
    }
   ],
   "source": [
    "# 사용자 입력 예제\n",
    "input_keywords = '신나는 운동중 바다'\n",
    "input_genre = 'R&B/Soul'\n",
    "\n",
    "# 예측 수행\n",
    "recommended_songs = recommend_songs(loaded_model, label_encoder, tfidf_vectorizer, tfidf_matrix, input_keywords, input_genre, n_recommendations=15)\n",
    "print(\"추천된 노래들:\")\n",
    "for song in recommended_songs:\n",
    "    print(song)"
   ]
  },
  {
   "cell_type": "code",
   "execution_count": null,
   "id": "6277c208-6fb2-474c-bea8-0e8a5e8b5315",
   "metadata": {},
   "outputs": [],
   "source": []
  },
  {
   "cell_type": "code",
   "execution_count": null,
   "id": "5f76e35e-b74b-408c-9756-18572314cf84",
   "metadata": {},
   "outputs": [],
   "source": []
  },
  {
   "cell_type": "code",
   "execution_count": null,
   "id": "731427c2-7a01-4836-b5ae-e296940f6a09",
   "metadata": {},
   "outputs": [],
   "source": []
  },
  {
   "cell_type": "code",
   "execution_count": null,
   "id": "3410d5a6-b80b-491d-bfc7-80439f5fcec0",
   "metadata": {},
   "outputs": [],
   "source": []
  },
  {
   "cell_type": "code",
   "execution_count": null,
   "id": "3d9a5d2d-4805-426f-8260-93407f2f0614",
   "metadata": {},
   "outputs": [],
   "source": []
  },
  {
   "cell_type": "code",
   "execution_count": null,
   "id": "a685ee62-ba16-4fcf-813d-b45738dbcc06",
   "metadata": {},
   "outputs": [],
   "source": []
  },
  {
   "cell_type": "code",
   "execution_count": null,
   "id": "f63b6d94-d0a3-4d34-8c76-1342ab7c9523",
   "metadata": {},
   "outputs": [],
   "source": []
  }
 ],
 "metadata": {
  "kernelspec": {
   "display_name": "Python 3 (ipykernel)",
   "language": "python",
   "name": "python3"
  },
  "language_info": {
   "codemirror_mode": {
    "name": "ipython",
    "version": 3
   },
   "file_extension": ".py",
   "mimetype": "text/x-python",
   "name": "python",
   "nbconvert_exporter": "python",
   "pygments_lexer": "ipython3",
   "version": "3.9.13"
  }
 },
 "nbformat": 4,
 "nbformat_minor": 5
}
