{
 "cells": [
  {
   "cell_type": "markdown",
   "id": "e09ad9c3-52de-4cbf-a456-be3c902d9e66",
   "metadata": {},
   "source": [
    "#### 라이브러리"
   ]
  },
  {
   "cell_type": "code",
   "execution_count": 122,
   "id": "84daa146-6501-4c64-afca-8f70a02a10c2",
   "metadata": {
    "tags": []
   },
   "outputs": [],
   "source": [
    "import pandas as pd\n",
    "from sklearn.model_selection import train_test_split, GridSearchCV\n",
    "from sklearn.preprocessing import LabelEncoder\n",
    "import xgboost as xgb\n",
    "import time\n",
    "from sklearn.metrics import accuracy_score\n",
    "import warnings\n",
    "import pickle\n",
    "from sklearn.feature_extraction.text import TfidfVectorizer\n",
    "from sklearn.metrics.pairwise import cosine_similarity\n",
    "import numpy as np\n",
    "import random"
   ]
  },
  {
   "cell_type": "code",
   "execution_count": 123,
   "id": "80dc13bc-63cc-437a-a453-f49c8937c157",
   "metadata": {
    "tags": []
   },
   "outputs": [],
   "source": [
    "# 경고 메시지 무시\n",
    "warnings.filterwarnings(action='ignore', category=UserWarning, module='xgboost')"
   ]
  },
  {
   "cell_type": "code",
   "execution_count": 124,
   "id": "b3646825-3007-4e49-b8e4-12efb6456422",
   "metadata": {
    "tags": []
   },
   "outputs": [
    {
     "data": {
      "text/html": [
       "<div>\n",
       "<style scoped>\n",
       "    .dataframe tbody tr th:only-of-type {\n",
       "        vertical-align: middle;\n",
       "    }\n",
       "\n",
       "    .dataframe tbody tr th {\n",
       "        vertical-align: top;\n",
       "    }\n",
       "\n",
       "    .dataframe thead th {\n",
       "        text-align: right;\n",
       "    }\n",
       "</style>\n",
       "<table border=\"1\" class=\"dataframe\">\n",
       "  <thead>\n",
       "    <tr style=\"text-align: right;\">\n",
       "      <th></th>\n",
       "      <th>curColor</th>\n",
       "      <th>curPer</th>\n",
       "      <th>curColor2</th>\n",
       "      <th>curPer2</th>\n",
       "      <th>curColor3</th>\n",
       "      <th>curPer3</th>\n",
       "      <th>curObject</th>\n",
       "      <th>curHead</th>\n",
       "      <th>curTitle</th>\n",
       "      <th>curExplain</th>\n",
       "      <th>curArtist</th>\n",
       "      <th>song</th>\n",
       "      <th>genre</th>\n",
       "    </tr>\n",
       "  </thead>\n",
       "  <tbody>\n",
       "    <tr>\n",
       "      <th>0</th>\n",
       "      <td>Black</td>\n",
       "      <td>50.38</td>\n",
       "      <td>Grey</td>\n",
       "      <td>22.21</td>\n",
       "      <td>Grey</td>\n",
       "      <td>9.42</td>\n",
       "      <td>바지 시력 관리 고글 색안경 검정색과 흰색 플래시 사진 스타일 안경 단색화 흑백 사진</td>\n",
       "      <td>드라이브 맛 트렌디 세련된 알앤비 국내 힙합</td>\n",
       "      <td>Like I Do</td>\n",
       "      <td>NaN</td>\n",
       "      <td>박재범</td>\n",
       "      <td>박재범 - Like I Do</td>\n",
       "      <td>R&amp;B</td>\n",
       "    </tr>\n",
       "    <tr>\n",
       "      <th>1</th>\n",
       "      <td>Black</td>\n",
       "      <td>50.38</td>\n",
       "      <td>Grey</td>\n",
       "      <td>22.21</td>\n",
       "      <td>Grey</td>\n",
       "      <td>9.42</td>\n",
       "      <td>바지 시력 관리 고글 색안경 검정색과 흰색 플래시 사진 스타일 안경 단색화 흑백 사진</td>\n",
       "      <td>드라이브 맛 트렌디 세련된 알앤비 국내 힙합</td>\n",
       "      <td>Rewind</td>\n",
       "      <td>NaN</td>\n",
       "      <td>VVON</td>\n",
       "      <td>VVON - Rewind</td>\n",
       "      <td>R&amp;B</td>\n",
       "    </tr>\n",
       "    <tr>\n",
       "      <th>2</th>\n",
       "      <td>Black</td>\n",
       "      <td>50.38</td>\n",
       "      <td>Grey</td>\n",
       "      <td>22.21</td>\n",
       "      <td>Grey</td>\n",
       "      <td>9.42</td>\n",
       "      <td>바지 시력 관리 고글 색안경 검정색과 흰색 플래시 사진 스타일 안경 단색화 흑백 사진</td>\n",
       "      <td>드라이브 맛 트렌디 세련된 알앤비 국내 힙합</td>\n",
       "      <td>Westcoast Marriage</td>\n",
       "      <td>NaN</td>\n",
       "      <td>Austn</td>\n",
       "      <td>Austn - Westcoast Marriage</td>\n",
       "      <td>R&amp;B</td>\n",
       "    </tr>\n",
       "    <tr>\n",
       "      <th>3</th>\n",
       "      <td>Black</td>\n",
       "      <td>50.38</td>\n",
       "      <td>Grey</td>\n",
       "      <td>22.21</td>\n",
       "      <td>Grey</td>\n",
       "      <td>9.42</td>\n",
       "      <td>바지 시력 관리 고글 색안경 검정색과 흰색 플래시 사진 스타일 안경 단색화 흑백 사진</td>\n",
       "      <td>드라이브 맛 트렌디 세련된 알앤비 국내 힙합</td>\n",
       "      <td>Unlock</td>\n",
       "      <td>NaN</td>\n",
       "      <td>차다빈</td>\n",
       "      <td>차다빈 - Unlock</td>\n",
       "      <td>R&amp;B</td>\n",
       "    </tr>\n",
       "    <tr>\n",
       "      <th>4</th>\n",
       "      <td>Black</td>\n",
       "      <td>50.38</td>\n",
       "      <td>Grey</td>\n",
       "      <td>22.21</td>\n",
       "      <td>Grey</td>\n",
       "      <td>9.42</td>\n",
       "      <td>바지 시력 관리 고글 색안경 검정색과 흰색 플래시 사진 스타일 안경 단색화 흑백 사진</td>\n",
       "      <td>드라이브 맛 트렌디 세련된 알앤비 국내 힙합</td>\n",
       "      <td>Beautiful</td>\n",
       "      <td>NaN</td>\n",
       "      <td>basecamp</td>\n",
       "      <td>basecamp - Beautiful</td>\n",
       "      <td>R&amp;B</td>\n",
       "    </tr>\n",
       "  </tbody>\n",
       "</table>\n",
       "</div>"
      ],
      "text/plain": [
       "  curColor  curPer curColor2  curPer2 curColor3  curPer3  \\\n",
       "0    Black   50.38      Grey    22.21      Grey     9.42   \n",
       "1    Black   50.38      Grey    22.21      Grey     9.42   \n",
       "2    Black   50.38      Grey    22.21      Grey     9.42   \n",
       "3    Black   50.38      Grey    22.21      Grey     9.42   \n",
       "4    Black   50.38      Grey    22.21      Grey     9.42   \n",
       "\n",
       "                                         curObject                   curHead  \\\n",
       "0  바지 시력 관리 고글 색안경 검정색과 흰색 플래시 사진 스타일 안경 단색화 흑백 사진  드라이브 맛 트렌디 세련된 알앤비 국내 힙합   \n",
       "1  바지 시력 관리 고글 색안경 검정색과 흰색 플래시 사진 스타일 안경 단색화 흑백 사진  드라이브 맛 트렌디 세련된 알앤비 국내 힙합   \n",
       "2  바지 시력 관리 고글 색안경 검정색과 흰색 플래시 사진 스타일 안경 단색화 흑백 사진  드라이브 맛 트렌디 세련된 알앤비 국내 힙합   \n",
       "3  바지 시력 관리 고글 색안경 검정색과 흰색 플래시 사진 스타일 안경 단색화 흑백 사진  드라이브 맛 트렌디 세련된 알앤비 국내 힙합   \n",
       "4  바지 시력 관리 고글 색안경 검정색과 흰색 플래시 사진 스타일 안경 단색화 흑백 사진  드라이브 맛 트렌디 세련된 알앤비 국내 힙합   \n",
       "\n",
       "             curTitle curExplain curArtist                        song genre  \n",
       "0           Like I Do        NaN       박재범             박재범 - Like I Do   R&B  \n",
       "1              Rewind        NaN      VVON               VVON - Rewind   R&B  \n",
       "2  Westcoast Marriage        NaN     Austn  Austn - Westcoast Marriage   R&B  \n",
       "3              Unlock        NaN       차다빈                차다빈 - Unlock   R&B  \n",
       "4           Beautiful        NaN  basecamp        basecamp - Beautiful   R&B  "
      ]
     },
     "execution_count": 124,
     "metadata": {},
     "output_type": "execute_result"
    }
   ],
   "source": [
    "data = pd.read_csv('모델링DB용.csv')\n",
    "data.head(5)"
   ]
  },
  {
   "cell_type": "code",
   "execution_count": 125,
   "id": "ed4ccee5-4956-43ef-8551-d786c0c79cf7",
   "metadata": {
    "tags": []
   },
   "outputs": [],
   "source": [
    "# 필요한 열 제외\n",
    "data = data.drop(columns=['curArtist', 'curTitle'])\n",
    "\n",
    "# curExplain, curHead, curObject를 결합하여 새로운 컬럼 생성\n",
    "data['combined'] = data['curExplain'].astype(str) + ' ' + data['curHead'].astype(str) + ' ' + data['curObject'].astype(str)\n",
    "\n",
    "# 범주형 변수를 category 타입으로 변환\n",
    "categorical_cols = ['curColor', 'curColor2', 'curColor3', 'genre', 'song']\n",
    "for col in categorical_cols:\n",
    "    data[col] = data[col].astype('category')\n",
    "\n",
    "# 'song' 열을 Label Encoding\n",
    "label_encoder = LabelEncoder()\n",
    "data['song'] = label_encoder.fit_transform(data['song'])\n",
    "\n",
    "# LabelEncoder 저장\n",
    "with open('label_encoder1.pkl', 'wb') as le_file:\n",
    "    pickle.dump(label_encoder, le_file)\n",
    "\n",
    "# TF-IDF 벡터화\n",
    "tfidf_vectorizer = TfidfVectorizer(max_features=5000, ngram_range=(1, 2), min_df=2, max_df=0.8)\n",
    "tfidf_matrix = tfidf_vectorizer.fit_transform(data['combined'])\n",
    "\n",
    "# TF-IDF 결과를 데이터프레임으로 변환\n",
    "tfidf_df = pd.DataFrame(tfidf_matrix.toarray(), columns=tfidf_vectorizer.get_feature_names_out())\n",
    "\n",
    "# TF-IDF Vectorizer 저장\n",
    "with open('tfidf_vectorizer1.pkl', 'wb') as tv_file:\n",
    "    pickle.dump(tfidf_vectorizer, tv_file)\n",
    "\n",
    "# TF-IDF 행렬 저장\n",
    "with open('tfidf_matrix1.pkl', 'wb') as tm_file:\n",
    "    pickle.dump(tfidf_matrix, tm_file)\n",
    "\n",
    "# 모델 학습에 사용할 데이터 준비 (curExplain, curHead, curObject, combined 열 제거)\n",
    "X = pd.concat([data[['curColor', 'curPer', 'curColor2', 'curPer2', 'curColor3', 'curPer3', 'genre']].reset_index(drop=True), tfidf_df.reset_index(drop=True)], axis=1)\n",
    "y = data['song']\n",
    "\n",
    "# DMatrix 생성\n",
    "dtrain = xgb.DMatrix(X, label=y, enable_categorical=True)"
   ]
  },
  {
   "cell_type": "code",
   "execution_count": 116,
   "id": "acacc261-c9bb-4663-b1ea-d93c0efd97b9",
   "metadata": {
    "tags": []
   },
   "outputs": [],
   "source": [
    "# LabelEncoder 저장\n",
    "with open('label_encoder1.pkl', 'wb') as le_file:\n",
    "    pickle.dump(label_encoder, le_file)\n",
    "    \n",
    "    # TF-IDF Vectorizer 저장\n",
    "with open('tfidf_vectorizer1.pkl', 'wb') as tv_file:\n",
    "    pickle.dump(tfidf_vectorizer, tv_file)\n",
    "\n",
    "# TF-IDF 행렬 저장\n",
    "with open('tfidf_matrix1.pkl', 'wb') as tm_file:\n",
    "    pickle.dump(tfidf_matrix, tm_file)"
   ]
  },
  {
   "cell_type": "markdown",
   "id": "569edcac-1476-4937-8ea9-fc5dd4e26d3f",
   "metadata": {},
   "source": [
    "#### XGBoost 모델의 특징\n",
    "- 효율적인 구현: XGBoost는 gradient boosting 알고리즘을 효율적으로 구현한 라이브러리입니다. 이를 통해 빠른 학습 속도와 높은 예측 성능을 달성할 수 있습니다.\n",
    "- 다양한 작업 지원: XGBoost는 분류, 회귀, 순위 예측 등 다양한 기계학습 작업을 지원합니다.\n",
    "- 자동 특성 중요도 계산: XGBoost는 자동으로 각 특성의 중요도를 계산하여 제공합니다. 이를 통해 특성 선택 및 모델 해석에 활용할 수 있습니다.\n",
    "- 병렬 처리 지원: XGBoost는 병렬 처리를 지원하여 대용량 데이터에 대한 학습이 가능합니다.\n",
    "#### XGBoost 모델의 하이퍼파라미터\n",
    "- max_depth: 트리의 최대 깊이를 제한하는 하이퍼파라미터입니다. 과적합을 방지하기 위해 적절한 값을 선택해야 합니다.\n",
    "- learning_rate: 각 트리에서 업데이트되는 가중치의 크기를 조절하는 하이퍼파라미터입니다. 작은 값을 사용하면 과적합을 방지할 수 있습니다.\n",
    "- n_estimators: 생성할 트리의 개수를 지정하는 하이퍼파라미터입니다. 적절한 값을 선택하여 모델의 성능을 향상시킬 수 있습니다.\n",
    "- min_child_weight: 리프 노드에서 필요한 최소 샘플 수를 지정하는 하이퍼파라미터입니다. 과적합을 방지하는 데 도움이 됩니다."
   ]
  },
  {
   "cell_type": "code",
   "execution_count": 22,
   "id": "9c6357f3-ffd6-474b-965b-58370b88f588",
   "metadata": {
    "tags": []
   },
   "outputs": [
    {
     "name": "stdout",
     "output_type": "stream",
     "text": [
      "학습 시간: 9638.597186088562 초\n"
     ]
    }
   ],
   "source": [
    "# 모델 파라미터 설정\n",
    "params = {\n",
    "    'objective': 'multi:softmax',\n",
    "    'learning_rate': 0.05,\n",
    "    'max_depth': 6,\n",
    "    'num_class': len(label_encoder.classes_)\n",
    "}\n",
    "\n",
    "# 학습 시간 측정\n",
    "start_time = time.time()\n",
    "model = xgb.train(params, dtrain, num_boost_round=100)\n",
    "end_time = time.time()\n",
    "\n",
    "# 학습 시간\n",
    "training_time = end_time - start_time\n",
    "print(f'학습 시간: {training_time} 초')"
   ]
  },
  {
   "cell_type": "code",
   "execution_count": 23,
   "id": "7c6d3623-4976-47d1-a53b-a69d2b96d388",
   "metadata": {
    "tags": []
   },
   "outputs": [],
   "source": [
    "# 모델 저장\n",
    "with open('xgboost_model1.pkl', 'wb') as f:\n",
    "    pickle.dump(model, f)"
   ]
  },
  {
   "cell_type": "markdown",
   "id": "7362fa5d-6025-4fdb-9195-e12b22989164",
   "metadata": {},
   "source": [
    "#### 입력값 예측 함수"
   ]
  },
  {
   "cell_type": "code",
   "execution_count": 150,
   "id": "3b19dfe0-6205-4c51-bc7d-f19d7bb9f779",
   "metadata": {},
   "outputs": [],
   "source": [
    "# 예측 수행 및 랜덤 추천 함수\n",
    "def recommend_random_songs(model, label_encoder, tfidf_vectorizer, tfidf_matrix, input_keywords, input_genre, n_recommendations=500, n_random=20):\n",
    "    # 입력 키워드를 TF-IDF 벡터화\n",
    "    input_vector = tfidf_vectorizer.transform([input_keywords])\n",
    "    \n",
    "    # 코사인 유사도 계산\n",
    "    cosine_sim = cosine_similarity(input_vector, tfidf_matrix)\n",
    "    \n",
    "    # 입력한 장르와 일치하는 인덱스 필터링\n",
    "    genre_indices = data[data['genre'] == input_genre].index\n",
    "    \n",
    "    # 유사도가 높은 순서로 정렬된 인덱스\n",
    "    sorted_indices = genre_indices[np.argsort(-cosine_sim[0][genre_indices])]\n",
    "    \n",
    "    # 상위 n개의 유사한 노래 추천\n",
    "    recommended_song_indices = sorted_indices[:n_recommendations]\n",
    "    recommended_songs = label_encoder.inverse_transform(data.loc[recommended_song_indices, 'song'])\n",
    "    \n",
    "    # n개의 랜덤 추천 노래 선택\n",
    "    random_recommendations = random.sample(list(recommended_songs), n_random)\n",
    "    \n",
    "    return random_recommendations"
   ]
  },
  {
   "cell_type": "code",
   "execution_count": 44,
   "id": "edc037be-86d1-433f-9712-a9b5d8614797",
   "metadata": {},
   "outputs": [],
   "source": [
    "# 저장된 모델 불러오기\n",
    "with open('xgboost_model1.pkl', 'rb') as f:\n",
    "    loaded_model = pickle.load(f)"
   ]
  },
  {
   "cell_type": "code",
   "execution_count": 151,
   "id": "d2dd67c2-86a4-44b7-be6b-957f7345ca93",
   "metadata": {
    "tags": []
   },
   "outputs": [
    {
     "name": "stdout",
     "output_type": "stream",
     "text": [
      "랜덤으로 선택된 추천 노래들:\n",
      "아일리원 - Shining Sky\n",
      "JAMIE - Pity Party\n",
      "NewJeans - Super Shy\n",
      "폴킴 - 화이트\n",
      "마틴스미스 - 봄 그리고 너\n",
      "김아름 - 사이\n",
      "아이유 - 미리 메리 크리스마스\n",
      "김아름 - 사이\n",
      "청하 - PLAY\n",
      "아이들 - 퀸카\n",
      "JAMIE - 5가지 Christmas\n",
      "아이유 - 하루 끝\n",
      "태연 - Weekend\n",
      "뉴이스트 - BET BET\n",
      "스페이스카우보이 - Guardian\n",
      "BLACKPINK - Don't Know What To Do\n",
      "다비치 - 화이트\n",
      "JAMIE - Pity Party\n",
      "8TURN - GLOW\n",
      "김아름 - 선\n"
     ]
    }
   ],
   "source": [
    "# 사용자 입력 예제\n",
    "input_keywords = '설렘 산책 바다 혼자'\n",
    "input_genre = '댄스'\n",
    "\n",
    "# 랜덤 추천 수행\n",
    "random_recommendations = recommend_random_songs(loaded_model, label_encoder, tfidf_vectorizer, tfidf_matrix, input_keywords, input_genre)\n",
    "\n",
    "print(\"랜덤으로 선택된 추천 노래들:\")\n",
    "for song in random_recommendations:\n",
    "    print(song)"
   ]
  },
  {
   "cell_type": "code",
   "execution_count": 152,
   "id": "6277c208-6fb2-474c-bea8-0e8a5e8b5315",
   "metadata": {
    "tags": []
   },
   "outputs": [
    {
     "name": "stdout",
     "output_type": "stream",
     "text": [
      "추천 시스템 정확도: 0.69\n",
      "추천 시스템 정밀도: 0.69\n",
      "추천 시스템 재현율: 0.69\n",
      "추천 시스템 F1 점수: 0.69\n"
     ]
    }
   ],
   "source": [
    "# 추천된 결과를 평가하는 함수\n",
    "def evaluate_recommendations(recommended_songs, actual_songs):\n",
    "    intersection = set(recommended_songs).intersection(set(actual_songs))\n",
    "    accuracy = len(intersection) / len(actual_songs)\n",
    "    precision = len(intersection) / len(recommended_songs)\n",
    "    recall = len(intersection) / len(actual_songs)\n",
    "    if precision + recall == 0:\n",
    "        f1 = 0\n",
    "    else:\n",
    "        f1 = 2 * (precision * recall) / (precision + recall)\n",
    "    return accuracy, precision, recall, f1\n",
    "\n",
    "# 실제 장르 내 노래 목록\n",
    "actual_songs = label_encoder.inverse_transform(data[data['genre'] == input_genre]['song'])\n",
    "\n",
    "# 평가 수행\n",
    "accuracy, precision, recall, f1 = evaluate_recommendations(recommended_songs, actual_songs)\n",
    "\n",
    "# 결과 출력 (소수점 2자리까지)\n",
    "print(f'추천 시스템 정확도: {accuracy:.2f}')\n",
    "print(f'추천 시스템 정밀도: {precision:.2f}')\n",
    "print(f'추천 시스템 재현율: {recall:.2f}')\n",
    "print(f'추천 시스템 F1 점수: {f1:.2f}')"
   ]
  },
  {
   "cell_type": "code",
   "execution_count": null,
   "id": "3d9a5d2d-4805-426f-8260-93407f2f0614",
   "metadata": {},
   "outputs": [],
   "source": []
  },
  {
   "cell_type": "code",
   "execution_count": null,
   "id": "a685ee62-ba16-4fcf-813d-b45738dbcc06",
   "metadata": {},
   "outputs": [],
   "source": []
  },
  {
   "cell_type": "code",
   "execution_count": null,
   "id": "f63b6d94-d0a3-4d34-8c76-1342ab7c9523",
   "metadata": {},
   "outputs": [],
   "source": []
  }
 ],
 "metadata": {
  "kernelspec": {
   "display_name": "Python 3 (ipykernel)",
   "language": "python",
   "name": "python3"
  },
  "language_info": {
   "codemirror_mode": {
    "name": "ipython",
    "version": 3
   },
   "file_extension": ".py",
   "mimetype": "text/x-python",
   "name": "python",
   "nbconvert_exporter": "python",
   "pygments_lexer": "ipython3",
   "version": "3.11.5"
  }
 },
 "nbformat": 4,
 "nbformat_minor": 5
}
