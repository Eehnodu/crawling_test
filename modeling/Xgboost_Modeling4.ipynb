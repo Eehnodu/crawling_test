{
 "cells": [
  {
   "cell_type": "markdown",
   "id": "e09ad9c3-52de-4cbf-a456-be3c902d9e66",
   "metadata": {},
   "source": [
    "#### 라이브러리"
   ]
  },
  {
   "cell_type": "code",
   "execution_count": 66,
   "id": "84daa146-6501-4c64-afca-8f70a02a10c2",
   "metadata": {
    "tags": []
   },
   "outputs": [],
   "source": [
    "import pandas as pd\n",
    "from sklearn.model_selection import train_test_split\n",
    "from sklearn.preprocessing import LabelEncoder\n",
    "import xgboost as xgb\n",
    "import time\n",
    "from sklearn.metrics import classification_report, confusion_matrix\n",
    "import warnings\n",
    "import pickle\n",
    "from sklearn.feature_extraction.text import TfidfVectorizer\n",
    "from sklearn.metrics.pairwise import cosine_similarity"
   ]
  },
  {
   "cell_type": "code",
   "execution_count": 67,
   "id": "80dc13bc-63cc-437a-a453-f49c8937c157",
   "metadata": {
    "tags": []
   },
   "outputs": [],
   "source": [
    "# 경고 메시지 무시\n",
    "warnings.filterwarnings(action='ignore', category=UserWarning, module='xgboost')"
   ]
  },
  {
   "cell_type": "code",
   "execution_count": 68,
   "id": "b3646825-3007-4e49-b8e4-12efb6456422",
   "metadata": {
    "tags": []
   },
   "outputs": [
    {
     "data": {
      "text/html": [
       "<div>\n",
       "<style scoped>\n",
       "    .dataframe tbody tr th:only-of-type {\n",
       "        vertical-align: middle;\n",
       "    }\n",
       "\n",
       "    .dataframe tbody tr th {\n",
       "        vertical-align: top;\n",
       "    }\n",
       "\n",
       "    .dataframe thead th {\n",
       "        text-align: right;\n",
       "    }\n",
       "</style>\n",
       "<table border=\"1\" class=\"dataframe\">\n",
       "  <thead>\n",
       "    <tr style=\"text-align: right;\">\n",
       "      <th></th>\n",
       "      <th>curColor</th>\n",
       "      <th>curPer</th>\n",
       "      <th>curColor2</th>\n",
       "      <th>curPer2</th>\n",
       "      <th>curColor3</th>\n",
       "      <th>curPer3</th>\n",
       "      <th>curObject</th>\n",
       "      <th>curHead</th>\n",
       "      <th>curTitle</th>\n",
       "      <th>curExplain</th>\n",
       "      <th>curArtist</th>\n",
       "      <th>song</th>\n",
       "      <th>genre</th>\n",
       "    </tr>\n",
       "  </thead>\n",
       "  <tbody>\n",
       "    <tr>\n",
       "      <th>0</th>\n",
       "      <td>Black</td>\n",
       "      <td>50.38</td>\n",
       "      <td>Grey</td>\n",
       "      <td>22.21</td>\n",
       "      <td>Grey</td>\n",
       "      <td>9.42</td>\n",
       "      <td>바지 시력 관리 고글 색안경 검정색과 흰색 플래시 사진 스타일 안경 단색화 흑백 사진</td>\n",
       "      <td>드라이브 맛 트렌디 세련된 알앤비 국내 힙합</td>\n",
       "      <td>Like I Do</td>\n",
       "      <td>NaN</td>\n",
       "      <td>박재범</td>\n",
       "      <td>박재범 - Like I Do</td>\n",
       "      <td>R&amp;B</td>\n",
       "    </tr>\n",
       "    <tr>\n",
       "      <th>1</th>\n",
       "      <td>Black</td>\n",
       "      <td>50.38</td>\n",
       "      <td>Grey</td>\n",
       "      <td>22.21</td>\n",
       "      <td>Grey</td>\n",
       "      <td>9.42</td>\n",
       "      <td>바지 시력 관리 고글 색안경 검정색과 흰색 플래시 사진 스타일 안경 단색화 흑백 사진</td>\n",
       "      <td>드라이브 맛 트렌디 세련된 알앤비 국내 힙합</td>\n",
       "      <td>Rewind</td>\n",
       "      <td>NaN</td>\n",
       "      <td>VVON</td>\n",
       "      <td>VVON - Rewind</td>\n",
       "      <td>R&amp;B</td>\n",
       "    </tr>\n",
       "    <tr>\n",
       "      <th>2</th>\n",
       "      <td>Black</td>\n",
       "      <td>50.38</td>\n",
       "      <td>Grey</td>\n",
       "      <td>22.21</td>\n",
       "      <td>Grey</td>\n",
       "      <td>9.42</td>\n",
       "      <td>바지 시력 관리 고글 색안경 검정색과 흰색 플래시 사진 스타일 안경 단색화 흑백 사진</td>\n",
       "      <td>드라이브 맛 트렌디 세련된 알앤비 국내 힙합</td>\n",
       "      <td>Westcoast Marriage</td>\n",
       "      <td>NaN</td>\n",
       "      <td>Austn</td>\n",
       "      <td>Austn - Westcoast Marriage</td>\n",
       "      <td>R&amp;B</td>\n",
       "    </tr>\n",
       "    <tr>\n",
       "      <th>3</th>\n",
       "      <td>Black</td>\n",
       "      <td>50.38</td>\n",
       "      <td>Grey</td>\n",
       "      <td>22.21</td>\n",
       "      <td>Grey</td>\n",
       "      <td>9.42</td>\n",
       "      <td>바지 시력 관리 고글 색안경 검정색과 흰색 플래시 사진 스타일 안경 단색화 흑백 사진</td>\n",
       "      <td>드라이브 맛 트렌디 세련된 알앤비 국내 힙합</td>\n",
       "      <td>Unlock</td>\n",
       "      <td>NaN</td>\n",
       "      <td>차다빈</td>\n",
       "      <td>차다빈 - Unlock</td>\n",
       "      <td>R&amp;B</td>\n",
       "    </tr>\n",
       "    <tr>\n",
       "      <th>4</th>\n",
       "      <td>Black</td>\n",
       "      <td>50.38</td>\n",
       "      <td>Grey</td>\n",
       "      <td>22.21</td>\n",
       "      <td>Grey</td>\n",
       "      <td>9.42</td>\n",
       "      <td>바지 시력 관리 고글 색안경 검정색과 흰색 플래시 사진 스타일 안경 단색화 흑백 사진</td>\n",
       "      <td>드라이브 맛 트렌디 세련된 알앤비 국내 힙합</td>\n",
       "      <td>Beautiful</td>\n",
       "      <td>NaN</td>\n",
       "      <td>basecamp</td>\n",
       "      <td>basecamp - Beautiful</td>\n",
       "      <td>R&amp;B</td>\n",
       "    </tr>\n",
       "  </tbody>\n",
       "</table>\n",
       "</div>"
      ],
      "text/plain": [
       "  curColor  curPer curColor2  curPer2 curColor3  curPer3  \\\n",
       "0    Black   50.38      Grey    22.21      Grey     9.42   \n",
       "1    Black   50.38      Grey    22.21      Grey     9.42   \n",
       "2    Black   50.38      Grey    22.21      Grey     9.42   \n",
       "3    Black   50.38      Grey    22.21      Grey     9.42   \n",
       "4    Black   50.38      Grey    22.21      Grey     9.42   \n",
       "\n",
       "                                         curObject                   curHead  \\\n",
       "0  바지 시력 관리 고글 색안경 검정색과 흰색 플래시 사진 스타일 안경 단색화 흑백 사진  드라이브 맛 트렌디 세련된 알앤비 국내 힙합   \n",
       "1  바지 시력 관리 고글 색안경 검정색과 흰색 플래시 사진 스타일 안경 단색화 흑백 사진  드라이브 맛 트렌디 세련된 알앤비 국내 힙합   \n",
       "2  바지 시력 관리 고글 색안경 검정색과 흰색 플래시 사진 스타일 안경 단색화 흑백 사진  드라이브 맛 트렌디 세련된 알앤비 국내 힙합   \n",
       "3  바지 시력 관리 고글 색안경 검정색과 흰색 플래시 사진 스타일 안경 단색화 흑백 사진  드라이브 맛 트렌디 세련된 알앤비 국내 힙합   \n",
       "4  바지 시력 관리 고글 색안경 검정색과 흰색 플래시 사진 스타일 안경 단색화 흑백 사진  드라이브 맛 트렌디 세련된 알앤비 국내 힙합   \n",
       "\n",
       "             curTitle curExplain curArtist                        song genre  \n",
       "0           Like I Do        NaN       박재범             박재범 - Like I Do   R&B  \n",
       "1              Rewind        NaN      VVON               VVON - Rewind   R&B  \n",
       "2  Westcoast Marriage        NaN     Austn  Austn - Westcoast Marriage   R&B  \n",
       "3              Unlock        NaN       차다빈                차다빈 - Unlock   R&B  \n",
       "4           Beautiful        NaN  basecamp        basecamp - Beautiful   R&B  "
      ]
     },
     "execution_count": 68,
     "metadata": {},
     "output_type": "execute_result"
    }
   ],
   "source": [
    "data = pd.read_csv('모델링DB용.csv')\n",
    "data.head(5)"
   ]
  },
  {
   "cell_type": "code",
   "execution_count": 69,
   "id": "ed4ccee5-4956-43ef-8551-d786c0c79cf7",
   "metadata": {
    "tags": []
   },
   "outputs": [
    {
     "ename": "ValueError",
     "evalue": "The least populated class in y has only 1 member, which is too few. The minimum number of groups for any class cannot be less than 2.",
     "output_type": "error",
     "traceback": [
      "\u001b[1;31m---------------------------------------------------------------------------\u001b[0m",
      "\u001b[1;31mValueError\u001b[0m                                Traceback (most recent call last)",
      "Cell \u001b[1;32mIn[69], line 28\u001b[0m\n\u001b[0;32m     25\u001b[0m y \u001b[38;5;241m=\u001b[39m data[\u001b[38;5;124m'\u001b[39m\u001b[38;5;124msong\u001b[39m\u001b[38;5;124m'\u001b[39m]\n\u001b[0;32m     27\u001b[0m \u001b[38;5;66;03m# 데이터 분할\u001b[39;00m\n\u001b[1;32m---> 28\u001b[0m X_train, X_test, y_train, y_test \u001b[38;5;241m=\u001b[39m train_test_split(X, y, test_size\u001b[38;5;241m=\u001b[39m\u001b[38;5;241m0.2\u001b[39m, random_state\u001b[38;5;241m=\u001b[39m\u001b[38;5;241m42\u001b[39m, stratify\u001b[38;5;241m=\u001b[39my)\n\u001b[0;32m     30\u001b[0m \u001b[38;5;66;03m# DMatrix 생성\u001b[39;00m\n\u001b[0;32m     31\u001b[0m dtrain \u001b[38;5;241m=\u001b[39m xgb\u001b[38;5;241m.\u001b[39mDMatrix(X_train, label\u001b[38;5;241m=\u001b[39my_train, enable_categorical\u001b[38;5;241m=\u001b[39m\u001b[38;5;28;01mTrue\u001b[39;00m)\n",
      "File \u001b[1;32m~\\anaconda3\\Lib\\site-packages\\sklearn\\model_selection\\_split.py:2583\u001b[0m, in \u001b[0;36mtrain_test_split\u001b[1;34m(test_size, train_size, random_state, shuffle, stratify, *arrays)\u001b[0m\n\u001b[0;32m   2579\u001b[0m         CVClass \u001b[38;5;241m=\u001b[39m ShuffleSplit\n\u001b[0;32m   2581\u001b[0m     cv \u001b[38;5;241m=\u001b[39m CVClass(test_size\u001b[38;5;241m=\u001b[39mn_test, train_size\u001b[38;5;241m=\u001b[39mn_train, random_state\u001b[38;5;241m=\u001b[39mrandom_state)\n\u001b[1;32m-> 2583\u001b[0m     train, test \u001b[38;5;241m=\u001b[39m \u001b[38;5;28mnext\u001b[39m(cv\u001b[38;5;241m.\u001b[39msplit(X\u001b[38;5;241m=\u001b[39marrays[\u001b[38;5;241m0\u001b[39m], y\u001b[38;5;241m=\u001b[39mstratify))\n\u001b[0;32m   2585\u001b[0m \u001b[38;5;28;01mreturn\u001b[39;00m \u001b[38;5;28mlist\u001b[39m(\n\u001b[0;32m   2586\u001b[0m     chain\u001b[38;5;241m.\u001b[39mfrom_iterable(\n\u001b[0;32m   2587\u001b[0m         (_safe_indexing(a, train), _safe_indexing(a, test)) \u001b[38;5;28;01mfor\u001b[39;00m a \u001b[38;5;129;01min\u001b[39;00m arrays\n\u001b[0;32m   2588\u001b[0m     )\n\u001b[0;32m   2589\u001b[0m )\n",
      "File \u001b[1;32m~\\anaconda3\\Lib\\site-packages\\sklearn\\model_selection\\_split.py:1689\u001b[0m, in \u001b[0;36mBaseShuffleSplit.split\u001b[1;34m(self, X, y, groups)\u001b[0m\n\u001b[0;32m   1659\u001b[0m \u001b[38;5;250m\u001b[39m\u001b[38;5;124;03m\"\"\"Generate indices to split data into training and test set.\u001b[39;00m\n\u001b[0;32m   1660\u001b[0m \n\u001b[0;32m   1661\u001b[0m \u001b[38;5;124;03mParameters\u001b[39;00m\n\u001b[1;32m   (...)\u001b[0m\n\u001b[0;32m   1686\u001b[0m \u001b[38;5;124;03mto an integer.\u001b[39;00m\n\u001b[0;32m   1687\u001b[0m \u001b[38;5;124;03m\"\"\"\u001b[39;00m\n\u001b[0;32m   1688\u001b[0m X, y, groups \u001b[38;5;241m=\u001b[39m indexable(X, y, groups)\n\u001b[1;32m-> 1689\u001b[0m \u001b[38;5;28;01mfor\u001b[39;00m train, test \u001b[38;5;129;01min\u001b[39;00m \u001b[38;5;28mself\u001b[39m\u001b[38;5;241m.\u001b[39m_iter_indices(X, y, groups):\n\u001b[0;32m   1690\u001b[0m     \u001b[38;5;28;01myield\u001b[39;00m train, test\n",
      "File \u001b[1;32m~\\anaconda3\\Lib\\site-packages\\sklearn\\model_selection\\_split.py:2078\u001b[0m, in \u001b[0;36mStratifiedShuffleSplit._iter_indices\u001b[1;34m(self, X, y, groups)\u001b[0m\n\u001b[0;32m   2076\u001b[0m class_counts \u001b[38;5;241m=\u001b[39m np\u001b[38;5;241m.\u001b[39mbincount(y_indices)\n\u001b[0;32m   2077\u001b[0m \u001b[38;5;28;01mif\u001b[39;00m np\u001b[38;5;241m.\u001b[39mmin(class_counts) \u001b[38;5;241m<\u001b[39m \u001b[38;5;241m2\u001b[39m:\n\u001b[1;32m-> 2078\u001b[0m     \u001b[38;5;28;01mraise\u001b[39;00m \u001b[38;5;167;01mValueError\u001b[39;00m(\n\u001b[0;32m   2079\u001b[0m         \u001b[38;5;124m\"\u001b[39m\u001b[38;5;124mThe least populated class in y has only 1\u001b[39m\u001b[38;5;124m\"\u001b[39m\n\u001b[0;32m   2080\u001b[0m         \u001b[38;5;124m\"\u001b[39m\u001b[38;5;124m member, which is too few. The minimum\u001b[39m\u001b[38;5;124m\"\u001b[39m\n\u001b[0;32m   2081\u001b[0m         \u001b[38;5;124m\"\u001b[39m\u001b[38;5;124m number of groups for any class cannot\u001b[39m\u001b[38;5;124m\"\u001b[39m\n\u001b[0;32m   2082\u001b[0m         \u001b[38;5;124m\"\u001b[39m\u001b[38;5;124m be less than 2.\u001b[39m\u001b[38;5;124m\"\u001b[39m\n\u001b[0;32m   2083\u001b[0m     )\n\u001b[0;32m   2085\u001b[0m \u001b[38;5;28;01mif\u001b[39;00m n_train \u001b[38;5;241m<\u001b[39m n_classes:\n\u001b[0;32m   2086\u001b[0m     \u001b[38;5;28;01mraise\u001b[39;00m \u001b[38;5;167;01mValueError\u001b[39;00m(\n\u001b[0;32m   2087\u001b[0m         \u001b[38;5;124m\"\u001b[39m\u001b[38;5;124mThe train_size = \u001b[39m\u001b[38;5;132;01m%d\u001b[39;00m\u001b[38;5;124m should be greater or \u001b[39m\u001b[38;5;124m\"\u001b[39m\n\u001b[0;32m   2088\u001b[0m         \u001b[38;5;124m\"\u001b[39m\u001b[38;5;124mequal to the number of classes = \u001b[39m\u001b[38;5;132;01m%d\u001b[39;00m\u001b[38;5;124m\"\u001b[39m \u001b[38;5;241m%\u001b[39m (n_train, n_classes)\n\u001b[0;32m   2089\u001b[0m     )\n",
      "\u001b[1;31mValueError\u001b[0m: The least populated class in y has only 1 member, which is too few. The minimum number of groups for any class cannot be less than 2."
     ]
    }
   ],
   "source": [
    "# 필요한 열 제외\n",
    "data = data.drop(columns=['curArtist', 'curTitle'])\n",
    "\n",
    "# curExplain, curHead, curObject를 결합하여 새로운 컬럼 생성\n",
    "data['combined'] = data['curExplain'].astype(str) + ' ' + data['curHead'].astype(str) + ' ' + data['curObject'].astype(str)\n",
    "\n",
    "# 범주형 변수를 category 타입으로 변환\n",
    "categorical_cols = ['curColor', 'curColor2', 'curColor3', 'genre', 'song']\n",
    "for col in categorical_cols:\n",
    "    data[col] = data[col].astype('category')\n",
    "\n",
    "# 'song' 열을 Label Encoding\n",
    "label_encoder = LabelEncoder()\n",
    "data['song'] = label_encoder.fit_transform(data['song'])\n",
    "\n",
    "# TF-IDF 벡터화\n",
    "tfidf_vectorizer = TfidfVectorizer(max_features=5000, ngram_range=(1, 2), min_df=2, max_df=0.8)\n",
    "tfidf_matrix = tfidf_vectorizer.fit_transform(data['combined'])\n",
    "\n",
    "# TF-IDF 결과를 데이터프레임으로 변환\n",
    "tfidf_df = pd.DataFrame(tfidf_matrix.toarray(), columns=tfidf_vectorizer.get_feature_names_out())\n",
    "\n",
    "# 모델 학습에 사용할 데이터 준비 (curExplain, curHead, curObject, combined 열 제거)\n",
    "X = pd.concat([data[['curColor', 'curPer', 'curColor2', 'curPer2', 'curColor3', 'curPer3', 'genre']].reset_index(drop=True), tfidf_df.reset_index(drop=True)], axis=1)\n",
    "y = data['song']\n",
    "\n",
    "# DMatrix 생성\n",
    "dtrain = xgb.DMatrix(X, label=y, enable_categorical=True)"
   ]
  },
  {
   "cell_type": "markdown",
   "id": "569edcac-1476-4937-8ea9-fc5dd4e26d3f",
   "metadata": {},
   "source": [
    "#### XGBoost 모델의 특징\n",
    "- 효율적인 구현: XGBoost는 gradient boosting 알고리즘을 효율적으로 구현한 라이브러리입니다. 이를 통해 빠른 학습 속도와 높은 예측 성능을 달성할 수 있습니다.\n",
    "- 다양한 작업 지원: XGBoost는 분류, 회귀, 순위 예측 등 다양한 기계학습 작업을 지원합니다.\n",
    "- 자동 특성 중요도 계산: XGBoost는 자동으로 각 특성의 중요도를 계산하여 제공합니다. 이를 통해 특성 선택 및 모델 해석에 활용할 수 있습니다.\n",
    "- 병렬 처리 지원: XGBoost는 병렬 처리를 지원하여 대용량 데이터에 대한 학습이 가능합니다.\n",
    "#### XGBoost 모델의 하이퍼파라미터\n",
    "- max_depth: 트리의 최대 깊이를 제한하는 하이퍼파라미터입니다. 과적합을 방지하기 위해 적절한 값을 선택해야 합니다.\n",
    "- learning_rate: 각 트리에서 업데이트되는 가중치의 크기를 조절하는 하이퍼파라미터입니다. 작은 값을 사용하면 과적합을 방지할 수 있습니다.\n",
    "- n_estimators: 생성할 트리의 개수를 지정하는 하이퍼파라미터입니다. 적절한 값을 선택하여 모델의 성능을 향상시킬 수 있습니다.\n",
    "- min_child_weight: 리프 노드에서 필요한 최소 샘플 수를 지정하는 하이퍼파라미터입니다. 과적합을 방지하는 데 도움이 됩니다."
   ]
  },
  {
   "cell_type": "code",
   "execution_count": 41,
   "id": "9c6357f3-ffd6-474b-965b-58370b88f588",
   "metadata": {
    "collapsed": true,
    "jupyter": {
     "outputs_hidden": true
    },
    "tags": []
   },
   "outputs": [
    {
     "name": "stdout",
     "output_type": "stream",
     "text": [
      "Fitting 3 folds for each of 9 candidates, totalling 27 fits\n"
     ]
    },
    {
     "ename": "ValueError",
     "evalue": "n_splits=3 cannot be greater than the number of members in each class.",
     "output_type": "error",
     "traceback": [
      "\u001b[1;31m---------------------------------------------------------------------------\u001b[0m",
      "\u001b[1;31mValueError\u001b[0m                                Traceback (most recent call last)",
      "Cell \u001b[1;32mIn[41], line 14\u001b[0m\n\u001b[0;32m     12\u001b[0m xgb_model \u001b[38;5;241m=\u001b[39m xgb\u001b[38;5;241m.\u001b[39mXGBClassifier(use_label_encoder\u001b[38;5;241m=\u001b[39m\u001b[38;5;28;01mFalse\u001b[39;00m, eval_metric\u001b[38;5;241m=\u001b[39m\u001b[38;5;124m'\u001b[39m\u001b[38;5;124mmlogloss\u001b[39m\u001b[38;5;124m'\u001b[39m)\n\u001b[0;32m     13\u001b[0m grid_search \u001b[38;5;241m=\u001b[39m GridSearchCV(estimator\u001b[38;5;241m=\u001b[39mxgb_model, param_grid\u001b[38;5;241m=\u001b[39mparams, scoring\u001b[38;5;241m=\u001b[39m\u001b[38;5;124m'\u001b[39m\u001b[38;5;124maccuracy\u001b[39m\u001b[38;5;124m'\u001b[39m, cv\u001b[38;5;241m=\u001b[39m\u001b[38;5;241m3\u001b[39m, verbose\u001b[38;5;241m=\u001b[39m\u001b[38;5;241m1\u001b[39m)\n\u001b[1;32m---> 14\u001b[0m grid_search\u001b[38;5;241m.\u001b[39mfit(X_res, y_res)\n\u001b[0;32m     16\u001b[0m best_model \u001b[38;5;241m=\u001b[39m grid_search\u001b[38;5;241m.\u001b[39mbest_estimator_\n\u001b[0;32m     18\u001b[0m end_time \u001b[38;5;241m=\u001b[39m time\u001b[38;5;241m.\u001b[39mtime()\n",
      "File \u001b[1;32m~\\anaconda3\\Lib\\site-packages\\sklearn\\model_selection\\_search.py:874\u001b[0m, in \u001b[0;36mBaseSearchCV.fit\u001b[1;34m(self, X, y, groups, **fit_params)\u001b[0m\n\u001b[0;32m    868\u001b[0m     results \u001b[38;5;241m=\u001b[39m \u001b[38;5;28mself\u001b[39m\u001b[38;5;241m.\u001b[39m_format_results(\n\u001b[0;32m    869\u001b[0m         all_candidate_params, n_splits, all_out, all_more_results\n\u001b[0;32m    870\u001b[0m     )\n\u001b[0;32m    872\u001b[0m     \u001b[38;5;28;01mreturn\u001b[39;00m results\n\u001b[1;32m--> 874\u001b[0m \u001b[38;5;28mself\u001b[39m\u001b[38;5;241m.\u001b[39m_run_search(evaluate_candidates)\n\u001b[0;32m    876\u001b[0m \u001b[38;5;66;03m# multimetric is determined here because in the case of a callable\u001b[39;00m\n\u001b[0;32m    877\u001b[0m \u001b[38;5;66;03m# self.scoring the return type is only known after calling\u001b[39;00m\n\u001b[0;32m    878\u001b[0m first_test_score \u001b[38;5;241m=\u001b[39m all_out[\u001b[38;5;241m0\u001b[39m][\u001b[38;5;124m\"\u001b[39m\u001b[38;5;124mtest_scores\u001b[39m\u001b[38;5;124m\"\u001b[39m]\n",
      "File \u001b[1;32m~\\anaconda3\\Lib\\site-packages\\sklearn\\model_selection\\_search.py:1388\u001b[0m, in \u001b[0;36mGridSearchCV._run_search\u001b[1;34m(self, evaluate_candidates)\u001b[0m\n\u001b[0;32m   1386\u001b[0m \u001b[38;5;28;01mdef\u001b[39;00m \u001b[38;5;21m_run_search\u001b[39m(\u001b[38;5;28mself\u001b[39m, evaluate_candidates):\n\u001b[0;32m   1387\u001b[0m \u001b[38;5;250m    \u001b[39m\u001b[38;5;124;03m\"\"\"Search all candidates in param_grid\"\"\"\u001b[39;00m\n\u001b[1;32m-> 1388\u001b[0m     evaluate_candidates(ParameterGrid(\u001b[38;5;28mself\u001b[39m\u001b[38;5;241m.\u001b[39mparam_grid))\n",
      "File \u001b[1;32m~\\anaconda3\\Lib\\site-packages\\sklearn\\model_selection\\_search.py:833\u001b[0m, in \u001b[0;36mBaseSearchCV.fit.<locals>.evaluate_candidates\u001b[1;34m(candidate_params, cv, more_results)\u001b[0m\n\u001b[0;32m    813\u001b[0m \u001b[38;5;28;01mif\u001b[39;00m \u001b[38;5;28mself\u001b[39m\u001b[38;5;241m.\u001b[39mverbose \u001b[38;5;241m>\u001b[39m \u001b[38;5;241m0\u001b[39m:\n\u001b[0;32m    814\u001b[0m     \u001b[38;5;28mprint\u001b[39m(\n\u001b[0;32m    815\u001b[0m         \u001b[38;5;124m\"\u001b[39m\u001b[38;5;124mFitting \u001b[39m\u001b[38;5;132;01m{0}\u001b[39;00m\u001b[38;5;124m folds for each of \u001b[39m\u001b[38;5;132;01m{1}\u001b[39;00m\u001b[38;5;124m candidates,\u001b[39m\u001b[38;5;124m\"\u001b[39m\n\u001b[0;32m    816\u001b[0m         \u001b[38;5;124m\"\u001b[39m\u001b[38;5;124m totalling \u001b[39m\u001b[38;5;132;01m{2}\u001b[39;00m\u001b[38;5;124m fits\u001b[39m\u001b[38;5;124m\"\u001b[39m\u001b[38;5;241m.\u001b[39mformat(\n\u001b[0;32m    817\u001b[0m             n_splits, n_candidates, n_candidates \u001b[38;5;241m*\u001b[39m n_splits\n\u001b[0;32m    818\u001b[0m         )\n\u001b[0;32m    819\u001b[0m     )\n\u001b[0;32m    821\u001b[0m out \u001b[38;5;241m=\u001b[39m parallel(\n\u001b[0;32m    822\u001b[0m     delayed(_fit_and_score)(\n\u001b[0;32m    823\u001b[0m         clone(base_estimator),\n\u001b[0;32m    824\u001b[0m         X,\n\u001b[0;32m    825\u001b[0m         y,\n\u001b[0;32m    826\u001b[0m         train\u001b[38;5;241m=\u001b[39mtrain,\n\u001b[0;32m    827\u001b[0m         test\u001b[38;5;241m=\u001b[39mtest,\n\u001b[0;32m    828\u001b[0m         parameters\u001b[38;5;241m=\u001b[39mparameters,\n\u001b[0;32m    829\u001b[0m         split_progress\u001b[38;5;241m=\u001b[39m(split_idx, n_splits),\n\u001b[0;32m    830\u001b[0m         candidate_progress\u001b[38;5;241m=\u001b[39m(cand_idx, n_candidates),\n\u001b[0;32m    831\u001b[0m         \u001b[38;5;241m*\u001b[39m\u001b[38;5;241m*\u001b[39mfit_and_score_kwargs,\n\u001b[0;32m    832\u001b[0m     )\n\u001b[1;32m--> 833\u001b[0m     \u001b[38;5;28;01mfor\u001b[39;00m (cand_idx, parameters), (split_idx, (train, test)) \u001b[38;5;129;01min\u001b[39;00m product(\n\u001b[0;32m    834\u001b[0m         \u001b[38;5;28menumerate\u001b[39m(candidate_params), \u001b[38;5;28menumerate\u001b[39m(cv\u001b[38;5;241m.\u001b[39msplit(X, y, groups))\n\u001b[0;32m    835\u001b[0m     )\n\u001b[0;32m    836\u001b[0m )\n\u001b[0;32m    838\u001b[0m \u001b[38;5;28;01mif\u001b[39;00m \u001b[38;5;28mlen\u001b[39m(out) \u001b[38;5;241m<\u001b[39m \u001b[38;5;241m1\u001b[39m:\n\u001b[0;32m    839\u001b[0m     \u001b[38;5;28;01mraise\u001b[39;00m \u001b[38;5;167;01mValueError\u001b[39;00m(\n\u001b[0;32m    840\u001b[0m         \u001b[38;5;124m\"\u001b[39m\u001b[38;5;124mNo fits were performed. \u001b[39m\u001b[38;5;124m\"\u001b[39m\n\u001b[0;32m    841\u001b[0m         \u001b[38;5;124m\"\u001b[39m\u001b[38;5;124mWas the CV iterator empty? \u001b[39m\u001b[38;5;124m\"\u001b[39m\n\u001b[0;32m    842\u001b[0m         \u001b[38;5;124m\"\u001b[39m\u001b[38;5;124mWere there no candidates?\u001b[39m\u001b[38;5;124m\"\u001b[39m\n\u001b[0;32m    843\u001b[0m     )\n",
      "File \u001b[1;32m~\\anaconda3\\Lib\\site-packages\\sklearn\\model_selection\\_split.py:352\u001b[0m, in \u001b[0;36m_BaseKFold.split\u001b[1;34m(self, X, y, groups)\u001b[0m\n\u001b[0;32m    344\u001b[0m \u001b[38;5;28;01mif\u001b[39;00m \u001b[38;5;28mself\u001b[39m\u001b[38;5;241m.\u001b[39mn_splits \u001b[38;5;241m>\u001b[39m n_samples:\n\u001b[0;32m    345\u001b[0m     \u001b[38;5;28;01mraise\u001b[39;00m \u001b[38;5;167;01mValueError\u001b[39;00m(\n\u001b[0;32m    346\u001b[0m         (\n\u001b[0;32m    347\u001b[0m             \u001b[38;5;124m\"\u001b[39m\u001b[38;5;124mCannot have number of splits n_splits=\u001b[39m\u001b[38;5;132;01m{0}\u001b[39;00m\u001b[38;5;124m greater\u001b[39m\u001b[38;5;124m\"\u001b[39m\n\u001b[0;32m    348\u001b[0m             \u001b[38;5;124m\"\u001b[39m\u001b[38;5;124m than the number of samples: n_samples=\u001b[39m\u001b[38;5;132;01m{1}\u001b[39;00m\u001b[38;5;124m.\u001b[39m\u001b[38;5;124m\"\u001b[39m\n\u001b[0;32m    349\u001b[0m         )\u001b[38;5;241m.\u001b[39mformat(\u001b[38;5;28mself\u001b[39m\u001b[38;5;241m.\u001b[39mn_splits, n_samples)\n\u001b[0;32m    350\u001b[0m     )\n\u001b[1;32m--> 352\u001b[0m \u001b[38;5;28;01mfor\u001b[39;00m train, test \u001b[38;5;129;01min\u001b[39;00m \u001b[38;5;28msuper\u001b[39m()\u001b[38;5;241m.\u001b[39msplit(X, y, groups):\n\u001b[0;32m    353\u001b[0m     \u001b[38;5;28;01myield\u001b[39;00m train, test\n",
      "File \u001b[1;32m~\\anaconda3\\Lib\\site-packages\\sklearn\\model_selection\\_split.py:85\u001b[0m, in \u001b[0;36mBaseCrossValidator.split\u001b[1;34m(self, X, y, groups)\u001b[0m\n\u001b[0;32m     83\u001b[0m X, y, groups \u001b[38;5;241m=\u001b[39m indexable(X, y, groups)\n\u001b[0;32m     84\u001b[0m indices \u001b[38;5;241m=\u001b[39m np\u001b[38;5;241m.\u001b[39marange(_num_samples(X))\n\u001b[1;32m---> 85\u001b[0m \u001b[38;5;28;01mfor\u001b[39;00m test_index \u001b[38;5;129;01min\u001b[39;00m \u001b[38;5;28mself\u001b[39m\u001b[38;5;241m.\u001b[39m_iter_test_masks(X, y, groups):\n\u001b[0;32m     86\u001b[0m     train_index \u001b[38;5;241m=\u001b[39m indices[np\u001b[38;5;241m.\u001b[39mlogical_not(test_index)]\n\u001b[0;32m     87\u001b[0m     test_index \u001b[38;5;241m=\u001b[39m indices[test_index]\n",
      "File \u001b[1;32m~\\anaconda3\\Lib\\site-packages\\sklearn\\model_selection\\_split.py:733\u001b[0m, in \u001b[0;36mStratifiedKFold._iter_test_masks\u001b[1;34m(self, X, y, groups)\u001b[0m\n\u001b[0;32m    732\u001b[0m \u001b[38;5;28;01mdef\u001b[39;00m \u001b[38;5;21m_iter_test_masks\u001b[39m(\u001b[38;5;28mself\u001b[39m, X, y\u001b[38;5;241m=\u001b[39m\u001b[38;5;28;01mNone\u001b[39;00m, groups\u001b[38;5;241m=\u001b[39m\u001b[38;5;28;01mNone\u001b[39;00m):\n\u001b[1;32m--> 733\u001b[0m     test_folds \u001b[38;5;241m=\u001b[39m \u001b[38;5;28mself\u001b[39m\u001b[38;5;241m.\u001b[39m_make_test_folds(X, y)\n\u001b[0;32m    734\u001b[0m     \u001b[38;5;28;01mfor\u001b[39;00m i \u001b[38;5;129;01min\u001b[39;00m \u001b[38;5;28mrange\u001b[39m(\u001b[38;5;28mself\u001b[39m\u001b[38;5;241m.\u001b[39mn_splits):\n\u001b[0;32m    735\u001b[0m         \u001b[38;5;28;01myield\u001b[39;00m test_folds \u001b[38;5;241m==\u001b[39m i\n",
      "File \u001b[1;32m~\\anaconda3\\Lib\\site-packages\\sklearn\\model_selection\\_split.py:695\u001b[0m, in \u001b[0;36mStratifiedKFold._make_test_folds\u001b[1;34m(self, X, y)\u001b[0m\n\u001b[0;32m    693\u001b[0m min_groups \u001b[38;5;241m=\u001b[39m np\u001b[38;5;241m.\u001b[39mmin(y_counts)\n\u001b[0;32m    694\u001b[0m \u001b[38;5;28;01mif\u001b[39;00m np\u001b[38;5;241m.\u001b[39mall(\u001b[38;5;28mself\u001b[39m\u001b[38;5;241m.\u001b[39mn_splits \u001b[38;5;241m>\u001b[39m y_counts):\n\u001b[1;32m--> 695\u001b[0m     \u001b[38;5;28;01mraise\u001b[39;00m \u001b[38;5;167;01mValueError\u001b[39;00m(\n\u001b[0;32m    696\u001b[0m         \u001b[38;5;124m\"\u001b[39m\u001b[38;5;124mn_splits=\u001b[39m\u001b[38;5;132;01m%d\u001b[39;00m\u001b[38;5;124m cannot be greater than the\u001b[39m\u001b[38;5;124m\"\u001b[39m\n\u001b[0;32m    697\u001b[0m         \u001b[38;5;124m\"\u001b[39m\u001b[38;5;124m number of members in each class.\u001b[39m\u001b[38;5;124m\"\u001b[39m \u001b[38;5;241m%\u001b[39m (\u001b[38;5;28mself\u001b[39m\u001b[38;5;241m.\u001b[39mn_splits)\n\u001b[0;32m    698\u001b[0m     )\n\u001b[0;32m    699\u001b[0m \u001b[38;5;28;01mif\u001b[39;00m \u001b[38;5;28mself\u001b[39m\u001b[38;5;241m.\u001b[39mn_splits \u001b[38;5;241m>\u001b[39m min_groups:\n\u001b[0;32m    700\u001b[0m     warnings\u001b[38;5;241m.\u001b[39mwarn(\n\u001b[0;32m    701\u001b[0m         \u001b[38;5;124m\"\u001b[39m\u001b[38;5;124mThe least populated class in y has only \u001b[39m\u001b[38;5;132;01m%d\u001b[39;00m\u001b[38;5;124m\"\u001b[39m\n\u001b[0;32m    702\u001b[0m         \u001b[38;5;124m\"\u001b[39m\u001b[38;5;124m members, which is less than n_splits=\u001b[39m\u001b[38;5;132;01m%d\u001b[39;00m\u001b[38;5;124m.\u001b[39m\u001b[38;5;124m\"\u001b[39m\n\u001b[0;32m    703\u001b[0m         \u001b[38;5;241m%\u001b[39m (min_groups, \u001b[38;5;28mself\u001b[39m\u001b[38;5;241m.\u001b[39mn_splits),\n\u001b[0;32m    704\u001b[0m         \u001b[38;5;167;01mUserWarning\u001b[39;00m,\n\u001b[0;32m    705\u001b[0m     )\n",
      "\u001b[1;31mValueError\u001b[0m: n_splits=3 cannot be greater than the number of members in each class."
     ]
    }
   ],
   "source": [
    "# 모델 파라미터 설정\n",
    "params = {\n",
    "    'objective': 'multi:softmax',\n",
    "    'learning_rate': 0.05,\n",
    "    'max_depth': 6,\n",
    "    'num_class': len(label_encoder.classes_)\n",
    "}\n",
    "\n",
    "# 학습 시간 측정\n",
    "start_time = time.time()\n",
    "model = xgb.train(params, dtrain, num_boost_round=100)\n",
    "end_time = time.time()\n",
    "\n",
    "# 학습 시간\n",
    "training_time = end_time - start_time\n",
    "print(f'학습 시간: {training_time} 초')\n",
    "\n",
    "\n",
    "\n",
    "# 모델 평가\n",
    "y_pred = model.predict(dtest)\n",
    "y_pred = y_pred.astype(int)\n",
    "\n",
    "# 예측된 레이블을 원래 값으로 변환\n",
    "y_pred_original = label_encoder.inverse_transform(y_pred)\n",
    "y_test_original = label_encoder.inverse_transform(y_test)\n",
    "\n",
    "# 평가 지표 출력\n",
    "print(\"Classification Report:\")\n",
    "print(classification_report(y_test_original, y_pred_original))\n",
    "\n",
    "print(\"Confusion Matrix:\")\n",
    "print(confusion_matrix(y_test_original, y_pred_original))"
   ]
  },
  {
   "cell_type": "code",
   "execution_count": 23,
   "id": "7c6d3623-4976-47d1-a53b-a69d2b96d388",
   "metadata": {
    "tags": []
   },
   "outputs": [],
   "source": [
    "# 모델 저장\n",
    "with open('xgboost_model4.pkl', 'wb') as f:\n",
    "    pickle.dump(model, f)"
   ]
  },
  {
   "cell_type": "code",
   "execution_count": null,
   "id": "b4856919-7fce-4198-8f7d-b2fe610be2a9",
   "metadata": {},
   "outputs": [],
   "source": [
    "# 모델 평가\n",
    "y_pred = model.predict(dtest)\n",
    "y_pred = y_pred.astype(int)\n",
    "\n",
    "# 예측된 레이블을 원래 값으로 변환\n",
    "y_pred_original = label_encoder.inverse_transform(y_pred)\n",
    "y_test_original = label_encoder.inverse_transform(y_test)\n",
    "\n",
    "# 평가 지표 출력\n",
    "print(\"Classification Report:\")\n",
    "print(classification_report(y_test_original, y_pred_original))\n",
    "\n",
    "print(\"Confusion Matrix:\")\n",
    "print(confusion_matrix(y_test_original, y_pred_original))"
   ]
  },
  {
   "cell_type": "code",
   "execution_count": null,
   "id": "b53ef6c9-680c-4efd-9641-a87d18ad8fda",
   "metadata": {},
   "outputs": [],
   "source": [
    "\n",
    "\n",
    "# 예측된 레이블을 원래 값으로 변환\n",
    "y_pred_original = label_encoder.inverse_transform(y_pred.astype(int))\n",
    "\n",
    "# 예측 결과 출력\n",
    "print(\"예측된 결과 (원래 값으로 변환):\")\n",
    "print(y_pred_original)"
   ]
  },
  {
   "cell_type": "code",
   "execution_count": null,
   "id": "8bd873b9-f1f6-4250-864c-c27b9c05f31a",
   "metadata": {},
   "outputs": [],
   "source": [
    "# TF-IDF와 레이블 인코더 저장\n",
    "with open('tfidf_vectorizer4.pkl', 'wb') as f:\n",
    "    pickle.dump(tfidf_vectorizer, f)\n",
    "\n",
    "with open('tfidf_matrix4.pkl', 'wb') as f:\n",
    "    pickle.dump(tfidf_matrix, f)\n",
    "\n",
    "with open('label_encoder4.pkl', 'wb') as f:\n",
    "    pickle.dump(label_encoder, f)"
   ]
  },
  {
   "cell_type": "markdown",
   "id": "7362fa5d-6025-4fdb-9195-e12b22989164",
   "metadata": {},
   "source": [
    "#### 입력값 예측 함수"
   ]
  },
  {
   "cell_type": "code",
   "execution_count": 24,
   "id": "3b19dfe0-6205-4c51-bc7d-f19d7bb9f779",
   "metadata": {},
   "outputs": [],
   "source": [
    "import numpy as np\n",
    "\n",
    "# 사용자 입력을 받아 예측하는 함수\n",
    "def recommend_songs(model, label_encoder, tfidf_vectorizer, tfidf_matrix, input_keywords, input_genre, n_recommendations=15):\n",
    "    # 입력 키워드를 TF-IDF 벡터화\n",
    "    input_vector = tfidf_vectorizer.transform([input_keywords])\n",
    "    \n",
    "    # 코사인 유사도 계산\n",
    "    cosine_sim = cosine_similarity(input_vector, tfidf_matrix)\n",
    "    \n",
    "    # 입력한 장르와 일치하는 인덱스 필터링\n",
    "    genre_indices = data[data['genre'] == input_genre].index\n",
    "    \n",
    "    # 유사도가 높은 순서로 정렬된 인덱스\n",
    "    sorted_indices = genre_indices[np.argsort(-cosine_sim[0][genre_indices])]\n",
    "    \n",
    "    # 상위 n개의 유사한 노래 추천\n",
    "    recommended_song_indices = sorted_indices[:n_recommendations]\n",
    "    recommended_songs = label_encoder.inverse_transform(data.loc[recommended_song_indices, 'song'])\n",
    "    \n",
    "    return recommended_songs"
   ]
  },
  {
   "cell_type": "code",
   "execution_count": 25,
   "id": "edc037be-86d1-433f-9712-a9b5d8614797",
   "metadata": {},
   "outputs": [],
   "source": [
    "# 저장된 TF-IDF 벡터화 및 레이블 인코더 불러오기\n",
    "with open('tfidf_vectorizer4.pkl', 'rb') as f:\n",
    "    tfidf_vectorizer = pickle.load(f)\n",
    "\n",
    "with open('label_encoder4.pkl', 'rb') as f:\n",
    "    label_encoder = pickle.load(f)\n",
    "\n",
    "with open('tfidf_matrix4.pkl', 'rb') as f:\n",
    "    tfidf_matrix = pickle.load(f)\n",
    "\n",
    "# 저장된 모델 불러오기\n",
    "with open('xgboost_model4.pkl', 'rb') as f:\n",
    "    loaded_model = pickle.load(f)"
   ]
  },
  {
   "cell_type": "code",
   "execution_count": 31,
   "id": "d2dd67c2-86a4-44b7-be6b-957f7345ca93",
   "metadata": {
    "tags": []
   },
   "outputs": [
    {
     "name": "stdout",
     "output_type": "stream",
     "text": [
      "추천된 노래들:\n",
      "정아로 - 아닌데\n",
      "선예 - 울지 않을게\n",
      "비비 - 우리가 헤어져야 했던 이유\n",
      "밀리그램 - 애벌레\n",
      "카더가든 - 그대 작은 나의 세상이 되어\n",
      "죠지 - 바라봐줘요\n",
      "SOLE - 아무말도\n",
      "BehindtheMoon - 너만의나\n",
      "라디 - 들어봐줘요\n",
      "조소정 - 물음표가 가득한 나의 밤\n",
      "CHEEZE - 퇴근시간\n",
      "nov - 수고했어요\n",
      "선예 - 울지 않을게\n",
      "DOKO - 날 사랑하지 말아요\n",
      "임한별 - 안녕, 오늘의 그대에게\n"
     ]
    }
   ],
   "source": [
    "# 사용자 입력 예제\n",
    "input_keywords = '신나는 운동중 바다'\n",
    "input_genre = '발라드'\n",
    "\n",
    "# 예측 수행\n",
    "recommended_songs = recommend_songs(loaded_model, label_encoder, tfidf_vectorizer, tfidf_matrix, input_keywords, input_genre, n_recommendations=15)\n",
    "print(\"추천된 노래들:\")\n",
    "for song in recommended_songs:\n",
    "    print(song)"
   ]
  },
  {
   "cell_type": "code",
   "execution_count": 32,
   "id": "6277c208-6fb2-474c-bea8-0e8a5e8b5315",
   "metadata": {},
   "outputs": [
    {
     "name": "stdout",
     "output_type": "stream",
     "text": [
      "추천 시스템 정확도: 0.023064250411861616\n",
      "추천 시스템 정밀도: 0.9333333333333333\n",
      "추천 시스템 재현율: 0.023064250411861616\n",
      "추천 시스템 F1 점수: 0.04501607717041801\n"
     ]
    }
   ],
   "source": [
    "# 추천된 결과를 평가하는 함수\n",
    "def evaluate_recommendations(recommended_songs, actual_songs):\n",
    "    intersection = set(recommended_songs).intersection(set(actual_songs))\n",
    "    accuracy = len(intersection) / len(actual_songs)\n",
    "    precision = len(intersection) / len(recommended_songs)\n",
    "    recall = len(intersection) / len(actual_songs)\n",
    "    if precision + recall == 0:\n",
    "        f1 = 0\n",
    "    else:\n",
    "        f1 = 2 * (precision * recall) / (precision + recall)\n",
    "    return accuracy, precision, recall, f1\n",
    "\n",
    "# 실제 장르 내 노래 목록\n",
    "actual_songs = label_encoder.inverse_transform(data[data['genre'] == input_genre]['song'])\n",
    "\n",
    "# 평가 수행\n",
    "accuracy, precision, recall, f1 = evaluate_recommendations(recommended_songs, actual_songs)\n",
    "print(f'추천 시스템 정확도: {accuracy}')\n",
    "print(f'추천 시스템 정밀도: {precision}')\n",
    "print(f'추천 시스템 재현율: {recall}')\n",
    "print(f'추천 시스템 F1 점수: {f1}')"
   ]
  },
  {
   "cell_type": "code",
   "execution_count": null,
   "id": "5f76e35e-b74b-408c-9756-18572314cf84",
   "metadata": {},
   "outputs": [],
   "source": []
  },
  {
   "cell_type": "code",
   "execution_count": null,
   "id": "731427c2-7a01-4836-b5ae-e296940f6a09",
   "metadata": {},
   "outputs": [],
   "source": []
  },
  {
   "cell_type": "code",
   "execution_count": null,
   "id": "3410d5a6-b80b-491d-bfc7-80439f5fcec0",
   "metadata": {},
   "outputs": [],
   "source": []
  },
  {
   "cell_type": "code",
   "execution_count": null,
   "id": "3d9a5d2d-4805-426f-8260-93407f2f0614",
   "metadata": {},
   "outputs": [],
   "source": []
  },
  {
   "cell_type": "code",
   "execution_count": null,
   "id": "a685ee62-ba16-4fcf-813d-b45738dbcc06",
   "metadata": {},
   "outputs": [],
   "source": []
  },
  {
   "cell_type": "code",
   "execution_count": null,
   "id": "f63b6d94-d0a3-4d34-8c76-1342ab7c9523",
   "metadata": {},
   "outputs": [],
   "source": []
  }
 ],
 "metadata": {
  "kernelspec": {
   "display_name": "Python 3 (ipykernel)",
   "language": "python",
   "name": "python3"
  },
  "language_info": {
   "codemirror_mode": {
    "name": "ipython",
    "version": 3
   },
   "file_extension": ".py",
   "mimetype": "text/x-python",
   "name": "python",
   "nbconvert_exporter": "python",
   "pygments_lexer": "ipython3",
   "version": "3.11.5"
  }
 },
 "nbformat": 4,
 "nbformat_minor": 5
}
