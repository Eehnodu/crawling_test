{
 "cells": [
  {
   "cell_type": "code",
   "execution_count": 1,
   "id": "d4896d53-7eed-4e8d-ba5e-9daeb943ea5c",
   "metadata": {
    "tags": []
   },
   "outputs": [],
   "source": [
    "import pandas as pd"
   ]
  },
  {
   "cell_type": "code",
   "execution_count": 2,
   "id": "8eeac9b9-eded-410a-8584-e0440e06af40",
   "metadata": {
    "tags": []
   },
   "outputs": [
    {
     "data": {
      "text/html": [
       "<div>\n",
       "<style scoped>\n",
       "    .dataframe tbody tr th:only-of-type {\n",
       "        vertical-align: middle;\n",
       "    }\n",
       "\n",
       "    .dataframe tbody tr th {\n",
       "        vertical-align: top;\n",
       "    }\n",
       "\n",
       "    .dataframe thead th {\n",
       "        text-align: right;\n",
       "    }\n",
       "</style>\n",
       "<table border=\"1\" class=\"dataframe\">\n",
       "  <thead>\n",
       "    <tr style=\"text-align: right;\">\n",
       "      <th></th>\n",
       "      <th>img</th>\n",
       "      <th>curHead</th>\n",
       "      <th>curArtist</th>\n",
       "      <th>curTitle</th>\n",
       "      <th>curColor</th>\n",
       "      <th>curPer</th>\n",
       "      <th>curExplain</th>\n",
       "      <th>curObject</th>\n",
       "    </tr>\n",
       "  </thead>\n",
       "  <tbody>\n",
       "    <tr>\n",
       "      <th>0</th>\n",
       "      <td>https://img.youtube.com/vi/G8MoUQHat_c/maxresd...</td>\n",
       "      <td>드라이브할맛나게하는트렌디하고세련된알앤비국내힙합ㅣR&amp;BHipHop</td>\n",
       "      <td>BIGNaughty</td>\n",
       "      <td>Vancouver</td>\n",
       "      <td>[13, 13, 13]</td>\n",
       "      <td>56.892578</td>\n",
       "      <td>NaN</td>\n",
       "      <td>NaN</td>\n",
       "    </tr>\n",
       "    <tr>\n",
       "      <th>1</th>\n",
       "      <td>https://img.youtube.com/vi/G8MoUQHat_c/maxresd...</td>\n",
       "      <td>드라이브할맛나게하는트렌디하고세련된알앤비국내힙합ㅣR&amp;BHipHop</td>\n",
       "      <td>BIGNaughty</td>\n",
       "      <td>Vancouver</td>\n",
       "      <td>[116, 116, 116]</td>\n",
       "      <td>36.462674</td>\n",
       "      <td>NaN</td>\n",
       "      <td>NaN</td>\n",
       "    </tr>\n",
       "    <tr>\n",
       "      <th>2</th>\n",
       "      <td>https://img.youtube.com/vi/G8MoUQHat_c/maxresd...</td>\n",
       "      <td>드라이브할맛나게하는트렌디하고세련된알앤비국내힙합ㅣR&amp;BHipHop</td>\n",
       "      <td>BIGNaughty</td>\n",
       "      <td>Vancouver</td>\n",
       "      <td>[193, 193, 193]</td>\n",
       "      <td>6.644748</td>\n",
       "      <td>NaN</td>\n",
       "      <td>NaN</td>\n",
       "    </tr>\n",
       "    <tr>\n",
       "      <th>3</th>\n",
       "      <td>https://img.youtube.com/vi/G8MoUQHat_c/maxresd...</td>\n",
       "      <td>드라이브할맛나게하는트렌디하고세련된알앤비국내힙합ㅣR&amp;BHipHop</td>\n",
       "      <td>박재범</td>\n",
       "      <td>Like I Do</td>\n",
       "      <td>[13, 13, 13]</td>\n",
       "      <td>56.892578</td>\n",
       "      <td>NaN</td>\n",
       "      <td>NaN</td>\n",
       "    </tr>\n",
       "    <tr>\n",
       "      <th>4</th>\n",
       "      <td>https://img.youtube.com/vi/G8MoUQHat_c/maxresd...</td>\n",
       "      <td>드라이브할맛나게하는트렌디하고세련된알앤비국내힙합ㅣR&amp;BHipHop</td>\n",
       "      <td>박재범</td>\n",
       "      <td>Like I Do</td>\n",
       "      <td>[116, 116, 116]</td>\n",
       "      <td>36.462674</td>\n",
       "      <td>NaN</td>\n",
       "      <td>NaN</td>\n",
       "    </tr>\n",
       "    <tr>\n",
       "      <th>...</th>\n",
       "      <td>...</td>\n",
       "      <td>...</td>\n",
       "      <td>...</td>\n",
       "      <td>...</td>\n",
       "      <td>...</td>\n",
       "      <td>...</td>\n",
       "      <td>...</td>\n",
       "      <td>...</td>\n",
       "    </tr>\n",
       "    <tr>\n",
       "      <th>64480</th>\n",
       "      <td>https://img.youtube.com/vi/jwPH69NoBP8/maxresd...</td>\n",
       "      <td>영혼까지신나! 청량터지는트로피컬EDM플레이리스트 ️</td>\n",
       "      <td>NeonDreams(네온드림즈)</td>\n",
       "      <td>High School Dropout</td>\n",
       "      <td>NaN</td>\n",
       "      <td>NaN</td>\n",
       "      <td>#신나는 #플레이리스트 #여름</td>\n",
       "      <td>NaN</td>\n",
       "    </tr>\n",
       "    <tr>\n",
       "      <th>64481</th>\n",
       "      <td>https://img.youtube.com/vi/jwPH69NoBP8/maxresd...</td>\n",
       "      <td>영혼까지신나! 청량터지는트로피컬EDM플레이리스트 ️</td>\n",
       "      <td>NeonDreams(네온드림즈)</td>\n",
       "      <td>High School Dropout</td>\n",
       "      <td>NaN</td>\n",
       "      <td>NaN</td>\n",
       "      <td>#신나는 #플레이리스트 #여름</td>\n",
       "      <td>NaN</td>\n",
       "    </tr>\n",
       "    <tr>\n",
       "      <th>64482</th>\n",
       "      <td>https://img.youtube.com/vi/jwPH69NoBP8/maxresd...</td>\n",
       "      <td>영혼까지신나! 청량터지는트로피컬EDM플레이리스트 ️</td>\n",
       "      <td>Zerb</td>\n",
       "      <td>With You</td>\n",
       "      <td>NaN</td>\n",
       "      <td>NaN</td>\n",
       "      <td>#신나는 #플레이리스트 #여름</td>\n",
       "      <td>NaN</td>\n",
       "    </tr>\n",
       "    <tr>\n",
       "      <th>64483</th>\n",
       "      <td>https://img.youtube.com/vi/jwPH69NoBP8/maxresd...</td>\n",
       "      <td>영혼까지신나! 청량터지는트로피컬EDM플레이리스트 ️</td>\n",
       "      <td>Zerb</td>\n",
       "      <td>With You</td>\n",
       "      <td>NaN</td>\n",
       "      <td>NaN</td>\n",
       "      <td>#신나는 #플레이리스트 #여름</td>\n",
       "      <td>NaN</td>\n",
       "    </tr>\n",
       "    <tr>\n",
       "      <th>64484</th>\n",
       "      <td>https://img.youtube.com/vi/jwPH69NoBP8/maxresd...</td>\n",
       "      <td>영혼까지신나! 청량터지는트로피컬EDM플레이리스트 ️</td>\n",
       "      <td>Zerb</td>\n",
       "      <td>With You</td>\n",
       "      <td>NaN</td>\n",
       "      <td>NaN</td>\n",
       "      <td>#신나는 #플레이리스트 #여름</td>\n",
       "      <td>NaN</td>\n",
       "    </tr>\n",
       "  </tbody>\n",
       "</table>\n",
       "<p>64485 rows × 8 columns</p>\n",
       "</div>"
      ],
      "text/plain": [
       "                                                     img  \\\n",
       "0      https://img.youtube.com/vi/G8MoUQHat_c/maxresd...   \n",
       "1      https://img.youtube.com/vi/G8MoUQHat_c/maxresd...   \n",
       "2      https://img.youtube.com/vi/G8MoUQHat_c/maxresd...   \n",
       "3      https://img.youtube.com/vi/G8MoUQHat_c/maxresd...   \n",
       "4      https://img.youtube.com/vi/G8MoUQHat_c/maxresd...   \n",
       "...                                                  ...   \n",
       "64480  https://img.youtube.com/vi/jwPH69NoBP8/maxresd...   \n",
       "64481  https://img.youtube.com/vi/jwPH69NoBP8/maxresd...   \n",
       "64482  https://img.youtube.com/vi/jwPH69NoBP8/maxresd...   \n",
       "64483  https://img.youtube.com/vi/jwPH69NoBP8/maxresd...   \n",
       "64484  https://img.youtube.com/vi/jwPH69NoBP8/maxresd...   \n",
       "\n",
       "                                   curHead          curArtist  \\\n",
       "0      드라이브할맛나게하는트렌디하고세련된알앤비국내힙합ㅣR&BHipHop         BIGNaughty   \n",
       "1      드라이브할맛나게하는트렌디하고세련된알앤비국내힙합ㅣR&BHipHop         BIGNaughty   \n",
       "2      드라이브할맛나게하는트렌디하고세련된알앤비국내힙합ㅣR&BHipHop         BIGNaughty   \n",
       "3      드라이브할맛나게하는트렌디하고세련된알앤비국내힙합ㅣR&BHipHop                박재범   \n",
       "4      드라이브할맛나게하는트렌디하고세련된알앤비국내힙합ㅣR&BHipHop                박재범   \n",
       "...                                    ...                ...   \n",
       "64480         영혼까지신나! 청량터지는트로피컬EDM플레이리스트 ️  NeonDreams(네온드림즈)   \n",
       "64481         영혼까지신나! 청량터지는트로피컬EDM플레이리스트 ️  NeonDreams(네온드림즈)   \n",
       "64482         영혼까지신나! 청량터지는트로피컬EDM플레이리스트 ️               Zerb   \n",
       "64483         영혼까지신나! 청량터지는트로피컬EDM플레이리스트 ️               Zerb   \n",
       "64484         영혼까지신나! 청량터지는트로피컬EDM플레이리스트 ️               Zerb   \n",
       "\n",
       "                  curTitle         curColor     curPer        curExplain  \\\n",
       "0              Vancouver       [13, 13, 13]  56.892578               NaN   \n",
       "1              Vancouver    [116, 116, 116]  36.462674               NaN   \n",
       "2              Vancouver    [193, 193, 193]   6.644748               NaN   \n",
       "3               Like I Do      [13, 13, 13]  56.892578               NaN   \n",
       "4               Like I Do   [116, 116, 116]  36.462674               NaN   \n",
       "...                    ...              ...        ...               ...   \n",
       "64480  High School Dropout              NaN        NaN  #신나는 #플레이리스트 #여름   \n",
       "64481  High School Dropout              NaN        NaN  #신나는 #플레이리스트 #여름   \n",
       "64482             With You              NaN        NaN  #신나는 #플레이리스트 #여름   \n",
       "64483             With You              NaN        NaN  #신나는 #플레이리스트 #여름   \n",
       "64484             With You              NaN        NaN  #신나는 #플레이리스트 #여름   \n",
       "\n",
       "      curObject  \n",
       "0           NaN  \n",
       "1           NaN  \n",
       "2           NaN  \n",
       "3           NaN  \n",
       "4           NaN  \n",
       "...         ...  \n",
       "64480       NaN  \n",
       "64481       NaN  \n",
       "64482       NaN  \n",
       "64483       NaN  \n",
       "64484       NaN  \n",
       "\n",
       "[64485 rows x 8 columns]"
      ]
     },
     "execution_count": 2,
     "metadata": {},
     "output_type": "execute_result"
    }
   ],
   "source": [
    "df = pd.read_csv('큐레이션통합6.csv')\n",
    "df"
   ]
  },
  {
   "cell_type": "code",
   "execution_count": 4,
   "id": "756f24aa-a88e-4e9a-8588-e410c66cc924",
   "metadata": {
    "tags": []
   },
   "outputs": [],
   "source": [
    "a = []\n",
    "for i in df['img'].unique():\n",
    "    a.append(i)"
   ]
  },
  {
   "cell_type": "code",
   "execution_count": 8,
   "id": "b4a4edf2-add1-4399-9551-fc2d26b44acb",
   "metadata": {
    "tags": []
   },
   "outputs": [
    {
     "data": {
      "text/plain": [
       "'https://img.youtube.com/vi/mG0iydK-lkU/maxresdefault.jpg'"
      ]
     },
     "execution_count": 8,
     "metadata": {},
     "output_type": "execute_result"
    }
   ],
   "source": [
    "a[61]"
   ]
  },
  {
   "cell_type": "code",
   "execution_count": 7,
   "id": "1f0176fc-6016-4319-a8cf-be34d8e6dbf6",
   "metadata": {
    "tags": []
   },
   "outputs": [
    {
     "data": {
      "text/plain": [
       "1110"
      ]
     },
     "execution_count": 7,
     "metadata": {},
     "output_type": "execute_result"
    }
   ],
   "source": []
  },
  {
   "cell_type": "code",
   "execution_count": null,
   "id": "d25d9c2a-5f86-47e2-a1b7-0ec39e1aa15e",
   "metadata": {},
   "outputs": [],
   "source": []
  }
 ],
 "metadata": {
  "kernelspec": {
   "display_name": "Python 3 (ipykernel)",
   "language": "python",
   "name": "python3"
  },
  "language_info": {
   "codemirror_mode": {
    "name": "ipython",
    "version": 3
   },
   "file_extension": ".py",
   "mimetype": "text/x-python",
   "name": "python",
   "nbconvert_exporter": "python",
   "pygments_lexer": "ipython3",
   "version": "3.11.5"
  }
 },
 "nbformat": 4,
 "nbformat_minor": 5
}
